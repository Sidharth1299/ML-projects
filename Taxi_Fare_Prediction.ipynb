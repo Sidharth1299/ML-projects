{
  "cells": [
    {
      "cell_type": "code",
      "execution_count": null,
      "id": "ee59bd4c",
      "metadata": {
        "_cell_guid": "b1076dfc-b9ad-4769-8c92-a6c4dae69d19",
        "_uuid": "8f2839f25d086af736a60e9eeb907d3b93b6e0e5",
        "execution": {
          "iopub.execute_input": "2023-12-13T05:34:37.233448Z",
          "iopub.status.busy": "2023-12-13T05:34:37.232686Z",
          "iopub.status.idle": "2023-12-13T05:34:38.115034Z",
          "shell.execute_reply": "2023-12-13T05:34:38.113748Z"
        },
        "papermill": {
          "duration": 0.923084,
          "end_time": "2023-12-13T05:34:38.118423",
          "exception": false,
          "start_time": "2023-12-13T05:34:37.195339",
          "status": "completed"
        },
        "tags": [],
        "id": "ee59bd4c",
        "outputId": "e838c4b7-322b-490c-f05a-210ecd655995"
      },
      "outputs": [
        {
          "name": "stdout",
          "output_type": "stream",
          "text": [
            "/kaggle/input/taxi-fare-guru-total-amount-prediction-challenge/sample.csv.csv\n",
            "/kaggle/input/taxi-fare-guru-total-amount-prediction-challenge/train.csv\n",
            "/kaggle/input/taxi-fare-guru-total-amount-prediction-challenge/test.csv\n"
          ]
        }
      ],
      "source": [
        "# This Python 3 environment comes with many helpful analytics libraries installed\n",
        "# It is defined by the kaggle/python Docker image: https://github.com/kaggle/docker-python\n",
        "# For example, here's several helpful packages to load\n",
        "\n",
        "import numpy as np # linear algebra\n",
        "import pandas as pd # data processing, CSV file I/O (e.g. pd.read_csv)\n",
        "\n",
        "# Input data files are available in the read-only \"../input/\" directory\n",
        "# For example, running this (by clicking run or pressing Shift+Enter) will list all files under the input directory\n",
        "\n",
        "import os\n",
        "for dirname, _, filenames in os.walk('/kaggle/input'):\n",
        "    for filename in filenames:\n",
        "        print(os.path.join(dirname, filename))\n",
        "\n",
        "# You can write up to 20GB to the current directory (/kaggle/working/) that gets preserved as output when you create a version using \"Save & Run All\"\n",
        "# You can also write temporary files to /kaggle/temp/, but they won't be saved outside of the current session"
      ]
    },
    {
      "cell_type": "markdown",
      "id": "8d4cf6a8",
      "metadata": {
        "papermill": {
          "duration": 0.039246,
          "end_time": "2023-12-13T05:34:38.206740",
          "exception": false,
          "start_time": "2023-12-13T05:34:38.167494",
          "status": "completed"
        },
        "tags": [],
        "id": "8d4cf6a8"
      },
      "source": [
        "\n",
        "### The following project aims to predict the taxi fare based on the model learnt on a dataset which contains past taxi ride records. The data offers us certain attributes of the taxi rides and based on that we wish to train a model in order to predict what the taxi fares could be. This is going to be a Supervised Machine Learning problem and we would be building regression models."
      ]
    },
    {
      "cell_type": "code",
      "execution_count": null,
      "id": "bd5c4163",
      "metadata": {
        "execution": {
          "iopub.execute_input": "2023-12-13T05:34:38.282250Z",
          "iopub.status.busy": "2023-12-13T05:34:38.281093Z",
          "iopub.status.idle": "2023-12-13T05:34:40.774794Z",
          "shell.execute_reply": "2023-12-13T05:34:40.773467Z"
        },
        "papermill": {
          "duration": 2.534577,
          "end_time": "2023-12-13T05:34:40.777709",
          "exception": false,
          "start_time": "2023-12-13T05:34:38.243132",
          "status": "completed"
        },
        "tags": [],
        "id": "bd5c4163"
      },
      "outputs": [],
      "source": [
        "#Importing the necessary libraries.\n",
        "import numpy as np\n",
        "import pandas as pd\n",
        "import matplotlib.pyplot as plt\n",
        "import seaborn as sns\n",
        "from sklearn.metrics import r2_score,mean_squared_error\n",
        "from sklearn.ensemble import RandomForestRegressor\n"
      ]
    },
    {
      "cell_type": "markdown",
      "id": "03a1a74d",
      "metadata": {
        "papermill": {
          "duration": 0.035439,
          "end_time": "2023-12-13T05:34:40.849144",
          "exception": false,
          "start_time": "2023-12-13T05:34:40.813705",
          "status": "completed"
        },
        "tags": [],
        "id": "03a1a74d"
      },
      "source": [
        "# Reading the Training data into a Pandas Dataframe."
      ]
    },
    {
      "cell_type": "code",
      "execution_count": null,
      "id": "05e2176e",
      "metadata": {
        "execution": {
          "iopub.execute_input": "2023-12-13T05:34:40.985308Z",
          "iopub.status.busy": "2023-12-13T05:34:40.984839Z",
          "iopub.status.idle": "2023-12-13T05:34:41.859401Z",
          "shell.execute_reply": "2023-12-13T05:34:41.858273Z"
        },
        "papermill": {
          "duration": 0.914333,
          "end_time": "2023-12-13T05:34:41.861874",
          "exception": false,
          "start_time": "2023-12-13T05:34:40.947541",
          "status": "completed"
        },
        "tags": [],
        "id": "05e2176e",
        "outputId": "0c132f3b-82fd-45c9-e103-e04c5c870999"
      },
      "outputs": [
        {
          "name": "stdout",
          "output_type": "stream",
          "text": [
            "(175000, 17)\n"
          ]
        },
        {
          "data": {
            "text/html": [
              "<div>\n",
              "<style scoped>\n",
              "    .dataframe tbody tr th:only-of-type {\n",
              "        vertical-align: middle;\n",
              "    }\n",
              "\n",
              "    .dataframe tbody tr th {\n",
              "        vertical-align: top;\n",
              "    }\n",
              "\n",
              "    .dataframe thead th {\n",
              "        text-align: right;\n",
              "    }\n",
              "</style>\n",
              "<table border=\"1\" class=\"dataframe\">\n",
              "  <thead>\n",
              "    <tr style=\"text-align: right;\">\n",
              "      <th></th>\n",
              "      <th>VendorID</th>\n",
              "      <th>tpep_pickup_datetime</th>\n",
              "      <th>tpep_dropoff_datetime</th>\n",
              "      <th>passenger_count</th>\n",
              "      <th>trip_distance</th>\n",
              "      <th>RatecodeID</th>\n",
              "      <th>store_and_fwd_flag</th>\n",
              "      <th>PULocationID</th>\n",
              "      <th>DOLocationID</th>\n",
              "      <th>payment_type</th>\n",
              "      <th>extra</th>\n",
              "      <th>tip_amount</th>\n",
              "      <th>tolls_amount</th>\n",
              "      <th>improvement_surcharge</th>\n",
              "      <th>total_amount</th>\n",
              "      <th>congestion_surcharge</th>\n",
              "      <th>Airport_fee</th>\n",
              "    </tr>\n",
              "  </thead>\n",
              "  <tbody>\n",
              "    <tr>\n",
              "      <th>0</th>\n",
              "      <td>1</td>\n",
              "      <td>2023-06-28 17:20:21</td>\n",
              "      <td>2023-06-28 16:34:45</td>\n",
              "      <td>1.0</td>\n",
              "      <td>2.14</td>\n",
              "      <td>1.0</td>\n",
              "      <td>N</td>\n",
              "      <td>120</td>\n",
              "      <td>9</td>\n",
              "      <td>Credit Card</td>\n",
              "      <td>2.5</td>\n",
              "      <td>7.165589</td>\n",
              "      <td>0.0</td>\n",
              "      <td>1.0</td>\n",
              "      <td>20.64</td>\n",
              "      <td>2.5</td>\n",
              "      <td>0.0</td>\n",
              "    </tr>\n",
              "    <tr>\n",
              "      <th>1</th>\n",
              "      <td>0</td>\n",
              "      <td>2023-06-29 23:05:01</td>\n",
              "      <td>2023-06-29 22:01:35</td>\n",
              "      <td>1.0</td>\n",
              "      <td>2.70</td>\n",
              "      <td>1.0</td>\n",
              "      <td>N</td>\n",
              "      <td>15</td>\n",
              "      <td>215</td>\n",
              "      <td>Credit Card</td>\n",
              "      <td>3.5</td>\n",
              "      <td>6.067401</td>\n",
              "      <td>0.0</td>\n",
              "      <td>1.0</td>\n",
              "      <td>25.55</td>\n",
              "      <td>2.5</td>\n",
              "      <td>0.0</td>\n",
              "    </tr>\n",
              "    <tr>\n",
              "      <th>2</th>\n",
              "      <td>1</td>\n",
              "      <td>2023-06-30 10:19:31</td>\n",
              "      <td>2023-06-30 11:13:10</td>\n",
              "      <td>1.0</td>\n",
              "      <td>1.15</td>\n",
              "      <td>1.0</td>\n",
              "      <td>N</td>\n",
              "      <td>167</td>\n",
              "      <td>223</td>\n",
              "      <td>Credit Card</td>\n",
              "      <td>0.0</td>\n",
              "      <td>4.111547</td>\n",
              "      <td>0.0</td>\n",
              "      <td>1.0</td>\n",
              "      <td>17.64</td>\n",
              "      <td>2.5</td>\n",
              "      <td>0.0</td>\n",
              "    </tr>\n",
              "    <tr>\n",
              "      <th>3</th>\n",
              "      <td>0</td>\n",
              "      <td>2023-06-29 13:23:09</td>\n",
              "      <td>2023-06-29 14:20:01</td>\n",
              "      <td>1.0</td>\n",
              "      <td>0.40</td>\n",
              "      <td>1.0</td>\n",
              "      <td>N</td>\n",
              "      <td>128</td>\n",
              "      <td>239</td>\n",
              "      <td>Credit Card</td>\n",
              "      <td>2.5</td>\n",
              "      <td>6.411079</td>\n",
              "      <td>0.0</td>\n",
              "      <td>1.0</td>\n",
              "      <td>12.80</td>\n",
              "      <td>2.5</td>\n",
              "      <td>0.0</td>\n",
              "    </tr>\n",
              "    <tr>\n",
              "      <th>4</th>\n",
              "      <td>1</td>\n",
              "      <td>2023-06-29 22:03:32</td>\n",
              "      <td>2023-06-29 22:22:22</td>\n",
              "      <td>3.0</td>\n",
              "      <td>1.10</td>\n",
              "      <td>1.0</td>\n",
              "      <td>N</td>\n",
              "      <td>203</td>\n",
              "      <td>52</td>\n",
              "      <td>Credit Card</td>\n",
              "      <td>1.0</td>\n",
              "      <td>4.769377</td>\n",
              "      <td>0.0</td>\n",
              "      <td>1.0</td>\n",
              "      <td>18.00</td>\n",
              "      <td>2.5</td>\n",
              "      <td>0.0</td>\n",
              "    </tr>\n",
              "  </tbody>\n",
              "</table>\n",
              "</div>"
            ],
            "text/plain": [
              "   VendorID tpep_pickup_datetime tpep_dropoff_datetime  passenger_count  \\\n",
              "0         1  2023-06-28 17:20:21   2023-06-28 16:34:45              1.0   \n",
              "1         0  2023-06-29 23:05:01   2023-06-29 22:01:35              1.0   \n",
              "2         1  2023-06-30 10:19:31   2023-06-30 11:13:10              1.0   \n",
              "3         0  2023-06-29 13:23:09   2023-06-29 14:20:01              1.0   \n",
              "4         1  2023-06-29 22:03:32   2023-06-29 22:22:22              3.0   \n",
              "\n",
              "   trip_distance  RatecodeID store_and_fwd_flag  PULocationID  DOLocationID  \\\n",
              "0           2.14         1.0                  N           120             9   \n",
              "1           2.70         1.0                  N            15           215   \n",
              "2           1.15         1.0                  N           167           223   \n",
              "3           0.40         1.0                  N           128           239   \n",
              "4           1.10         1.0                  N           203            52   \n",
              "\n",
              "  payment_type  extra  tip_amount  tolls_amount  improvement_surcharge  \\\n",
              "0  Credit Card    2.5    7.165589           0.0                    1.0   \n",
              "1  Credit Card    3.5    6.067401           0.0                    1.0   \n",
              "2  Credit Card    0.0    4.111547           0.0                    1.0   \n",
              "3  Credit Card    2.5    6.411079           0.0                    1.0   \n",
              "4  Credit Card    1.0    4.769377           0.0                    1.0   \n",
              "\n",
              "   total_amount  congestion_surcharge  Airport_fee  \n",
              "0         20.64                   2.5          0.0  \n",
              "1         25.55                   2.5          0.0  \n",
              "2         17.64                   2.5          0.0  \n",
              "3         12.80                   2.5          0.0  \n",
              "4         18.00                   2.5          0.0  "
            ]
          },
          "execution_count": 3,
          "metadata": {},
          "output_type": "execute_result"
        }
      ],
      "source": [
        "data=pd.read_csv(\"/kaggle/input/taxi-fare-guru-total-amount-prediction-challenge/train.csv\")\n",
        "print(data.shape)\n",
        "data.head()"
      ]
    },
    {
      "cell_type": "code",
      "execution_count": null,
      "id": "3bd1fbce",
      "metadata": {
        "execution": {
          "iopub.execute_input": "2023-12-13T05:34:41.937930Z",
          "iopub.status.busy": "2023-12-13T05:34:41.937460Z",
          "iopub.status.idle": "2023-12-13T05:34:41.974418Z",
          "shell.execute_reply": "2023-12-13T05:34:41.973303Z"
        },
        "papermill": {
          "duration": 0.078434,
          "end_time": "2023-12-13T05:34:41.977010",
          "exception": false,
          "start_time": "2023-12-13T05:34:41.898576",
          "status": "completed"
        },
        "tags": [],
        "id": "3bd1fbce",
        "outputId": "84d6586d-907a-47cd-fb24-d902e3e92956"
      },
      "outputs": [
        {
          "data": {
            "text/plain": [
              "VendorID                  -1.014681\n",
              "passenger_count            2.874078\n",
              "trip_distance            302.832744\n",
              "RatecodeID                14.836471\n",
              "PULocationID              -0.004293\n",
              "DOLocationID              -0.000208\n",
              "extra                      1.093811\n",
              "tip_amount                 9.432238\n",
              "tolls_amount               5.124117\n",
              "improvement_surcharge     -9.787060\n",
              "total_amount               2.870245\n",
              "congestion_surcharge      -3.319540\n",
              "Airport_fee                2.664178\n",
              "dtype: float64"
            ]
          },
          "execution_count": 4,
          "metadata": {},
          "output_type": "execute_result"
        }
      ],
      "source": [
        "from scipy.stats import skew\n",
        "\n",
        "skewness = data.select_dtypes(exclude= \"object\").skew()\n",
        "#skewed_features = skewness[abs(skewness) > 1].index\n",
        "#skewed_features\n",
        "skewness"
      ]
    },
    {
      "cell_type": "markdown",
      "id": "3f6feb6d",
      "metadata": {
        "papermill": {
          "duration": 0.036435,
          "end_time": "2023-12-13T05:34:42.050651",
          "exception": false,
          "start_time": "2023-12-13T05:34:42.014216",
          "status": "completed"
        },
        "tags": [],
        "id": "3f6feb6d"
      },
      "source": [
        "# Exploring the data"
      ]
    },
    {
      "cell_type": "code",
      "execution_count": null,
      "id": "0284bad2",
      "metadata": {
        "execution": {
          "iopub.execute_input": "2023-12-13T05:34:42.127162Z",
          "iopub.status.busy": "2023-12-13T05:34:42.126727Z",
          "iopub.status.idle": "2023-12-13T05:34:42.236567Z",
          "shell.execute_reply": "2023-12-13T05:34:42.235622Z"
        },
        "papermill": {
          "duration": 0.149955,
          "end_time": "2023-12-13T05:34:42.238743",
          "exception": false,
          "start_time": "2023-12-13T05:34:42.088788",
          "status": "completed"
        },
        "tags": [],
        "id": "0284bad2",
        "outputId": "29eff241-1ef5-4861-dc04-83a71992f77f"
      },
      "outputs": [
        {
          "name": "stdout",
          "output_type": "stream",
          "text": [
            "Data has following shape: (175000, 17)\n",
            "\n",
            "Taxi Data has following features\n",
            " ['VendorID', 'tpep_pickup_datetime', 'tpep_dropoff_datetime', 'passenger_count', 'trip_distance', 'RatecodeID', 'store_and_fwd_flag', 'PULocationID', 'DOLocationID', 'payment_type', 'extra', 'tip_amount', 'tolls_amount', 'improvement_surcharge', 'total_amount', 'congestion_surcharge', 'Airport_fee'] \n",
            "\n",
            "<class 'pandas.core.frame.DataFrame'>\n",
            "RangeIndex: 175000 entries, 0 to 174999\n",
            "Data columns (total 17 columns):\n",
            " #   Column                 Non-Null Count   Dtype  \n",
            "---  ------                 --------------   -----  \n",
            " 0   VendorID               175000 non-null  int64  \n",
            " 1   tpep_pickup_datetime   175000 non-null  object \n",
            " 2   tpep_dropoff_datetime  175000 non-null  object \n",
            " 3   passenger_count        168923 non-null  float64\n",
            " 4   trip_distance          175000 non-null  float64\n",
            " 5   RatecodeID             168923 non-null  float64\n",
            " 6   store_and_fwd_flag     168923 non-null  object \n",
            " 7   PULocationID           175000 non-null  int64  \n",
            " 8   DOLocationID           175000 non-null  int64  \n",
            " 9   payment_type           175000 non-null  object \n",
            " 10  extra                  175000 non-null  float64\n",
            " 11  tip_amount             175000 non-null  float64\n",
            " 12  tolls_amount           175000 non-null  float64\n",
            " 13  improvement_surcharge  175000 non-null  float64\n",
            " 14  total_amount           175000 non-null  float64\n",
            " 15  congestion_surcharge   168923 non-null  float64\n",
            " 16  Airport_fee            168923 non-null  float64\n",
            "dtypes: float64(10), int64(3), object(4)\n",
            "memory usage: 22.7+ MB\n",
            "None\n"
          ]
        },
        {
          "data": {
            "text/plain": [
              "VendorID                   int64\n",
              "tpep_pickup_datetime      object\n",
              "tpep_dropoff_datetime     object\n",
              "passenger_count          float64\n",
              "trip_distance            float64\n",
              "RatecodeID               float64\n",
              "store_and_fwd_flag        object\n",
              "PULocationID               int64\n",
              "DOLocationID               int64\n",
              "payment_type              object\n",
              "extra                    float64\n",
              "tip_amount               float64\n",
              "tolls_amount             float64\n",
              "improvement_surcharge    float64\n",
              "total_amount             float64\n",
              "congestion_surcharge     float64\n",
              "Airport_fee              float64\n",
              "dtype: object"
            ]
          },
          "execution_count": 5,
          "metadata": {},
          "output_type": "execute_result"
        }
      ],
      "source": [
        "print(f\"Data has following shape: {data.shape}\")\n",
        "print(\"\\nTaxi Data has following features\\n\",list(data.columns),\"\\n\")\n",
        "print(data.info())\n",
        "data.dtypes\n"
      ]
    },
    {
      "cell_type": "markdown",
      "id": "416cd2d3",
      "metadata": {
        "papermill": {
          "duration": 0.03666,
          "end_time": "2023-12-13T05:34:42.312297",
          "exception": false,
          "start_time": "2023-12-13T05:34:42.275637",
          "status": "completed"
        },
        "tags": [],
        "id": "416cd2d3"
      },
      "source": [
        "### As can be seen from the above output, there are a total of 17 columns, out of which 16 are the feature variables and the column \"total_amount\" is the Target Variable."
      ]
    },
    {
      "cell_type": "code",
      "execution_count": null,
      "id": "45534ccf",
      "metadata": {
        "execution": {
          "iopub.execute_input": "2023-12-13T05:34:42.389564Z",
          "iopub.status.busy": "2023-12-13T05:34:42.389097Z",
          "iopub.status.idle": "2023-12-13T05:34:42.538950Z",
          "shell.execute_reply": "2023-12-13T05:34:42.537765Z"
        },
        "papermill": {
          "duration": 0.191693,
          "end_time": "2023-12-13T05:34:42.541813",
          "exception": false,
          "start_time": "2023-12-13T05:34:42.350120",
          "status": "completed"
        },
        "tags": [],
        "id": "45534ccf",
        "outputId": "baea515a-c082-4cbd-d669-98247b84bc8e"
      },
      "outputs": [
        {
          "name": "stdout",
          "output_type": "stream",
          "text": [
            "Non Numerical columns  Index(['tpep_pickup_datetime', 'tpep_dropoff_datetime', 'store_and_fwd_flag',\n",
            "       'payment_type'],\n",
            "      dtype='object')\n"
          ]
        },
        {
          "data": {
            "text/html": [
              "<div>\n",
              "<style scoped>\n",
              "    .dataframe tbody tr th:only-of-type {\n",
              "        vertical-align: middle;\n",
              "    }\n",
              "\n",
              "    .dataframe tbody tr th {\n",
              "        vertical-align: top;\n",
              "    }\n",
              "\n",
              "    .dataframe thead th {\n",
              "        text-align: right;\n",
              "    }\n",
              "</style>\n",
              "<table border=\"1\" class=\"dataframe\">\n",
              "  <thead>\n",
              "    <tr style=\"text-align: right;\">\n",
              "      <th></th>\n",
              "      <th>count</th>\n",
              "      <th>mean</th>\n",
              "      <th>std</th>\n",
              "      <th>min</th>\n",
              "      <th>25%</th>\n",
              "      <th>50%</th>\n",
              "      <th>75%</th>\n",
              "      <th>max</th>\n",
              "    </tr>\n",
              "  </thead>\n",
              "  <tbody>\n",
              "    <tr>\n",
              "      <th>VendorID</th>\n",
              "      <td>175000.0</td>\n",
              "      <td>0.728377</td>\n",
              "      <td>0.445606</td>\n",
              "      <td>0.000000</td>\n",
              "      <td>0.000000</td>\n",
              "      <td>1.000000</td>\n",
              "      <td>1.000000</td>\n",
              "      <td>2.000000</td>\n",
              "    </tr>\n",
              "    <tr>\n",
              "      <th>passenger_count</th>\n",
              "      <td>168923.0</td>\n",
              "      <td>1.357678</td>\n",
              "      <td>0.891283</td>\n",
              "      <td>0.000000</td>\n",
              "      <td>1.000000</td>\n",
              "      <td>1.000000</td>\n",
              "      <td>1.000000</td>\n",
              "      <td>9.000000</td>\n",
              "    </tr>\n",
              "    <tr>\n",
              "      <th>trip_distance</th>\n",
              "      <td>175000.0</td>\n",
              "      <td>5.145930</td>\n",
              "      <td>394.971052</td>\n",
              "      <td>0.000000</td>\n",
              "      <td>1.080000</td>\n",
              "      <td>1.840000</td>\n",
              "      <td>3.610000</td>\n",
              "      <td>135182.060000</td>\n",
              "    </tr>\n",
              "    <tr>\n",
              "      <th>RatecodeID</th>\n",
              "      <td>168923.0</td>\n",
              "      <td>1.518307</td>\n",
              "      <td>6.514678</td>\n",
              "      <td>1.000000</td>\n",
              "      <td>1.000000</td>\n",
              "      <td>1.000000</td>\n",
              "      <td>1.000000</td>\n",
              "      <td>99.000000</td>\n",
              "    </tr>\n",
              "    <tr>\n",
              "      <th>PULocationID</th>\n",
              "      <td>175000.0</td>\n",
              "      <td>132.710349</td>\n",
              "      <td>76.148799</td>\n",
              "      <td>1.000000</td>\n",
              "      <td>67.000000</td>\n",
              "      <td>133.000000</td>\n",
              "      <td>199.000000</td>\n",
              "      <td>264.000000</td>\n",
              "    </tr>\n",
              "    <tr>\n",
              "      <th>DOLocationID</th>\n",
              "      <td>175000.0</td>\n",
              "      <td>132.701429</td>\n",
              "      <td>76.192493</td>\n",
              "      <td>1.000000</td>\n",
              "      <td>67.000000</td>\n",
              "      <td>133.000000</td>\n",
              "      <td>199.000000</td>\n",
              "      <td>264.000000</td>\n",
              "    </tr>\n",
              "    <tr>\n",
              "      <th>extra</th>\n",
              "      <td>175000.0</td>\n",
              "      <td>1.932143</td>\n",
              "      <td>1.948497</td>\n",
              "      <td>-7.500000</td>\n",
              "      <td>0.000000</td>\n",
              "      <td>1.000000</td>\n",
              "      <td>2.500000</td>\n",
              "      <td>11.750000</td>\n",
              "    </tr>\n",
              "    <tr>\n",
              "      <th>tip_amount</th>\n",
              "      <td>175000.0</td>\n",
              "      <td>6.127497</td>\n",
              "      <td>4.610834</td>\n",
              "      <td>0.000079</td>\n",
              "      <td>3.473321</td>\n",
              "      <td>5.286217</td>\n",
              "      <td>7.502746</td>\n",
              "      <td>484.876151</td>\n",
              "    </tr>\n",
              "    <tr>\n",
              "      <th>tolls_amount</th>\n",
              "      <td>175000.0</td>\n",
              "      <td>0.646816</td>\n",
              "      <td>2.328274</td>\n",
              "      <td>-29.300000</td>\n",
              "      <td>0.000000</td>\n",
              "      <td>0.000000</td>\n",
              "      <td>0.000000</td>\n",
              "      <td>80.000000</td>\n",
              "    </tr>\n",
              "    <tr>\n",
              "      <th>improvement_surcharge</th>\n",
              "      <td>175000.0</td>\n",
              "      <td>0.979689</td>\n",
              "      <td>0.198775</td>\n",
              "      <td>-1.000000</td>\n",
              "      <td>1.000000</td>\n",
              "      <td>1.000000</td>\n",
              "      <td>1.000000</td>\n",
              "      <td>1.000000</td>\n",
              "    </tr>\n",
              "    <tr>\n",
              "      <th>total_amount</th>\n",
              "      <td>175000.0</td>\n",
              "      <td>29.633901</td>\n",
              "      <td>25.425206</td>\n",
              "      <td>-576.750000</td>\n",
              "      <td>16.300000</td>\n",
              "      <td>21.450000</td>\n",
              "      <td>31.800000</td>\n",
              "      <td>587.250000</td>\n",
              "    </tr>\n",
              "    <tr>\n",
              "      <th>congestion_surcharge</th>\n",
              "      <td>168923.0</td>\n",
              "      <td>2.246971</td>\n",
              "      <td>0.819216</td>\n",
              "      <td>-2.500000</td>\n",
              "      <td>2.500000</td>\n",
              "      <td>2.500000</td>\n",
              "      <td>2.500000</td>\n",
              "      <td>2.500000</td>\n",
              "    </tr>\n",
              "    <tr>\n",
              "      <th>Airport_fee</th>\n",
              "      <td>168923.0</td>\n",
              "      <td>0.158825</td>\n",
              "      <td>0.511968</td>\n",
              "      <td>-1.750000</td>\n",
              "      <td>0.000000</td>\n",
              "      <td>0.000000</td>\n",
              "      <td>0.000000</td>\n",
              "      <td>1.750000</td>\n",
              "    </tr>\n",
              "  </tbody>\n",
              "</table>\n",
              "</div>"
            ],
            "text/plain": [
              "                          count        mean         std         min  \\\n",
              "VendorID               175000.0    0.728377    0.445606    0.000000   \n",
              "passenger_count        168923.0    1.357678    0.891283    0.000000   \n",
              "trip_distance          175000.0    5.145930  394.971052    0.000000   \n",
              "RatecodeID             168923.0    1.518307    6.514678    1.000000   \n",
              "PULocationID           175000.0  132.710349   76.148799    1.000000   \n",
              "DOLocationID           175000.0  132.701429   76.192493    1.000000   \n",
              "extra                  175000.0    1.932143    1.948497   -7.500000   \n",
              "tip_amount             175000.0    6.127497    4.610834    0.000079   \n",
              "tolls_amount           175000.0    0.646816    2.328274  -29.300000   \n",
              "improvement_surcharge  175000.0    0.979689    0.198775   -1.000000   \n",
              "total_amount           175000.0   29.633901   25.425206 -576.750000   \n",
              "congestion_surcharge   168923.0    2.246971    0.819216   -2.500000   \n",
              "Airport_fee            168923.0    0.158825    0.511968   -1.750000   \n",
              "\n",
              "                             25%         50%         75%            max  \n",
              "VendorID                0.000000    1.000000    1.000000       2.000000  \n",
              "passenger_count         1.000000    1.000000    1.000000       9.000000  \n",
              "trip_distance           1.080000    1.840000    3.610000  135182.060000  \n",
              "RatecodeID              1.000000    1.000000    1.000000      99.000000  \n",
              "PULocationID           67.000000  133.000000  199.000000     264.000000  \n",
              "DOLocationID           67.000000  133.000000  199.000000     264.000000  \n",
              "extra                   0.000000    1.000000    2.500000      11.750000  \n",
              "tip_amount              3.473321    5.286217    7.502746     484.876151  \n",
              "tolls_amount            0.000000    0.000000    0.000000      80.000000  \n",
              "improvement_surcharge   1.000000    1.000000    1.000000       1.000000  \n",
              "total_amount           16.300000   21.450000   31.800000     587.250000  \n",
              "congestion_surcharge    2.500000    2.500000    2.500000       2.500000  \n",
              "Airport_fee             0.000000    0.000000    0.000000       1.750000  "
            ]
          },
          "execution_count": 6,
          "metadata": {},
          "output_type": "execute_result"
        }
      ],
      "source": [
        "# Checking which columns are non numerical\n",
        "print(\"Non Numerical columns \",data.select_dtypes(exclude=\"number\").columns)\n",
        "\n",
        "# Descriptive statistics for the numeical features\n",
        "data.describe().T"
      ]
    },
    {
      "cell_type": "markdown",
      "id": "5808ed24",
      "metadata": {
        "papermill": {
          "duration": 0.037469,
          "end_time": "2023-12-13T05:34:42.617315",
          "exception": false,
          "start_time": "2023-12-13T05:34:42.579846",
          "status": "completed"
        },
        "tags": [],
        "id": "5808ed24"
      },
      "source": [
        "### Exploring various features to understand the data better"
      ]
    },
    {
      "cell_type": "code",
      "execution_count": null,
      "id": "6420f596",
      "metadata": {
        "execution": {
          "iopub.execute_input": "2023-12-13T05:34:42.695506Z",
          "iopub.status.busy": "2023-12-13T05:34:42.695065Z",
          "iopub.status.idle": "2023-12-13T05:34:42.764298Z",
          "shell.execute_reply": "2023-12-13T05:34:42.763005Z"
        },
        "papermill": {
          "duration": 0.112199,
          "end_time": "2023-12-13T05:34:42.767055",
          "exception": false,
          "start_time": "2023-12-13T05:34:42.654856",
          "status": "completed"
        },
        "tags": [],
        "id": "6420f596",
        "outputId": "a886da67-a031-4b7b-9d1b-47c76cd7b7fb"
      },
      "outputs": [
        {
          "name": "stdout",
          "output_type": "stream",
          "text": [
            "VendorID\n",
            "1    127340\n",
            "0     47597\n",
            "2        63\n",
            "Name: count, dtype: int64\n",
            "\n",
            " payment_type\n",
            "Credit Card    135257\n",
            "Cash            30141\n",
            "Wallet           6077\n",
            "unknown          2333\n",
            "UPI              1192\n",
            "Name: count, dtype: int64\n",
            "\n",
            " store_and_fwd_flag\n",
            "N    167729\n",
            "Y      1194\n",
            "Name: count, dtype: int64\n",
            "\n",
            " RatecodeID\n",
            "1.0     158652\n",
            "2.0       7314\n",
            "5.0       1036\n",
            "99.0       748\n",
            "3.0        727\n",
            "4.0        446\n",
            "Name: count, dtype: int64\n"
          ]
        }
      ],
      "source": [
        "# Checking how many rides done by different vendors\n",
        "print(data[\"VendorID\"].value_counts())\n",
        "# Different Payment methods used\n",
        "print(\"\\n\",data[\"payment_type\"].value_counts())\n",
        "#Checking for how many rides data was stored and forwarded\n",
        "print(\"\\n\",data[\"store_and_fwd_flag\"].value_counts())\n",
        "#Checking no of rides against various RatecodeIDs\n",
        "print(\"\\n\",data[\"RatecodeID\"].value_counts())\n"
      ]
    },
    {
      "cell_type": "code",
      "execution_count": null,
      "id": "54185147",
      "metadata": {
        "execution": {
          "iopub.execute_input": "2023-12-13T05:34:42.845255Z",
          "iopub.status.busy": "2023-12-13T05:34:42.843962Z",
          "iopub.status.idle": "2023-12-13T05:34:42.864968Z",
          "shell.execute_reply": "2023-12-13T05:34:42.863828Z"
        },
        "papermill": {
          "duration": 0.062438,
          "end_time": "2023-12-13T05:34:42.867441",
          "exception": false,
          "start_time": "2023-12-13T05:34:42.805003",
          "status": "completed"
        },
        "tags": [],
        "id": "54185147",
        "outputId": "a4612194-77ff-4de0-adf4-0eb700c8f78e"
      },
      "outputs": [
        {
          "name": "stdout",
          "output_type": "stream",
          "text": [
            "Number of Negative values in different numerical columns\n",
            "1:  (1725, 17)\n",
            "2:  (1105, 17)\n",
            "3:  (126, 17)\n",
            "4:  (1725, 17)\n",
            "5:  (1386, 17)\n",
            "6:  (259, 17)\n"
          ]
        }
      ],
      "source": [
        "## Exploring the features which have negative values\n",
        "\n",
        "print(\"Number of Negative values in different numerical columns\")\n",
        "print(\"1: \",data[data.total_amount<0].shape)\n",
        "print(\"2: \",data[data.extra<0].shape)\n",
        "print(\"3: \",data[data.tolls_amount<0].shape)\n",
        "print(\"4: \",data[data.improvement_surcharge<0].shape)\n",
        "print(\"5: \",data[data.congestion_surcharge<0].shape)\n",
        "print(\"6: \",data[data.Airport_fee<0].shape)"
      ]
    },
    {
      "cell_type": "markdown",
      "id": "092c697d",
      "metadata": {
        "papermill": {
          "duration": 0.03809,
          "end_time": "2023-12-13T05:34:42.943188",
          "exception": false,
          "start_time": "2023-12-13T05:34:42.905098",
          "status": "completed"
        },
        "tags": [],
        "id": "092c697d"
      },
      "source": [
        "### Non random nature of negative values."
      ]
    },
    {
      "cell_type": "code",
      "execution_count": null,
      "id": "7984d5fb",
      "metadata": {
        "execution": {
          "iopub.execute_input": "2023-12-13T05:34:43.020770Z",
          "iopub.status.busy": "2023-12-13T05:34:43.020367Z",
          "iopub.status.idle": "2023-12-13T05:34:43.031809Z",
          "shell.execute_reply": "2023-12-13T05:34:43.030768Z"
        },
        "papermill": {
          "duration": 0.053248,
          "end_time": "2023-12-13T05:34:43.034145",
          "exception": false,
          "start_time": "2023-12-13T05:34:42.980897",
          "status": "completed"
        },
        "tags": [],
        "id": "7984d5fb",
        "outputId": "1f22b3e9-6686-4257-a705-4d9c10b47a4c"
      },
      "outputs": [
        {
          "name": "stdout",
          "output_type": "stream",
          "text": [
            "True\n"
          ]
        }
      ],
      "source": [
        "## from the output above we can see that the maximum number of values that are negative are 1725 which is for total_amount and\n",
        "## improvement_surcharge, let'see if the index of these 2 columns are same for the negative values.\n",
        "print(data[data.total_amount<0].index.equals(data[data.improvement_surcharge<0].index))"
      ]
    },
    {
      "cell_type": "code",
      "execution_count": null,
      "id": "af631345",
      "metadata": {
        "execution": {
          "iopub.execute_input": "2023-12-13T05:34:43.113373Z",
          "iopub.status.busy": "2023-12-13T05:34:43.112939Z",
          "iopub.status.idle": "2023-12-13T05:34:43.117306Z",
          "shell.execute_reply": "2023-12-13T05:34:43.116487Z"
        },
        "papermill": {
          "duration": 0.045974,
          "end_time": "2023-12-13T05:34:43.119417",
          "exception": false,
          "start_time": "2023-12-13T05:34:43.073443",
          "status": "completed"
        },
        "tags": [],
        "id": "af631345"
      },
      "outputs": [],
      "source": [
        "## See True above implies Indices match a 100% implies these negative values aren't random or by error but are systematic"
      ]
    },
    {
      "cell_type": "markdown",
      "id": "ed402492",
      "metadata": {
        "papermill": {
          "duration": 0.037111,
          "end_time": "2023-12-13T05:34:43.194433",
          "exception": false,
          "start_time": "2023-12-13T05:34:43.157322",
          "status": "completed"
        },
        "tags": [],
        "id": "ed402492"
      },
      "source": [
        "## Some observations\n",
        "### 1) From above outputs, we can see that, out of 17 features, 4 features are non numeric type namely ['tpep_pickup_datetime', 'tpep_dropoff_datetime', 'store_and_fwd_flag', 'payment_type']\n",
        "### 2) We can see that VendorID column despite being numeric is in fact a categorical column with 0,1,2 being the labels for the 3 different vendors (We shall OHE it later).\n",
        "### 3) Similarly the RatecodeID column despite being numerical seems to be some kind of ID for the rides and there are 6 different unique IDs (1,2,3,4,5,99)\n",
        "### 4) Similarly payment_type has 4 categories Credit Card, UPI, Cash and Wallet and there are some missing values.\n",
        "### 5) Most of the rides weren't stored and forwarded.\n",
        "### 6)There are some negative values in the amount related columns like tip_amount,\ttolls_amount,\timprovement_surcharge,\ttotal_amount\t and these are systematically negative as we checked indices above (cf above) hence we won't drop these negative values."
      ]
    },
    {
      "cell_type": "markdown",
      "id": "29e5dfed",
      "metadata": {
        "papermill": {
          "duration": 0.037153,
          "end_time": "2023-12-13T05:34:43.269951",
          "exception": false,
          "start_time": "2023-12-13T05:34:43.232798",
          "status": "completed"
        },
        "tags": [],
        "id": "29e5dfed"
      },
      "source": [
        "# Feature engineering\n",
        "###  Converting the pickup date_time and dropoff date_time into Pandas timestamp variable and then creating a new feature to store the total ride duration in minutes."
      ]
    },
    {
      "cell_type": "code",
      "execution_count": null,
      "id": "10a6e9e9",
      "metadata": {
        "execution": {
          "iopub.execute_input": "2023-12-13T05:34:43.349382Z",
          "iopub.status.busy": "2023-12-13T05:34:43.348917Z",
          "iopub.status.idle": "2023-12-13T05:34:43.571909Z",
          "shell.execute_reply": "2023-12-13T05:34:43.570608Z"
        },
        "papermill": {
          "duration": 0.26637,
          "end_time": "2023-12-13T05:34:43.575368",
          "exception": false,
          "start_time": "2023-12-13T05:34:43.308998",
          "status": "completed"
        },
        "tags": [],
        "id": "10a6e9e9",
        "outputId": "cd6ded5c-2cda-4c5b-e352-f85ba81b0f67"
      },
      "outputs": [
        {
          "name": "stdout",
          "output_type": "stream",
          "text": [
            "<class 'pandas._libs.tslibs.timestamps.Timestamp'>\n",
            "count    175000.000000\n",
            "mean         17.893002\n",
            "std          62.263379\n",
            "min        -118.900000\n",
            "25%         -19.516667\n",
            "50%          16.466667\n",
            "75%          53.166667\n",
            "max        1537.150000\n",
            "Name: ride_duration, dtype: float64\n"
          ]
        },
        {
          "data": {
            "text/html": [
              "<div>\n",
              "<style scoped>\n",
              "    .dataframe tbody tr th:only-of-type {\n",
              "        vertical-align: middle;\n",
              "    }\n",
              "\n",
              "    .dataframe tbody tr th {\n",
              "        vertical-align: top;\n",
              "    }\n",
              "\n",
              "    .dataframe thead th {\n",
              "        text-align: right;\n",
              "    }\n",
              "</style>\n",
              "<table border=\"1\" class=\"dataframe\">\n",
              "  <thead>\n",
              "    <tr style=\"text-align: right;\">\n",
              "      <th></th>\n",
              "      <th>VendorID</th>\n",
              "      <th>tpep_pickup_datetime</th>\n",
              "      <th>tpep_dropoff_datetime</th>\n",
              "      <th>passenger_count</th>\n",
              "      <th>trip_distance</th>\n",
              "      <th>RatecodeID</th>\n",
              "      <th>store_and_fwd_flag</th>\n",
              "      <th>PULocationID</th>\n",
              "      <th>DOLocationID</th>\n",
              "      <th>payment_type</th>\n",
              "      <th>extra</th>\n",
              "      <th>tip_amount</th>\n",
              "      <th>tolls_amount</th>\n",
              "      <th>improvement_surcharge</th>\n",
              "      <th>total_amount</th>\n",
              "      <th>congestion_surcharge</th>\n",
              "      <th>Airport_fee</th>\n",
              "      <th>ride_duration</th>\n",
              "    </tr>\n",
              "  </thead>\n",
              "  <tbody>\n",
              "    <tr>\n",
              "      <th>0</th>\n",
              "      <td>1</td>\n",
              "      <td>2023-06-28 17:20:21</td>\n",
              "      <td>2023-06-28 16:34:45</td>\n",
              "      <td>1.0</td>\n",
              "      <td>2.14</td>\n",
              "      <td>1.0</td>\n",
              "      <td>N</td>\n",
              "      <td>120</td>\n",
              "      <td>9</td>\n",
              "      <td>Credit Card</td>\n",
              "      <td>2.5</td>\n",
              "      <td>7.165589</td>\n",
              "      <td>0.0</td>\n",
              "      <td>1.0</td>\n",
              "      <td>20.64</td>\n",
              "      <td>2.5</td>\n",
              "      <td>0.0</td>\n",
              "      <td>-45.600000</td>\n",
              "    </tr>\n",
              "    <tr>\n",
              "      <th>1</th>\n",
              "      <td>0</td>\n",
              "      <td>2023-06-29 23:05:01</td>\n",
              "      <td>2023-06-29 22:01:35</td>\n",
              "      <td>1.0</td>\n",
              "      <td>2.70</td>\n",
              "      <td>1.0</td>\n",
              "      <td>N</td>\n",
              "      <td>15</td>\n",
              "      <td>215</td>\n",
              "      <td>Credit Card</td>\n",
              "      <td>3.5</td>\n",
              "      <td>6.067401</td>\n",
              "      <td>0.0</td>\n",
              "      <td>1.0</td>\n",
              "      <td>25.55</td>\n",
              "      <td>2.5</td>\n",
              "      <td>0.0</td>\n",
              "      <td>-63.433333</td>\n",
              "    </tr>\n",
              "    <tr>\n",
              "      <th>5</th>\n",
              "      <td>0</td>\n",
              "      <td>2023-06-29 16:31:14</td>\n",
              "      <td>2023-06-29 16:29:06</td>\n",
              "      <td>1.0</td>\n",
              "      <td>0.00</td>\n",
              "      <td>99.0</td>\n",
              "      <td>N</td>\n",
              "      <td>225</td>\n",
              "      <td>256</td>\n",
              "      <td>Credit Card</td>\n",
              "      <td>0.0</td>\n",
              "      <td>1.507831</td>\n",
              "      <td>0.0</td>\n",
              "      <td>1.0</td>\n",
              "      <td>44.70</td>\n",
              "      <td>0.0</td>\n",
              "      <td>0.0</td>\n",
              "      <td>-2.133333</td>\n",
              "    </tr>\n",
              "    <tr>\n",
              "      <th>6</th>\n",
              "      <td>1</td>\n",
              "      <td>2023-06-30 12:54:57</td>\n",
              "      <td>2023-06-30 11:52:20</td>\n",
              "      <td>1.0</td>\n",
              "      <td>1.33</td>\n",
              "      <td>1.0</td>\n",
              "      <td>N</td>\n",
              "      <td>214</td>\n",
              "      <td>240</td>\n",
              "      <td>Cash</td>\n",
              "      <td>0.0</td>\n",
              "      <td>0.094334</td>\n",
              "      <td>0.0</td>\n",
              "      <td>1.0</td>\n",
              "      <td>18.20</td>\n",
              "      <td>2.5</td>\n",
              "      <td>0.0</td>\n",
              "      <td>-62.616667</td>\n",
              "    </tr>\n",
              "    <tr>\n",
              "      <th>9</th>\n",
              "      <td>1</td>\n",
              "      <td>2023-06-29 11:12:12</td>\n",
              "      <td>2023-06-29 09:39:24</td>\n",
              "      <td>1.0</td>\n",
              "      <td>2.50</td>\n",
              "      <td>1.0</td>\n",
              "      <td>N</td>\n",
              "      <td>138</td>\n",
              "      <td>196</td>\n",
              "      <td>Credit Card</td>\n",
              "      <td>0.0</td>\n",
              "      <td>6.091603</td>\n",
              "      <td>0.0</td>\n",
              "      <td>1.0</td>\n",
              "      <td>23.10</td>\n",
              "      <td>2.5</td>\n",
              "      <td>0.0</td>\n",
              "      <td>-92.800000</td>\n",
              "    </tr>\n",
              "    <tr>\n",
              "      <th>...</th>\n",
              "      <td>...</td>\n",
              "      <td>...</td>\n",
              "      <td>...</td>\n",
              "      <td>...</td>\n",
              "      <td>...</td>\n",
              "      <td>...</td>\n",
              "      <td>...</td>\n",
              "      <td>...</td>\n",
              "      <td>...</td>\n",
              "      <td>...</td>\n",
              "      <td>...</td>\n",
              "      <td>...</td>\n",
              "      <td>...</td>\n",
              "      <td>...</td>\n",
              "      <td>...</td>\n",
              "      <td>...</td>\n",
              "      <td>...</td>\n",
              "      <td>...</td>\n",
              "    </tr>\n",
              "    <tr>\n",
              "      <th>174983</th>\n",
              "      <td>1</td>\n",
              "      <td>2023-06-30 21:57:30</td>\n",
              "      <td>2023-06-30 20:55:40</td>\n",
              "      <td>NaN</td>\n",
              "      <td>4.22</td>\n",
              "      <td>NaN</td>\n",
              "      <td>NaN</td>\n",
              "      <td>193</td>\n",
              "      <td>108</td>\n",
              "      <td>Wallet</td>\n",
              "      <td>0.0</td>\n",
              "      <td>9.141031</td>\n",
              "      <td>0.0</td>\n",
              "      <td>1.0</td>\n",
              "      <td>34.19</td>\n",
              "      <td>NaN</td>\n",
              "      <td>NaN</td>\n",
              "      <td>-61.833333</td>\n",
              "    </tr>\n",
              "    <tr>\n",
              "      <th>174992</th>\n",
              "      <td>1</td>\n",
              "      <td>2023-06-29 00:15:57</td>\n",
              "      <td>2023-06-28 23:54:25</td>\n",
              "      <td>2.0</td>\n",
              "      <td>0.37</td>\n",
              "      <td>1.0</td>\n",
              "      <td>N</td>\n",
              "      <td>219</td>\n",
              "      <td>67</td>\n",
              "      <td>Cash</td>\n",
              "      <td>-1.0</td>\n",
              "      <td>1.855890</td>\n",
              "      <td>0.0</td>\n",
              "      <td>-1.0</td>\n",
              "      <td>-10.10</td>\n",
              "      <td>-2.5</td>\n",
              "      <td>0.0</td>\n",
              "      <td>-21.533333</td>\n",
              "    </tr>\n",
              "    <tr>\n",
              "      <th>174994</th>\n",
              "      <td>0</td>\n",
              "      <td>2023-06-29 14:08:39</td>\n",
              "      <td>2023-06-29 13:42:20</td>\n",
              "      <td>1.0</td>\n",
              "      <td>1.90</td>\n",
              "      <td>1.0</td>\n",
              "      <td>N</td>\n",
              "      <td>95</td>\n",
              "      <td>95</td>\n",
              "      <td>Credit Card</td>\n",
              "      <td>2.5</td>\n",
              "      <td>5.928588</td>\n",
              "      <td>0.0</td>\n",
              "      <td>1.0</td>\n",
              "      <td>20.15</td>\n",
              "      <td>2.5</td>\n",
              "      <td>0.0</td>\n",
              "      <td>-26.316667</td>\n",
              "    </tr>\n",
              "    <tr>\n",
              "      <th>174995</th>\n",
              "      <td>1</td>\n",
              "      <td>2023-06-30 22:50:57</td>\n",
              "      <td>2023-06-30 22:22:22</td>\n",
              "      <td>3.0</td>\n",
              "      <td>3.45</td>\n",
              "      <td>1.0</td>\n",
              "      <td>N</td>\n",
              "      <td>147</td>\n",
              "      <td>167</td>\n",
              "      <td>Credit Card</td>\n",
              "      <td>1.0</td>\n",
              "      <td>8.732495</td>\n",
              "      <td>0.0</td>\n",
              "      <td>1.0</td>\n",
              "      <td>28.08</td>\n",
              "      <td>2.5</td>\n",
              "      <td>0.0</td>\n",
              "      <td>-28.583333</td>\n",
              "    </tr>\n",
              "    <tr>\n",
              "      <th>174998</th>\n",
              "      <td>1</td>\n",
              "      <td>2023-06-29 19:47:17</td>\n",
              "      <td>2023-06-29 19:08:55</td>\n",
              "      <td>1.0</td>\n",
              "      <td>4.71</td>\n",
              "      <td>1.0</td>\n",
              "      <td>N</td>\n",
              "      <td>240</td>\n",
              "      <td>100</td>\n",
              "      <td>Credit Card</td>\n",
              "      <td>2.5</td>\n",
              "      <td>10.479776</td>\n",
              "      <td>0.0</td>\n",
              "      <td>1.0</td>\n",
              "      <td>40.80</td>\n",
              "      <td>2.5</td>\n",
              "      <td>0.0</td>\n",
              "      <td>-38.366667</td>\n",
              "    </tr>\n",
              "  </tbody>\n",
              "</table>\n",
              "<p>65693 rows × 18 columns</p>\n",
              "</div>"
            ],
            "text/plain": [
              "        VendorID tpep_pickup_datetime tpep_dropoff_datetime  passenger_count  \\\n",
              "0              1  2023-06-28 17:20:21   2023-06-28 16:34:45              1.0   \n",
              "1              0  2023-06-29 23:05:01   2023-06-29 22:01:35              1.0   \n",
              "5              0  2023-06-29 16:31:14   2023-06-29 16:29:06              1.0   \n",
              "6              1  2023-06-30 12:54:57   2023-06-30 11:52:20              1.0   \n",
              "9              1  2023-06-29 11:12:12   2023-06-29 09:39:24              1.0   \n",
              "...          ...                  ...                   ...              ...   \n",
              "174983         1  2023-06-30 21:57:30   2023-06-30 20:55:40              NaN   \n",
              "174992         1  2023-06-29 00:15:57   2023-06-28 23:54:25              2.0   \n",
              "174994         0  2023-06-29 14:08:39   2023-06-29 13:42:20              1.0   \n",
              "174995         1  2023-06-30 22:50:57   2023-06-30 22:22:22              3.0   \n",
              "174998         1  2023-06-29 19:47:17   2023-06-29 19:08:55              1.0   \n",
              "\n",
              "        trip_distance  RatecodeID store_and_fwd_flag  PULocationID  \\\n",
              "0                2.14         1.0                  N           120   \n",
              "1                2.70         1.0                  N            15   \n",
              "5                0.00        99.0                  N           225   \n",
              "6                1.33         1.0                  N           214   \n",
              "9                2.50         1.0                  N           138   \n",
              "...               ...         ...                ...           ...   \n",
              "174983           4.22         NaN                NaN           193   \n",
              "174992           0.37         1.0                  N           219   \n",
              "174994           1.90         1.0                  N            95   \n",
              "174995           3.45         1.0                  N           147   \n",
              "174998           4.71         1.0                  N           240   \n",
              "\n",
              "        DOLocationID payment_type  extra  tip_amount  tolls_amount  \\\n",
              "0                  9  Credit Card    2.5    7.165589           0.0   \n",
              "1                215  Credit Card    3.5    6.067401           0.0   \n",
              "5                256  Credit Card    0.0    1.507831           0.0   \n",
              "6                240         Cash    0.0    0.094334           0.0   \n",
              "9                196  Credit Card    0.0    6.091603           0.0   \n",
              "...              ...          ...    ...         ...           ...   \n",
              "174983           108       Wallet    0.0    9.141031           0.0   \n",
              "174992            67         Cash   -1.0    1.855890           0.0   \n",
              "174994            95  Credit Card    2.5    5.928588           0.0   \n",
              "174995           167  Credit Card    1.0    8.732495           0.0   \n",
              "174998           100  Credit Card    2.5   10.479776           0.0   \n",
              "\n",
              "        improvement_surcharge  total_amount  congestion_surcharge  \\\n",
              "0                         1.0         20.64                   2.5   \n",
              "1                         1.0         25.55                   2.5   \n",
              "5                         1.0         44.70                   0.0   \n",
              "6                         1.0         18.20                   2.5   \n",
              "9                         1.0         23.10                   2.5   \n",
              "...                       ...           ...                   ...   \n",
              "174983                    1.0         34.19                   NaN   \n",
              "174992                   -1.0        -10.10                  -2.5   \n",
              "174994                    1.0         20.15                   2.5   \n",
              "174995                    1.0         28.08                   2.5   \n",
              "174998                    1.0         40.80                   2.5   \n",
              "\n",
              "        Airport_fee  ride_duration  \n",
              "0               0.0     -45.600000  \n",
              "1               0.0     -63.433333  \n",
              "5               0.0      -2.133333  \n",
              "6               0.0     -62.616667  \n",
              "9               0.0     -92.800000  \n",
              "...             ...            ...  \n",
              "174983          NaN     -61.833333  \n",
              "174992          0.0     -21.533333  \n",
              "174994          0.0     -26.316667  \n",
              "174995          0.0     -28.583333  \n",
              "174998          0.0     -38.366667  \n",
              "\n",
              "[65693 rows x 18 columns]"
            ]
          },
          "execution_count": 11,
          "metadata": {},
          "output_type": "execute_result"
        }
      ],
      "source": [
        "data[\"tpep_pickup_datetime\"]=pd.to_datetime(data[\"tpep_pickup_datetime\"])\n",
        "print(type(data[\"tpep_pickup_datetime\"][0]))\n",
        "data[\"tpep_dropoff_datetime\"]=pd.to_datetime(data[\"tpep_dropoff_datetime\"])\n",
        "\n",
        "#Creating a new feature ride duration in minutes\n",
        "data[\"ride_duration\"]=(data[\"tpep_dropoff_datetime\"]-data[\"tpep_pickup_datetime\"]).dt.total_seconds()/60\n",
        "print(data[\"ride_duration\"].describe())\n",
        "\n",
        "#Sanity check for ride duration variable\n",
        "data[(data[\"ride_duration\"]<=0)]\n"
      ]
    },
    {
      "cell_type": "markdown",
      "id": "78f0c358",
      "metadata": {
        "papermill": {
          "duration": 0.038636,
          "end_time": "2023-12-13T05:34:43.652941",
          "exception": false,
          "start_time": "2023-12-13T05:34:43.614305",
          "status": "completed"
        },
        "tags": [],
        "id": "78f0c358"
      },
      "source": [
        "### As can be seen in above output, a good number (65693) ride records have ride duration as negative, inspecting that it seems that pickup and dropoff time are interchanged therefore we replace these negative ride duration values by absolute values.\n"
      ]
    },
    {
      "cell_type": "code",
      "execution_count": null,
      "id": "2bbb40f0",
      "metadata": {
        "execution": {
          "iopub.execute_input": "2023-12-13T05:34:43.734075Z",
          "iopub.status.busy": "2023-12-13T05:34:43.732983Z",
          "iopub.status.idle": "2023-12-13T05:34:43.772890Z",
          "shell.execute_reply": "2023-12-13T05:34:43.771770Z"
        },
        "papermill": {
          "duration": 0.08309,
          "end_time": "2023-12-13T05:34:43.775364",
          "exception": false,
          "start_time": "2023-12-13T05:34:43.692274",
          "status": "completed"
        },
        "tags": [],
        "id": "2bbb40f0",
        "outputId": "8bb958ea-f7b5-43ae-e38f-5ddf8d9002bb"
      },
      "outputs": [
        {
          "name": "stdout",
          "output_type": "stream",
          "text": [
            "Post making ride_duration absolute count    175000.000000\n",
            "mean         44.570096\n",
            "std          47.014730\n",
            "min           0.000000\n",
            "25%          17.800000\n",
            "50%          37.933333\n",
            "75%          64.250000\n",
            "max        1537.150000\n",
            "Name: ride_duration, dtype: float64\n"
          ]
        },
        {
          "data": {
            "text/html": [
              "<div>\n",
              "<style scoped>\n",
              "    .dataframe tbody tr th:only-of-type {\n",
              "        vertical-align: middle;\n",
              "    }\n",
              "\n",
              "    .dataframe tbody tr th {\n",
              "        vertical-align: top;\n",
              "    }\n",
              "\n",
              "    .dataframe thead th {\n",
              "        text-align: right;\n",
              "    }\n",
              "</style>\n",
              "<table border=\"1\" class=\"dataframe\">\n",
              "  <thead>\n",
              "    <tr style=\"text-align: right;\">\n",
              "      <th></th>\n",
              "      <th>VendorID</th>\n",
              "      <th>tpep_pickup_datetime</th>\n",
              "      <th>tpep_dropoff_datetime</th>\n",
              "      <th>passenger_count</th>\n",
              "      <th>trip_distance</th>\n",
              "      <th>RatecodeID</th>\n",
              "      <th>store_and_fwd_flag</th>\n",
              "      <th>PULocationID</th>\n",
              "      <th>DOLocationID</th>\n",
              "      <th>payment_type</th>\n",
              "      <th>extra</th>\n",
              "      <th>tip_amount</th>\n",
              "      <th>tolls_amount</th>\n",
              "      <th>improvement_surcharge</th>\n",
              "      <th>total_amount</th>\n",
              "      <th>congestion_surcharge</th>\n",
              "      <th>Airport_fee</th>\n",
              "      <th>ride_duration</th>\n",
              "    </tr>\n",
              "  </thead>\n",
              "  <tbody>\n",
              "    <tr>\n",
              "      <th>0</th>\n",
              "      <td>1</td>\n",
              "      <td>2023-06-28 17:20:21</td>\n",
              "      <td>2023-06-28 16:34:45</td>\n",
              "      <td>1.0</td>\n",
              "      <td>2.14</td>\n",
              "      <td>1.0</td>\n",
              "      <td>N</td>\n",
              "      <td>120</td>\n",
              "      <td>9</td>\n",
              "      <td>Credit Card</td>\n",
              "      <td>2.5</td>\n",
              "      <td>7.165589</td>\n",
              "      <td>0.0</td>\n",
              "      <td>1.0</td>\n",
              "      <td>20.64</td>\n",
              "      <td>2.5</td>\n",
              "      <td>0.0</td>\n",
              "      <td>45.600000</td>\n",
              "    </tr>\n",
              "    <tr>\n",
              "      <th>1</th>\n",
              "      <td>0</td>\n",
              "      <td>2023-06-29 23:05:01</td>\n",
              "      <td>2023-06-29 22:01:35</td>\n",
              "      <td>1.0</td>\n",
              "      <td>2.70</td>\n",
              "      <td>1.0</td>\n",
              "      <td>N</td>\n",
              "      <td>15</td>\n",
              "      <td>215</td>\n",
              "      <td>Credit Card</td>\n",
              "      <td>3.5</td>\n",
              "      <td>6.067401</td>\n",
              "      <td>0.0</td>\n",
              "      <td>1.0</td>\n",
              "      <td>25.55</td>\n",
              "      <td>2.5</td>\n",
              "      <td>0.0</td>\n",
              "      <td>63.433333</td>\n",
              "    </tr>\n",
              "    <tr>\n",
              "      <th>2</th>\n",
              "      <td>1</td>\n",
              "      <td>2023-06-30 10:19:31</td>\n",
              "      <td>2023-06-30 11:13:10</td>\n",
              "      <td>1.0</td>\n",
              "      <td>1.15</td>\n",
              "      <td>1.0</td>\n",
              "      <td>N</td>\n",
              "      <td>167</td>\n",
              "      <td>223</td>\n",
              "      <td>Credit Card</td>\n",
              "      <td>0.0</td>\n",
              "      <td>4.111547</td>\n",
              "      <td>0.0</td>\n",
              "      <td>1.0</td>\n",
              "      <td>17.64</td>\n",
              "      <td>2.5</td>\n",
              "      <td>0.0</td>\n",
              "      <td>53.650000</td>\n",
              "    </tr>\n",
              "    <tr>\n",
              "      <th>3</th>\n",
              "      <td>0</td>\n",
              "      <td>2023-06-29 13:23:09</td>\n",
              "      <td>2023-06-29 14:20:01</td>\n",
              "      <td>1.0</td>\n",
              "      <td>0.40</td>\n",
              "      <td>1.0</td>\n",
              "      <td>N</td>\n",
              "      <td>128</td>\n",
              "      <td>239</td>\n",
              "      <td>Credit Card</td>\n",
              "      <td>2.5</td>\n",
              "      <td>6.411079</td>\n",
              "      <td>0.0</td>\n",
              "      <td>1.0</td>\n",
              "      <td>12.80</td>\n",
              "      <td>2.5</td>\n",
              "      <td>0.0</td>\n",
              "      <td>56.866667</td>\n",
              "    </tr>\n",
              "    <tr>\n",
              "      <th>4</th>\n",
              "      <td>1</td>\n",
              "      <td>2023-06-29 22:03:32</td>\n",
              "      <td>2023-06-29 22:22:22</td>\n",
              "      <td>3.0</td>\n",
              "      <td>1.10</td>\n",
              "      <td>1.0</td>\n",
              "      <td>N</td>\n",
              "      <td>203</td>\n",
              "      <td>52</td>\n",
              "      <td>Credit Card</td>\n",
              "      <td>1.0</td>\n",
              "      <td>4.769377</td>\n",
              "      <td>0.0</td>\n",
              "      <td>1.0</td>\n",
              "      <td>18.00</td>\n",
              "      <td>2.5</td>\n",
              "      <td>0.0</td>\n",
              "      <td>18.833333</td>\n",
              "    </tr>\n",
              "  </tbody>\n",
              "</table>\n",
              "</div>"
            ],
            "text/plain": [
              "   VendorID tpep_pickup_datetime tpep_dropoff_datetime  passenger_count  \\\n",
              "0         1  2023-06-28 17:20:21   2023-06-28 16:34:45              1.0   \n",
              "1         0  2023-06-29 23:05:01   2023-06-29 22:01:35              1.0   \n",
              "2         1  2023-06-30 10:19:31   2023-06-30 11:13:10              1.0   \n",
              "3         0  2023-06-29 13:23:09   2023-06-29 14:20:01              1.0   \n",
              "4         1  2023-06-29 22:03:32   2023-06-29 22:22:22              3.0   \n",
              "\n",
              "   trip_distance  RatecodeID store_and_fwd_flag  PULocationID  DOLocationID  \\\n",
              "0           2.14         1.0                  N           120             9   \n",
              "1           2.70         1.0                  N            15           215   \n",
              "2           1.15         1.0                  N           167           223   \n",
              "3           0.40         1.0                  N           128           239   \n",
              "4           1.10         1.0                  N           203            52   \n",
              "\n",
              "  payment_type  extra  tip_amount  tolls_amount  improvement_surcharge  \\\n",
              "0  Credit Card    2.5    7.165589           0.0                    1.0   \n",
              "1  Credit Card    3.5    6.067401           0.0                    1.0   \n",
              "2  Credit Card    0.0    4.111547           0.0                    1.0   \n",
              "3  Credit Card    2.5    6.411079           0.0                    1.0   \n",
              "4  Credit Card    1.0    4.769377           0.0                    1.0   \n",
              "\n",
              "   total_amount  congestion_surcharge  Airport_fee  ride_duration  \n",
              "0         20.64                   2.5          0.0      45.600000  \n",
              "1         25.55                   2.5          0.0      63.433333  \n",
              "2         17.64                   2.5          0.0      53.650000  \n",
              "3         12.80                   2.5          0.0      56.866667  \n",
              "4         18.00                   2.5          0.0      18.833333  "
            ]
          },
          "execution_count": 12,
          "metadata": {},
          "output_type": "execute_result"
        }
      ],
      "source": [
        "data[\"ride_duration\"]=data[\"ride_duration\"].abs()\n",
        "print(\"Post making ride_duration absolute\",data.ride_duration.describe())\n",
        "data.head()"
      ]
    },
    {
      "cell_type": "markdown",
      "id": "af23c142",
      "metadata": {
        "papermill": {
          "duration": 0.038628,
          "end_time": "2023-12-13T05:34:43.854083",
          "exception": false,
          "start_time": "2023-12-13T05:34:43.815455",
          "status": "completed"
        },
        "tags": [],
        "id": "af23c142"
      },
      "source": [
        "#### Dropping the pickup and drop off datetime features."
      ]
    },
    {
      "cell_type": "code",
      "execution_count": null,
      "id": "ce7c9c20",
      "metadata": {
        "execution": {
          "iopub.execute_input": "2023-12-13T05:34:43.935060Z",
          "iopub.status.busy": "2023-12-13T05:34:43.934620Z",
          "iopub.status.idle": "2023-12-13T05:34:43.951621Z",
          "shell.execute_reply": "2023-12-13T05:34:43.950688Z"
        },
        "papermill": {
          "duration": 0.060588,
          "end_time": "2023-12-13T05:34:43.954173",
          "exception": false,
          "start_time": "2023-12-13T05:34:43.893585",
          "status": "completed"
        },
        "tags": [],
        "id": "ce7c9c20",
        "outputId": "c1d14681-912b-4eea-eb98-59ade37c2041"
      },
      "outputs": [
        {
          "data": {
            "text/plain": [
              "(175000, 16)"
            ]
          },
          "execution_count": 13,
          "metadata": {},
          "output_type": "execute_result"
        }
      ],
      "source": [
        "#Dropping the date_time columns since they are of no use, dates are also in a close range of 4 days so they don't provide any useful information.\n",
        "data.drop([\"tpep_pickup_datetime\",\"tpep_dropoff_datetime\"],axis=1,inplace=True)\n",
        "data.shape\n"
      ]
    },
    {
      "cell_type": "code",
      "execution_count": null,
      "id": "4335ab5d",
      "metadata": {
        "execution": {
          "iopub.execute_input": "2023-12-13T05:34:44.035256Z",
          "iopub.status.busy": "2023-12-13T05:34:44.034804Z",
          "iopub.status.idle": "2023-12-13T05:34:44.082123Z",
          "shell.execute_reply": "2023-12-13T05:34:44.080916Z"
        },
        "papermill": {
          "duration": 0.091029,
          "end_time": "2023-12-13T05:34:44.084633",
          "exception": false,
          "start_time": "2023-12-13T05:34:43.993604",
          "status": "completed"
        },
        "tags": [],
        "id": "4335ab5d",
        "outputId": "ab6c79fd-4a65-4a68-d757-b746784e0489"
      },
      "outputs": [
        {
          "name": "stdout",
          "output_type": "stream",
          "text": [
            "(175000, 16)\n"
          ]
        },
        {
          "data": {
            "text/html": [
              "<div>\n",
              "<style scoped>\n",
              "    .dataframe tbody tr th:only-of-type {\n",
              "        vertical-align: middle;\n",
              "    }\n",
              "\n",
              "    .dataframe tbody tr th {\n",
              "        vertical-align: top;\n",
              "    }\n",
              "\n",
              "    .dataframe thead th {\n",
              "        text-align: right;\n",
              "    }\n",
              "</style>\n",
              "<table border=\"1\" class=\"dataframe\">\n",
              "  <thead>\n",
              "    <tr style=\"text-align: right;\">\n",
              "      <th></th>\n",
              "      <th>VendorID</th>\n",
              "      <th>passenger_count</th>\n",
              "      <th>trip_distance</th>\n",
              "      <th>ride_duration</th>\n",
              "      <th>RatecodeID</th>\n",
              "      <th>store_and_fwd_flag</th>\n",
              "      <th>PULocationID</th>\n",
              "      <th>DOLocationID</th>\n",
              "      <th>payment_type</th>\n",
              "      <th>extra</th>\n",
              "      <th>tip_amount</th>\n",
              "      <th>tolls_amount</th>\n",
              "      <th>improvement_surcharge</th>\n",
              "      <th>congestion_surcharge</th>\n",
              "      <th>Airport_fee</th>\n",
              "      <th>total_amount</th>\n",
              "    </tr>\n",
              "  </thead>\n",
              "  <tbody>\n",
              "    <tr>\n",
              "      <th>0</th>\n",
              "      <td>1</td>\n",
              "      <td>1.0</td>\n",
              "      <td>2.14</td>\n",
              "      <td>45.600000</td>\n",
              "      <td>1.0</td>\n",
              "      <td>N</td>\n",
              "      <td>120</td>\n",
              "      <td>9</td>\n",
              "      <td>Credit Card</td>\n",
              "      <td>2.5</td>\n",
              "      <td>7.165589</td>\n",
              "      <td>0.0</td>\n",
              "      <td>1.0</td>\n",
              "      <td>2.5</td>\n",
              "      <td>0.0</td>\n",
              "      <td>20.64</td>\n",
              "    </tr>\n",
              "    <tr>\n",
              "      <th>1</th>\n",
              "      <td>0</td>\n",
              "      <td>1.0</td>\n",
              "      <td>2.70</td>\n",
              "      <td>63.433333</td>\n",
              "      <td>1.0</td>\n",
              "      <td>N</td>\n",
              "      <td>15</td>\n",
              "      <td>215</td>\n",
              "      <td>Credit Card</td>\n",
              "      <td>3.5</td>\n",
              "      <td>6.067401</td>\n",
              "      <td>0.0</td>\n",
              "      <td>1.0</td>\n",
              "      <td>2.5</td>\n",
              "      <td>0.0</td>\n",
              "      <td>25.55</td>\n",
              "    </tr>\n",
              "    <tr>\n",
              "      <th>2</th>\n",
              "      <td>1</td>\n",
              "      <td>1.0</td>\n",
              "      <td>1.15</td>\n",
              "      <td>53.650000</td>\n",
              "      <td>1.0</td>\n",
              "      <td>N</td>\n",
              "      <td>167</td>\n",
              "      <td>223</td>\n",
              "      <td>Credit Card</td>\n",
              "      <td>0.0</td>\n",
              "      <td>4.111547</td>\n",
              "      <td>0.0</td>\n",
              "      <td>1.0</td>\n",
              "      <td>2.5</td>\n",
              "      <td>0.0</td>\n",
              "      <td>17.64</td>\n",
              "    </tr>\n",
              "    <tr>\n",
              "      <th>3</th>\n",
              "      <td>0</td>\n",
              "      <td>1.0</td>\n",
              "      <td>0.40</td>\n",
              "      <td>56.866667</td>\n",
              "      <td>1.0</td>\n",
              "      <td>N</td>\n",
              "      <td>128</td>\n",
              "      <td>239</td>\n",
              "      <td>Credit Card</td>\n",
              "      <td>2.5</td>\n",
              "      <td>6.411079</td>\n",
              "      <td>0.0</td>\n",
              "      <td>1.0</td>\n",
              "      <td>2.5</td>\n",
              "      <td>0.0</td>\n",
              "      <td>12.80</td>\n",
              "    </tr>\n",
              "    <tr>\n",
              "      <th>4</th>\n",
              "      <td>1</td>\n",
              "      <td>3.0</td>\n",
              "      <td>1.10</td>\n",
              "      <td>18.833333</td>\n",
              "      <td>1.0</td>\n",
              "      <td>N</td>\n",
              "      <td>203</td>\n",
              "      <td>52</td>\n",
              "      <td>Credit Card</td>\n",
              "      <td>1.0</td>\n",
              "      <td>4.769377</td>\n",
              "      <td>0.0</td>\n",
              "      <td>1.0</td>\n",
              "      <td>2.5</td>\n",
              "      <td>0.0</td>\n",
              "      <td>18.00</td>\n",
              "    </tr>\n",
              "  </tbody>\n",
              "</table>\n",
              "</div>"
            ],
            "text/plain": [
              "   VendorID  passenger_count  trip_distance  ride_duration  RatecodeID  \\\n",
              "0         1              1.0           2.14      45.600000         1.0   \n",
              "1         0              1.0           2.70      63.433333         1.0   \n",
              "2         1              1.0           1.15      53.650000         1.0   \n",
              "3         0              1.0           0.40      56.866667         1.0   \n",
              "4         1              3.0           1.10      18.833333         1.0   \n",
              "\n",
              "  store_and_fwd_flag  PULocationID  DOLocationID payment_type  extra  \\\n",
              "0                  N           120             9  Credit Card    2.5   \n",
              "1                  N            15           215  Credit Card    3.5   \n",
              "2                  N           167           223  Credit Card    0.0   \n",
              "3                  N           128           239  Credit Card    2.5   \n",
              "4                  N           203            52  Credit Card    1.0   \n",
              "\n",
              "   tip_amount  tolls_amount  improvement_surcharge  congestion_surcharge  \\\n",
              "0    7.165589           0.0                    1.0                   2.5   \n",
              "1    6.067401           0.0                    1.0                   2.5   \n",
              "2    4.111547           0.0                    1.0                   2.5   \n",
              "3    6.411079           0.0                    1.0                   2.5   \n",
              "4    4.769377           0.0                    1.0                   2.5   \n",
              "\n",
              "   Airport_fee  total_amount  \n",
              "0          0.0         20.64  \n",
              "1          0.0         25.55  \n",
              "2          0.0         17.64  \n",
              "3          0.0         12.80  \n",
              "4          0.0         18.00  "
            ]
          },
          "execution_count": 14,
          "metadata": {},
          "output_type": "execute_result"
        }
      ],
      "source": [
        "#Sorting the order of features for convenience\n",
        "data=pd.DataFrame(data,columns=['VendorID', 'passenger_count', 'trip_distance', 'ride_duration', 'RatecodeID',\n",
        "       'store_and_fwd_flag', 'PULocationID', 'DOLocationID', 'payment_type',\n",
        "       'extra', 'tip_amount', 'tolls_amount', 'improvement_surcharge','congestion_surcharge', 'Airport_fee',\n",
        "       'total_amount' ])\n",
        "print(data.shape)\n",
        "data.head()\n"
      ]
    },
    {
      "cell_type": "markdown",
      "id": "c8de5bfc",
      "metadata": {
        "papermill": {
          "duration": 0.039575,
          "end_time": "2023-12-13T05:34:44.164766",
          "exception": false,
          "start_time": "2023-12-13T05:34:44.125191",
          "status": "completed"
        },
        "tags": [],
        "id": "c8de5bfc"
      },
      "source": [
        "### Dropping the PU Location ID and DO location ID features"
      ]
    },
    {
      "cell_type": "code",
      "execution_count": null,
      "id": "9bc5eb61",
      "metadata": {
        "execution": {
          "iopub.execute_input": "2023-12-13T05:34:44.247029Z",
          "iopub.status.busy": "2023-12-13T05:34:44.246608Z",
          "iopub.status.idle": "2023-12-13T05:34:44.261641Z",
          "shell.execute_reply": "2023-12-13T05:34:44.260558Z"
        },
        "papermill": {
          "duration": 0.058741,
          "end_time": "2023-12-13T05:34:44.263971",
          "exception": false,
          "start_time": "2023-12-13T05:34:44.205230",
          "status": "completed"
        },
        "tags": [],
        "id": "9bc5eb61",
        "outputId": "e4337d90-ebb2-4cac-b765-03b3ace9ae94"
      },
      "outputs": [
        {
          "data": {
            "text/plain": [
              "(175000, 14)"
            ]
          },
          "execution_count": 15,
          "metadata": {},
          "output_type": "execute_result"
        }
      ],
      "source": [
        "data.drop([\"PULocationID\",\"DOLocationID\"],axis=1,inplace =True)\n",
        "data.shape"
      ]
    },
    {
      "cell_type": "markdown",
      "id": "a7ce40d4",
      "metadata": {
        "papermill": {
          "duration": 0.039986,
          "end_time": "2023-12-13T05:34:44.343746",
          "exception": false,
          "start_time": "2023-12-13T05:34:44.303760",
          "status": "completed"
        },
        "tags": [],
        "id": "a7ce40d4"
      },
      "source": [
        "# Extreme Values Treatment\n",
        "#### From the descriptive statistics that we found out for numerical columns we could see that there are some features which have extremely skewed distribution as their max values are way off from the 3rd quantile Q3.\n"
      ]
    },
    {
      "cell_type": "code",
      "execution_count": null,
      "id": "3f763274",
      "metadata": {
        "execution": {
          "iopub.execute_input": "2023-12-13T05:34:44.424897Z",
          "iopub.status.busy": "2023-12-13T05:34:44.424509Z",
          "iopub.status.idle": "2023-12-13T05:34:44.435889Z",
          "shell.execute_reply": "2023-12-13T05:34:44.434675Z"
        },
        "papermill": {
          "duration": 0.054869,
          "end_time": "2023-12-13T05:34:44.438130",
          "exception": false,
          "start_time": "2023-12-13T05:34:44.383261",
          "status": "completed"
        },
        "tags": [],
        "id": "3f763274",
        "outputId": "9117649e-c2d6-4048-895f-2fbdd8ec72bc"
      },
      "outputs": [
        {
          "name": "stdout",
          "output_type": "stream",
          "text": [
            "(7, 14)\n"
          ]
        },
        {
          "name": "stderr",
          "output_type": "stream",
          "text": [
            "/tmp/ipykernel_20/3869183405.py:4: SettingWithCopyWarning: \n",
            "A value is trying to be set on a copy of a slice from a DataFrame\n",
            "\n",
            "See the caveats in the documentation: https://pandas.pydata.org/pandas-docs/stable/user_guide/indexing.html#returning-a-view-versus-a-copy\n",
            "  data[\"trip_distance\"][data[(data.trip_distance>=100)].index]=100\n"
          ]
        }
      ],
      "source": [
        "print(data[(data.trip_distance>=100)].shape)\n",
        "\n",
        "#Replacing the extreme values of trip_distance with 100\n",
        "data[\"trip_distance\"][data[(data.trip_distance>=100)].index]=100"
      ]
    },
    {
      "cell_type": "code",
      "execution_count": null,
      "id": "8708a7d9",
      "metadata": {
        "execution": {
          "iopub.execute_input": "2023-12-13T05:34:44.519832Z",
          "iopub.status.busy": "2023-12-13T05:34:44.519166Z",
          "iopub.status.idle": "2023-12-13T05:34:44.529856Z",
          "shell.execute_reply": "2023-12-13T05:34:44.528554Z"
        },
        "papermill": {
          "duration": 0.054473,
          "end_time": "2023-12-13T05:34:44.532286",
          "exception": false,
          "start_time": "2023-12-13T05:34:44.477813",
          "status": "completed"
        },
        "tags": [],
        "id": "8708a7d9",
        "outputId": "f358e333-8dff-4dca-ef6f-8a56411c794e"
      },
      "outputs": [
        {
          "name": "stdout",
          "output_type": "stream",
          "text": [
            "(116, 14)\n"
          ]
        },
        {
          "name": "stderr",
          "output_type": "stream",
          "text": [
            "/tmp/ipykernel_20/3203389267.py:3: SettingWithCopyWarning: \n",
            "A value is trying to be set on a copy of a slice from a DataFrame\n",
            "\n",
            "See the caveats in the documentation: https://pandas.pydata.org/pandas-docs/stable/user_guide/indexing.html#returning-a-view-versus-a-copy\n",
            "  data[\"ride_duration\"][data[data.ride_duration>=600].index]=600\n"
          ]
        }
      ],
      "source": [
        "print(data[data.ride_duration>=600].shape)\n",
        "#replacing ride_duration with duration more than 10 hours with 10 hours\n",
        "data[\"ride_duration\"][data[data.ride_duration>=600].index]=600"
      ]
    },
    {
      "cell_type": "code",
      "execution_count": null,
      "id": "3269ee51",
      "metadata": {
        "execution": {
          "iopub.execute_input": "2023-12-13T05:34:44.615620Z",
          "iopub.status.busy": "2023-12-13T05:34:44.615179Z",
          "iopub.status.idle": "2023-12-13T05:34:44.635005Z",
          "shell.execute_reply": "2023-12-13T05:34:44.633968Z"
        },
        "papermill": {
          "duration": 0.064621,
          "end_time": "2023-12-13T05:34:44.637557",
          "exception": false,
          "start_time": "2023-12-13T05:34:44.572936",
          "status": "completed"
        },
        "tags": [],
        "id": "3269ee51",
        "outputId": "9b64db55-f34e-4195-acc0-33b8cabe9052"
      },
      "outputs": [
        {
          "name": "stdout",
          "output_type": "stream",
          "text": [
            "No of values which are outliers (7, 14)\n"
          ]
        },
        {
          "name": "stderr",
          "output_type": "stream",
          "text": [
            "/tmp/ipykernel_20/3294450778.py:4: SettingWithCopyWarning: \n",
            "A value is trying to be set on a copy of a slice from a DataFrame\n",
            "\n",
            "See the caveats in the documentation: https://pandas.pydata.org/pandas-docs/stable/user_guide/indexing.html#returning-a-view-versus-a-copy\n",
            "  data[\"tip_amount\"][data[data.tip_amount>=100].index]=100\n"
          ]
        },
        {
          "data": {
            "text/html": [
              "<div>\n",
              "<style scoped>\n",
              "    .dataframe tbody tr th:only-of-type {\n",
              "        vertical-align: middle;\n",
              "    }\n",
              "\n",
              "    .dataframe tbody tr th {\n",
              "        vertical-align: top;\n",
              "    }\n",
              "\n",
              "    .dataframe thead th {\n",
              "        text-align: right;\n",
              "    }\n",
              "</style>\n",
              "<table border=\"1\" class=\"dataframe\">\n",
              "  <thead>\n",
              "    <tr style=\"text-align: right;\">\n",
              "      <th></th>\n",
              "      <th>VendorID</th>\n",
              "      <th>passenger_count</th>\n",
              "      <th>trip_distance</th>\n",
              "      <th>ride_duration</th>\n",
              "      <th>RatecodeID</th>\n",
              "      <th>store_and_fwd_flag</th>\n",
              "      <th>payment_type</th>\n",
              "      <th>extra</th>\n",
              "      <th>tip_amount</th>\n",
              "      <th>tolls_amount</th>\n",
              "      <th>improvement_surcharge</th>\n",
              "      <th>congestion_surcharge</th>\n",
              "      <th>Airport_fee</th>\n",
              "      <th>total_amount</th>\n",
              "    </tr>\n",
              "  </thead>\n",
              "  <tbody>\n",
              "  </tbody>\n",
              "</table>\n",
              "</div>"
            ],
            "text/plain": [
              "Empty DataFrame\n",
              "Columns: [VendorID, passenger_count, trip_distance, ride_duration, RatecodeID, store_and_fwd_flag, payment_type, extra, tip_amount, tolls_amount, improvement_surcharge, congestion_surcharge, Airport_fee, total_amount]\n",
              "Index: []"
            ]
          },
          "execution_count": 18,
          "metadata": {},
          "output_type": "execute_result"
        }
      ],
      "source": [
        "# Treating extreme values of tip_amount\n",
        "print(\"No of values which are outliers\",data[data.tip_amount>=100].shape)\n",
        "\n",
        "data[\"tip_amount\"][data[data.tip_amount>=100].index]=100\n",
        "data[data.tip_amount>100] #Sanity Check"
      ]
    },
    {
      "cell_type": "code",
      "execution_count": null,
      "id": "4d3338c2",
      "metadata": {
        "execution": {
          "iopub.execute_input": "2023-12-13T05:34:44.722135Z",
          "iopub.status.busy": "2023-12-13T05:34:44.721671Z",
          "iopub.status.idle": "2023-12-13T05:34:44.729472Z",
          "shell.execute_reply": "2023-12-13T05:34:44.728245Z"
        },
        "papermill": {
          "duration": 0.053987,
          "end_time": "2023-12-13T05:34:44.732291",
          "exception": false,
          "start_time": "2023-12-13T05:34:44.678304",
          "status": "completed"
        },
        "tags": [],
        "id": "4d3338c2",
        "outputId": "4414a268-dc3b-404f-e383-b9336f6bba4f"
      },
      "outputs": [
        {
          "data": {
            "text/plain": [
              "'print(\"No of values which are right side outliers\",data[data.total_amount>=210].shape)\\nprint(\"No of values which are right side outliers\",data[data.total_amount>=210].shape)\\nprint(\"99.9 percentile value\",data.total_amount.quantile(0.999))\\n\\n#Replacing outliers with 99.9 percentile value (Winsonizing as earlier)\\ndata[\"total_amount\"][data[data.total_amount>=207.45].index]=207.45\\ndata[data.total_amount>207.5] #Sanity Check'"
            ]
          },
          "execution_count": 19,
          "metadata": {},
          "output_type": "execute_result"
        }
      ],
      "source": [
        "# Treating outliers of total_amount\n",
        "'''print(\"No of values which are right side outliers\",data[data.total_amount>=210].shape)\n",
        "print(\"No of values which are right side outliers\",data[data.total_amount>=210].shape)\n",
        "print(\"99.9 percentile value\",data.total_amount.quantile(0.999))\n",
        "\n",
        "#Replacing outliers with 99.9 percentile value (Winsonizing as earlier)\n",
        "data[\"total_amount\"][data[data.total_amount>=207.45].index]=207.45\n",
        "data[data.total_amount>207.5] #Sanity Check'''\n"
      ]
    },
    {
      "cell_type": "code",
      "execution_count": null,
      "id": "d48e76d1",
      "metadata": {
        "execution": {
          "iopub.execute_input": "2023-12-13T05:34:44.818252Z",
          "iopub.status.busy": "2023-12-13T05:34:44.817749Z",
          "iopub.status.idle": "2023-12-13T05:34:44.824731Z",
          "shell.execute_reply": "2023-12-13T05:34:44.823416Z"
        },
        "papermill": {
          "duration": 0.05353,
          "end_time": "2023-12-13T05:34:44.827287",
          "exception": false,
          "start_time": "2023-12-13T05:34:44.773757",
          "status": "completed"
        },
        "tags": [],
        "id": "d48e76d1",
        "outputId": "76845f31-fdc2-43ea-edcf-1fc2f6246b74"
      },
      "outputs": [
        {
          "data": {
            "text/plain": [
              "'print(\"0.05 percentile value\",data.total_amount.quantile(0.0005))\\nprint(\"No of values which are right side outliers\",data[data.total_amount<=-90].shape)\\ndata[\"total_amount\"][data[data.total_amount<=-90].index]=-90\\ndata[data.total_amount<-91] # Sanity check\\n'"
            ]
          },
          "execution_count": 20,
          "metadata": {},
          "output_type": "execute_result"
        }
      ],
      "source": [
        "## treating left side outliers of total_amount\n",
        "'''print(\"0.05 percentile value\",data.total_amount.quantile(0.0005))\n",
        "print(\"No of values which are right side outliers\",data[data.total_amount<=-90].shape)\n",
        "data[\"total_amount\"][data[data.total_amount<=-90].index]=-90\n",
        "data[data.total_amount<-91] # Sanity check\n",
        "'''"
      ]
    },
    {
      "cell_type": "markdown",
      "id": "69502a7d",
      "metadata": {
        "papermill": {
          "duration": 0.040775,
          "end_time": "2023-12-13T05:34:44.908910",
          "exception": false,
          "start_time": "2023-12-13T05:34:44.868135",
          "status": "completed"
        },
        "tags": [],
        "id": "69502a7d"
      },
      "source": [
        "## Converting VendorID and RatecodeID to object type based on our previous insight on its nature being categorical"
      ]
    },
    {
      "cell_type": "code",
      "execution_count": null,
      "id": "41419759",
      "metadata": {
        "execution": {
          "iopub.execute_input": "2023-12-13T05:34:44.993626Z",
          "iopub.status.busy": "2023-12-13T05:34:44.993169Z",
          "iopub.status.idle": "2023-12-13T05:34:45.093609Z",
          "shell.execute_reply": "2023-12-13T05:34:45.092014Z"
        },
        "papermill": {
          "duration": 0.146303,
          "end_time": "2023-12-13T05:34:45.096547",
          "exception": false,
          "start_time": "2023-12-13T05:34:44.950244",
          "status": "completed"
        },
        "tags": [],
        "id": "41419759",
        "outputId": "97a86793-1b5e-45dd-d61f-fd1f05da2a3a"
      },
      "outputs": [
        {
          "name": "stdout",
          "output_type": "stream",
          "text": [
            "<class 'pandas.core.frame.DataFrame'>\n",
            "RangeIndex: 175000 entries, 0 to 174999\n",
            "Data columns (total 14 columns):\n",
            " #   Column                 Non-Null Count   Dtype  \n",
            "---  ------                 --------------   -----  \n",
            " 0   VendorID               175000 non-null  object \n",
            " 1   passenger_count        168923 non-null  float64\n",
            " 2   trip_distance          175000 non-null  float64\n",
            " 3   ride_duration          175000 non-null  float64\n",
            " 4   RatecodeID             168923 non-null  object \n",
            " 5   store_and_fwd_flag     168923 non-null  object \n",
            " 6   payment_type           175000 non-null  object \n",
            " 7   extra                  175000 non-null  float64\n",
            " 8   tip_amount             175000 non-null  float64\n",
            " 9   tolls_amount           175000 non-null  float64\n",
            " 10  improvement_surcharge  175000 non-null  float64\n",
            " 11  congestion_surcharge   168923 non-null  float64\n",
            " 12  Airport_fee            168923 non-null  float64\n",
            " 13  total_amount           175000 non-null  float64\n",
            "dtypes: float64(10), object(4)\n",
            "memory usage: 18.7+ MB\n"
          ]
        }
      ],
      "source": [
        "data[\"VendorID\"]=data[\"VendorID\"].astype(\"object\")\n",
        "data[\"RatecodeID\"]=data[\"RatecodeID\"].astype(\"object\")\n",
        "data.info()"
      ]
    },
    {
      "cell_type": "markdown",
      "id": "23184237",
      "metadata": {
        "papermill": {
          "duration": 0.041224,
          "end_time": "2023-12-13T05:34:45.178971",
          "exception": false,
          "start_time": "2023-12-13T05:34:45.137747",
          "status": "completed"
        },
        "tags": [],
        "id": "23184237"
      },
      "source": [
        "# Train and Validation split\n",
        "#### Before we start preprocessing, Splitting the train dataset into train set and validation set with validation set size being 20% and also creating a copy of train data to do visualisations."
      ]
    },
    {
      "cell_type": "code",
      "execution_count": null,
      "id": "20706757",
      "metadata": {
        "execution": {
          "iopub.execute_input": "2023-12-13T05:34:45.266646Z",
          "iopub.status.busy": "2023-12-13T05:34:45.266256Z",
          "iopub.status.idle": "2023-12-13T05:34:45.415863Z",
          "shell.execute_reply": "2023-12-13T05:34:45.414389Z"
        },
        "papermill": {
          "duration": 0.196992,
          "end_time": "2023-12-13T05:34:45.418441",
          "exception": false,
          "start_time": "2023-12-13T05:34:45.221449",
          "status": "completed"
        },
        "tags": [],
        "id": "20706757",
        "outputId": "5037d7d1-62e3-4321-e087-f68fce584b0e"
      },
      "outputs": [
        {
          "name": "stdout",
          "output_type": "stream",
          "text": [
            "Training set shape : (140000, 14)\n",
            "Test set shape : (35000, 14)\n"
          ]
        }
      ],
      "source": [
        "#Splitting data into training and validation set\n",
        "from sklearn.model_selection import train_test_split\n",
        "train,val=train_test_split(data,test_size=0.2,random_state=42)\n",
        "print(\"Training set shape :\",train.shape)\n",
        "print(\"Test set shape :\",val.shape)\n",
        "\n",
        "# Creating a copy of train data for visualisation purpose\n",
        "visual= train.copy()\n",
        "\n",
        "#Separating features and labels for both Training and Validation set\n",
        "X_train=train.drop([\"total_amount\"],axis=1)\n",
        "X_val=val.drop([\"total_amount\"],axis=1)\n",
        "y_train=train[\"total_amount\"]\n",
        "y_val=val[\"total_amount\"]"
      ]
    },
    {
      "cell_type": "markdown",
      "id": "e8b048c0",
      "metadata": {
        "papermill": {
          "duration": 0.040924,
          "end_time": "2023-12-13T05:34:45.500389",
          "exception": false,
          "start_time": "2023-12-13T05:34:45.459465",
          "status": "completed"
        },
        "tags": [],
        "id": "e8b048c0"
      },
      "source": [
        "# Visualisations"
      ]
    },
    {
      "cell_type": "code",
      "execution_count": null,
      "id": "8544b8f0",
      "metadata": {
        "execution": {
          "iopub.execute_input": "2023-12-13T05:34:45.585592Z",
          "iopub.status.busy": "2023-12-13T05:34:45.585022Z",
          "iopub.status.idle": "2023-12-13T05:34:45.686162Z",
          "shell.execute_reply": "2023-12-13T05:34:45.685338Z"
        },
        "papermill": {
          "duration": 0.14711,
          "end_time": "2023-12-13T05:34:45.688385",
          "exception": false,
          "start_time": "2023-12-13T05:34:45.541275",
          "status": "completed"
        },
        "tags": [],
        "id": "8544b8f0",
        "outputId": "4b650290-7003-4e02-8778-d40b5ae08a68"
      },
      "outputs": [
        {
          "data": {
            "text/html": [
              "<div>\n",
              "<style scoped>\n",
              "    .dataframe tbody tr th:only-of-type {\n",
              "        vertical-align: middle;\n",
              "    }\n",
              "\n",
              "    .dataframe tbody tr th {\n",
              "        vertical-align: top;\n",
              "    }\n",
              "\n",
              "    .dataframe thead th {\n",
              "        text-align: right;\n",
              "    }\n",
              "</style>\n",
              "<table border=\"1\" class=\"dataframe\">\n",
              "  <thead>\n",
              "    <tr style=\"text-align: right;\">\n",
              "      <th></th>\n",
              "      <th>count</th>\n",
              "      <th>mean</th>\n",
              "      <th>std</th>\n",
              "      <th>min</th>\n",
              "      <th>25%</th>\n",
              "      <th>50%</th>\n",
              "      <th>75%</th>\n",
              "      <th>max</th>\n",
              "    </tr>\n",
              "  </thead>\n",
              "  <tbody>\n",
              "    <tr>\n",
              "      <th>passenger_count</th>\n",
              "      <td>135159.0</td>\n",
              "      <td>1.359051</td>\n",
              "      <td>0.892499</td>\n",
              "      <td>0.000000</td>\n",
              "      <td>1.000000</td>\n",
              "      <td>1.000000</td>\n",
              "      <td>1.000000</td>\n",
              "      <td>9.00</td>\n",
              "    </tr>\n",
              "    <tr>\n",
              "      <th>trip_distance</th>\n",
              "      <td>140000.0</td>\n",
              "      <td>3.682218</td>\n",
              "      <td>4.900898</td>\n",
              "      <td>0.000000</td>\n",
              "      <td>1.080000</td>\n",
              "      <td>1.840000</td>\n",
              "      <td>3.620000</td>\n",
              "      <td>100.00</td>\n",
              "    </tr>\n",
              "    <tr>\n",
              "      <th>ride_duration</th>\n",
              "      <td>140000.0</td>\n",
              "      <td>44.066808</td>\n",
              "      <td>34.900679</td>\n",
              "      <td>0.000000</td>\n",
              "      <td>17.783333</td>\n",
              "      <td>38.000000</td>\n",
              "      <td>64.216667</td>\n",
              "      <td>600.00</td>\n",
              "    </tr>\n",
              "    <tr>\n",
              "      <th>extra</th>\n",
              "      <td>140000.0</td>\n",
              "      <td>1.936735</td>\n",
              "      <td>1.951443</td>\n",
              "      <td>-7.500000</td>\n",
              "      <td>0.000000</td>\n",
              "      <td>1.000000</td>\n",
              "      <td>2.500000</td>\n",
              "      <td>11.75</td>\n",
              "    </tr>\n",
              "    <tr>\n",
              "      <th>tip_amount</th>\n",
              "      <td>140000.0</td>\n",
              "      <td>6.122978</td>\n",
              "      <td>4.432294</td>\n",
              "      <td>0.000079</td>\n",
              "      <td>3.472274</td>\n",
              "      <td>5.288747</td>\n",
              "      <td>7.508931</td>\n",
              "      <td>100.00</td>\n",
              "    </tr>\n",
              "    <tr>\n",
              "      <th>tolls_amount</th>\n",
              "      <td>140000.0</td>\n",
              "      <td>0.650111</td>\n",
              "      <td>2.328823</td>\n",
              "      <td>-29.300000</td>\n",
              "      <td>0.000000</td>\n",
              "      <td>0.000000</td>\n",
              "      <td>0.000000</td>\n",
              "      <td>80.00</td>\n",
              "    </tr>\n",
              "    <tr>\n",
              "      <th>improvement_surcharge</th>\n",
              "      <td>140000.0</td>\n",
              "      <td>0.979723</td>\n",
              "      <td>0.198490</td>\n",
              "      <td>-1.000000</td>\n",
              "      <td>1.000000</td>\n",
              "      <td>1.000000</td>\n",
              "      <td>1.000000</td>\n",
              "      <td>1.00</td>\n",
              "    </tr>\n",
              "    <tr>\n",
              "      <th>congestion_surcharge</th>\n",
              "      <td>135159.0</td>\n",
              "      <td>2.248259</td>\n",
              "      <td>0.817195</td>\n",
              "      <td>-2.500000</td>\n",
              "      <td>2.500000</td>\n",
              "      <td>2.500000</td>\n",
              "      <td>2.500000</td>\n",
              "      <td>2.50</td>\n",
              "    </tr>\n",
              "    <tr>\n",
              "      <th>Airport_fee</th>\n",
              "      <td>135159.0</td>\n",
              "      <td>0.159360</td>\n",
              "      <td>0.512795</td>\n",
              "      <td>-1.750000</td>\n",
              "      <td>0.000000</td>\n",
              "      <td>0.000000</td>\n",
              "      <td>0.000000</td>\n",
              "      <td>1.75</td>\n",
              "    </tr>\n",
              "    <tr>\n",
              "      <th>total_amount</th>\n",
              "      <td>140000.0</td>\n",
              "      <td>29.665179</td>\n",
              "      <td>25.403876</td>\n",
              "      <td>-576.750000</td>\n",
              "      <td>16.300000</td>\n",
              "      <td>21.450000</td>\n",
              "      <td>31.900000</td>\n",
              "      <td>587.25</td>\n",
              "    </tr>\n",
              "  </tbody>\n",
              "</table>\n",
              "</div>"
            ],
            "text/plain": [
              "                          count       mean        std         min        25%  \\\n",
              "passenger_count        135159.0   1.359051   0.892499    0.000000   1.000000   \n",
              "trip_distance          140000.0   3.682218   4.900898    0.000000   1.080000   \n",
              "ride_duration          140000.0  44.066808  34.900679    0.000000  17.783333   \n",
              "extra                  140000.0   1.936735   1.951443   -7.500000   0.000000   \n",
              "tip_amount             140000.0   6.122978   4.432294    0.000079   3.472274   \n",
              "tolls_amount           140000.0   0.650111   2.328823  -29.300000   0.000000   \n",
              "improvement_surcharge  140000.0   0.979723   0.198490   -1.000000   1.000000   \n",
              "congestion_surcharge   135159.0   2.248259   0.817195   -2.500000   2.500000   \n",
              "Airport_fee            135159.0   0.159360   0.512795   -1.750000   0.000000   \n",
              "total_amount           140000.0  29.665179  25.403876 -576.750000  16.300000   \n",
              "\n",
              "                             50%        75%     max  \n",
              "passenger_count         1.000000   1.000000    9.00  \n",
              "trip_distance           1.840000   3.620000  100.00  \n",
              "ride_duration          38.000000  64.216667  600.00  \n",
              "extra                   1.000000   2.500000   11.75  \n",
              "tip_amount              5.288747   7.508931  100.00  \n",
              "tolls_amount            0.000000   0.000000   80.00  \n",
              "improvement_surcharge   1.000000   1.000000    1.00  \n",
              "congestion_surcharge    2.500000   2.500000    2.50  \n",
              "Airport_fee             0.000000   0.000000    1.75  \n",
              "total_amount           21.450000  31.900000  587.25  "
            ]
          },
          "execution_count": 23,
          "metadata": {},
          "output_type": "execute_result"
        }
      ],
      "source": [
        "# Descriptive Statistics for the numerical variables\n",
        "visual.describe().T"
      ]
    },
    {
      "cell_type": "markdown",
      "id": "d2d6d805",
      "metadata": {
        "papermill": {
          "duration": 0.041052,
          "end_time": "2023-12-13T05:34:45.770779",
          "exception": false,
          "start_time": "2023-12-13T05:34:45.729727",
          "status": "completed"
        },
        "tags": [],
        "id": "d2d6d805"
      },
      "source": [
        "### Several Insights\n",
        "#### 1)VendorID column is in fact a categorical column with 0,1,2 denoting the 3 different vendors.\n",
        "#### 2)RatecodeID also seems to be some sort of categorical column with categories (1,2,3,4,5,99)"
      ]
    },
    {
      "cell_type": "code",
      "execution_count": null,
      "id": "5bdb5a0a",
      "metadata": {
        "execution": {
          "iopub.execute_input": "2023-12-13T05:34:45.855255Z",
          "iopub.status.busy": "2023-12-13T05:34:45.854796Z",
          "iopub.status.idle": "2023-12-13T05:34:47.373349Z",
          "shell.execute_reply": "2023-12-13T05:34:47.372113Z"
        },
        "papermill": {
          "duration": 1.563918,
          "end_time": "2023-12-13T05:34:47.376236",
          "exception": false,
          "start_time": "2023-12-13T05:34:45.812318",
          "status": "completed"
        },
        "tags": [],
        "id": "5bdb5a0a",
        "outputId": "7180e552-d832-469b-b968-e83493f25484"
      },
      "outputs": [
        {
          "data": {
            "text/plain": [
              "Text(0.5, 0, 'Total Amount')"
            ]
          },
          "execution_count": 24,
          "metadata": {},
          "output_type": "execute_result"
        },
        {
          "data": {
            "image/png": "[encoded data removed]",
            "text/plain": [
              "<Figure size 1000x400 with 2 Axes>"
            ]
          },
          "metadata": {},
          "output_type": "display_data"
        }
      ],
      "source": [
        "#Plotting histogram for the target variable total_amount\n",
        "plt.figure(figsize=(10,4))\n",
        "plt.subplot(1,2,1)\n",
        "sns.histplot(visual['total_amount'], bins=50, kde=True)\n",
        "plt.title('Distribution of Total Amount')\n",
        "plt.xlabel('Total Amount')\n",
        "plt.ylabel('Frequency')\n",
        "\n",
        "#Plotting a boxplot for target variable\n",
        "plt.subplot(1,2,2)\n",
        "sns.boxplot(x=visual['total_amount'])\n",
        "plt.title('Boxplot of Total Amount')\n",
        "plt.xlabel('Total Amount')"
      ]
    },
    {
      "cell_type": "code",
      "execution_count": null,
      "id": "370690e3",
      "metadata": {
        "execution": {
          "iopub.execute_input": "2023-12-13T05:34:47.466716Z",
          "iopub.status.busy": "2023-12-13T05:34:47.466318Z",
          "iopub.status.idle": "2023-12-13T05:34:47.489221Z",
          "shell.execute_reply": "2023-12-13T05:34:47.487968Z"
        },
        "papermill": {
          "duration": 0.07101,
          "end_time": "2023-12-13T05:34:47.491762",
          "exception": false,
          "start_time": "2023-12-13T05:34:47.420752",
          "status": "completed"
        },
        "tags": [],
        "id": "370690e3",
        "outputId": "69d4a5f9-b407-4656-aba8-fc93b41d5237"
      },
      "outputs": [
        {
          "data": {
            "text/plain": [
              "(18709, 14)"
            ]
          },
          "execution_count": 25,
          "metadata": {},
          "output_type": "execute_result"
        }
      ],
      "source": [
        "# Counting the number of samples that are outliers on the basis of the target variable\n",
        "Q1=visual[\"total_amount\"].quantile(0.25)\n",
        "Q3=visual[\"total_amount\"].quantile(0.75)\n",
        "IQR=Q3-Q1\n",
        "visual[(visual[\"total_amount\"]<Q1-1.5*IQR)|(visual[\"total_amount\"]>Q3+1.5*IQR)].shape"
      ]
    },
    {
      "cell_type": "markdown",
      "id": "8f4db968",
      "metadata": {
        "papermill": {
          "duration": 0.043424,
          "end_time": "2023-12-13T05:34:47.577935",
          "exception": false,
          "start_time": "2023-12-13T05:34:47.534511",
          "status": "completed"
        },
        "tags": [],
        "id": "8f4db968"
      },
      "source": [
        "### So the target variable has a positively skewed distribution with many outliers as shown on the Boxplot and further counted using the IQR range method."
      ]
    },
    {
      "cell_type": "code",
      "execution_count": null,
      "id": "79e90475",
      "metadata": {
        "execution": {
          "iopub.execute_input": "2023-12-13T05:34:47.667319Z",
          "iopub.status.busy": "2023-12-13T05:34:47.666159Z",
          "iopub.status.idle": "2023-12-13T05:34:49.559843Z",
          "shell.execute_reply": "2023-12-13T05:34:49.558656Z"
        },
        "papermill": {
          "duration": 1.942072,
          "end_time": "2023-12-13T05:34:49.562664",
          "exception": false,
          "start_time": "2023-12-13T05:34:47.620592",
          "status": "completed"
        },
        "tags": [],
        "id": "79e90475",
        "outputId": "41386246-ed0e-4cbf-fe0e-3e237f53fb60"
      },
      "outputs": [
        {
          "data": {
            "image/png": "[encoded data removed]",
            "text/plain": [
              "<Figure size 640x480 with 1 Axes>"
            ]
          },
          "metadata": {},
          "output_type": "display_data"
        },
        {
          "data": {
            "image/png": "[encoded data removed]",
            "text/plain": [
              "<Figure size 640x480 with 1 Axes>"
            ]
          },
          "metadata": {},
          "output_type": "display_data"
        },
        {
          "data": {
            "image/png": "[encoded data removed]",
            "text/plain": [
              "<Figure size 640x480 with 1 Axes>"
            ]
          },
          "metadata": {},
          "output_type": "display_data"
        },
        {
          "data": {
            "image/png": "[encoded data removed]",
            "text/plain": [
              "<Figure size 640x480 with 1 Axes>"
            ]
          },
          "metadata": {},
          "output_type": "display_data"
        },
        {
          "data": {
            "image/png": "[encoded data removed]",
            "text/plain": [
              "<Figure size 640x480 with 1 Axes>"
            ]
          },
          "metadata": {},
          "output_type": "display_data"
        },
        {
          "data": {
            "image/png": "[encoded data removed]",
            "text/plain": [
              "<Figure size 640x480 with 1 Axes>"
            ]
          },
          "metadata": {},
          "output_type": "display_data"
        },
        {
          "data": {
            "image/png": "[encoded data removed]",
            "text/plain": [
              "<Figure size 640x480 with 1 Axes>"
            ]
          },
          "metadata": {},
          "output_type": "display_data"
        },
        {
          "data": {
            "image/png": "[encoded data removed]",
            "text/plain": [
              "<Figure size 640x480 with 1 Axes>"
            ]
          },
          "metadata": {},
          "output_type": "display_data"
        }
      ],
      "source": [
        "# Plotting boxplots for various numerical features\n",
        "numerical_features = ['trip_distance','ride_duration', 'extra', 'tip_amount', 'tolls_amount',\"Airport_fee\",\"congestion_surcharge\",\"improvement_surcharge\"]\n",
        "for feature in numerical_features:\n",
        "    sns.boxplot(x=visual[feature])\n",
        "    plt.title(f'Box Plot of {feature}')\n",
        "    plt.show()\n"
      ]
    },
    {
      "cell_type": "markdown",
      "id": "8e2306e9",
      "metadata": {
        "papermill": {
          "duration": 0.045477,
          "end_time": "2023-12-13T05:34:49.653939",
          "exception": false,
          "start_time": "2023-12-13T05:34:49.608462",
          "status": "completed"
        },
        "tags": [],
        "id": "8e2306e9"
      },
      "source": [
        "### As evident from the above boxplot, all the numerical features have skewed distribution and almost all of them have outliers.\n",
        "### Further, Airport fee has just 3 values -1.75,0.,1.75 seems like some sort of percentage on base fare.            Congestion surcharges has just 3 values (-2.75,0,2.75), improvement_surcharge has just 4 values (-1,0,0.3,1)\n",
        "\n"
      ]
    },
    {
      "cell_type": "code",
      "execution_count": null,
      "id": "38a8e0ce",
      "metadata": {
        "execution": {
          "iopub.execute_input": "2023-12-13T05:34:49.748273Z",
          "iopub.status.busy": "2023-12-13T05:34:49.747001Z",
          "iopub.status.idle": "2023-12-13T05:34:58.575594Z",
          "shell.execute_reply": "2023-12-13T05:34:58.574707Z"
        },
        "papermill": {
          "duration": 8.876988,
          "end_time": "2023-12-13T05:34:58.577845",
          "exception": false,
          "start_time": "2023-12-13T05:34:49.700857",
          "status": "completed"
        },
        "tags": [],
        "id": "38a8e0ce",
        "outputId": "e0439bf3-74a0-4009-c8cf-caee646297b3"
      },
      "outputs": [
        {
          "data": {
            "image/png": "[encoded data removed]",
            "text/plain": [
              "<Figure size 640x480 with 1 Axes>"
            ]
          },
          "metadata": {},
          "output_type": "display_data"
        },
        {
          "data": {
            "image/png": "[encoded data removed]",
            "text/plain": [
              "<Figure size 640x480 with 1 Axes>"
            ]
          },
          "metadata": {},
          "output_type": "display_data"
        },
        {
          "data": {
            "image/png": "[encoded data removed]",
            "text/plain": [
              "<Figure size 640x480 with 1 Axes>"
            ]
          },
          "metadata": {},
          "output_type": "display_data"
        },
        {
          "data": {
            "image/png": "[encoded data removed]",
            "text/plain": [
              "<Figure size 640x480 with 1 Axes>"
            ]
          },
          "metadata": {},
          "output_type": "display_data"
        }
      ],
      "source": [
        "# Plotting barplot to show the mean value of total amount against the various categories of the 2 categorical variables VendorID and RateCodeID\n",
        "categorical_features = ['VendorID', 'RatecodeID',\"payment_type\",\"store_and_fwd_flag\"]\n",
        "for feature in categorical_features:\n",
        "    sns.barplot(x=feature, y='total_amount', data=visual)\n",
        "    plt.title(f'Bar Plot of {feature} vs Total Amount')\n",
        "    plt.xlabel(feature)\n",
        "    plt.ylabel('Total Amount')\n",
        "    plt.show()"
      ]
    },
    {
      "cell_type": "markdown",
      "id": "a375bec1",
      "metadata": {
        "papermill": {
          "duration": 0.047205,
          "end_time": "2023-12-13T05:34:58.671760",
          "exception": false,
          "start_time": "2023-12-13T05:34:58.624555",
          "status": "completed"
        },
        "tags": [],
        "id": "a375bec1"
      },
      "source": [
        "#### 1)As can be seen the average fare is different for different RateCodeIDs and since there is no monotonous increase in ride fare with ratecode so we may conclude that it isn't an ordinal variable after all.\n",
        "#### 2) And, for the rides done by vendor 2 the average fare seems to be the highest despite the fraction of ride done by him being the lowest as confirmed from the below barplot.\n",
        "#### 3) It seems that the rides for which payment were made by Wallet were on an average costlier vis a vis other payment menthods.\n",
        "#### 4) Also the rides which weren't stored and forwarded were costlier on an average."
      ]
    },
    {
      "cell_type": "code",
      "execution_count": null,
      "id": "7b4a9323",
      "metadata": {
        "execution": {
          "iopub.execute_input": "2023-12-13T05:34:58.767242Z",
          "iopub.status.busy": "2023-12-13T05:34:58.766478Z",
          "iopub.status.idle": "2023-12-13T05:34:59.463046Z",
          "shell.execute_reply": "2023-12-13T05:34:59.461750Z"
        },
        "papermill": {
          "duration": 0.747238,
          "end_time": "2023-12-13T05:34:59.465636",
          "exception": false,
          "start_time": "2023-12-13T05:34:58.718398",
          "status": "completed"
        },
        "tags": [],
        "id": "7b4a9323",
        "outputId": "a6d1adb2-c46b-4639-f1a6-018f3621cbfc"
      },
      "outputs": [
        {
          "data": {
            "text/plain": [
              "<Axes: xlabel='VendorID', ylabel='count'>"
            ]
          },
          "execution_count": 28,
          "metadata": {},
          "output_type": "execute_result"
        },
        {
          "data": {
            "image/png": "[encoded data removed]",
            "text/plain": [
              "<Figure size 640x480 with 1 Axes>"
            ]
          },
          "metadata": {},
          "output_type": "display_data"
        }
      ],
      "source": [
        "sns.countplot(x='VendorID', data=visual, palette='viridis')"
      ]
    },
    {
      "cell_type": "code",
      "execution_count": null,
      "id": "44d3b8ce",
      "metadata": {
        "execution": {
          "iopub.execute_input": "2023-12-13T05:34:59.565416Z",
          "iopub.status.busy": "2023-12-13T05:34:59.564983Z",
          "iopub.status.idle": "2023-12-13T05:35:01.361811Z",
          "shell.execute_reply": "2023-12-13T05:35:01.360311Z"
        },
        "papermill": {
          "duration": 1.849278,
          "end_time": "2023-12-13T05:35:01.364664",
          "exception": false,
          "start_time": "2023-12-13T05:34:59.515386",
          "status": "completed"
        },
        "tags": [],
        "id": "44d3b8ce",
        "outputId": "af6526c1-b063-4244-e64e-3be894c08117"
      },
      "outputs": [
        {
          "data": {
            "image/png": "[encoded data removed]",
            "text/plain": [
              "<Figure size 1200x800 with 2 Axes>"
            ]
          },
          "metadata": {},
          "output_type": "display_data"
        },
        {
          "data": {
            "image/png": "[encoded data removed]",
            "text/plain": [
              "<Figure size 1200x800 with 2 Axes>"
            ]
          },
          "metadata": {},
          "output_type": "display_data"
        }
      ],
      "source": [
        "# FInding correlation betwen numerical features and total_amount using Pearson and Spearman correlation coeffcient\n",
        "\n",
        "correlation_matrix_pearson = visual[numerical_features + ['total_amount']].corr()\n",
        "plt.figure(figsize=(12,8))\n",
        "sns.heatmap(correlation_matrix_pearson, annot=True, cmap='coolwarm', fmt=\".2f\",)\n",
        "plt.title('Pearson Correlation Heatmap')\n",
        "plt.show()\n",
        "#Plotting Spearman heatmap\n",
        "correlation_matrix_spearman =  visual[numerical_features + ['total_amount']].corr(method=\"spearman\")\n",
        "plt.figure(figsize=(12,8))\n",
        "sns.heatmap(correlation_matrix_spearman, annot=True, cmap='coolwarm', fmt=\".2f\")\n",
        "plt.title('Spearman Correlation Heatmap')\n",
        "plt.show()"
      ]
    },
    {
      "cell_type": "markdown",
      "id": "0aa7ec8e",
      "metadata": {
        "papermill": {
          "duration": 0.050829,
          "end_time": "2023-12-13T05:35:01.467402",
          "exception": false,
          "start_time": "2023-12-13T05:35:01.416573",
          "status": "completed"
        },
        "tags": [],
        "id": "0aa7ec8e"
      },
      "source": [
        "### From the above correlation heatmaps we can infer the following about the data.\n",
        "#### 1) Target_variable is highly positively correlated with trip_distance, tip_amount, tolls_amount,Airport_fee and mildly positively with improvement_surcharge and extra.\n",
        "#### 2) target variable is negatively correlated with congestion surcharge.\n",
        "#### 3) feature trip_distance is correlated with certain other features viz. tip, toll amounts and Airport fee and these 3 are correlated with each other.(Might come useful when we will want to reduce features)\n",
        "#### 4) Differences in Spearman and Pearson correlations is indicative of the fact that the features are also non linearly related with the Target variable."
      ]
    },
    {
      "cell_type": "markdown",
      "id": "68fa13a9",
      "metadata": {
        "papermill": {
          "duration": 0.050685,
          "end_time": "2023-12-13T05:35:01.570351",
          "exception": false,
          "start_time": "2023-12-13T05:35:01.519666",
          "status": "completed"
        },
        "tags": [],
        "id": "68fa13a9"
      },
      "source": [
        "# Preprocessing"
      ]
    },
    {
      "cell_type": "code",
      "execution_count": null,
      "id": "b6986032",
      "metadata": {
        "execution": {
          "iopub.execute_input": "2023-12-13T05:35:01.675436Z",
          "iopub.status.busy": "2023-12-13T05:35:01.675021Z",
          "iopub.status.idle": "2023-12-13T05:35:01.724614Z",
          "shell.execute_reply": "2023-12-13T05:35:01.723567Z"
        },
        "papermill": {
          "duration": 0.104669,
          "end_time": "2023-12-13T05:35:01.727390",
          "exception": false,
          "start_time": "2023-12-13T05:35:01.622721",
          "status": "completed"
        },
        "tags": [],
        "id": "b6986032"
      },
      "outputs": [],
      "source": [
        "# Separating numerical and categorical features\n",
        "num_features=X_train.select_dtypes(include=[\"int\",\"float\"]).columns\n",
        "cat_features=X_train.select_dtypes(include=[\"object\"]).columns\n",
        "from sklearn.preprocessing import MinMaxScaler, OneHotEncoder\n",
        "from sklearn.impute import SimpleImputer, KNNImputer\n",
        "\n"
      ]
    },
    {
      "cell_type": "markdown",
      "id": "8bd077ec",
      "metadata": {
        "papermill": {
          "duration": 0.051619,
          "end_time": "2023-12-13T05:35:01.829841",
          "exception": false,
          "start_time": "2023-12-13T05:35:01.778222",
          "status": "completed"
        },
        "tags": [],
        "id": "8bd077ec"
      },
      "source": [
        "## Making separate pipelines for categorical and numerical features."
      ]
    },
    {
      "cell_type": "code",
      "execution_count": null,
      "id": "31aa7a9c",
      "metadata": {
        "execution": {
          "iopub.execute_input": "2023-12-13T05:35:01.933852Z",
          "iopub.status.busy": "2023-12-13T05:35:01.933456Z",
          "iopub.status.idle": "2023-12-13T05:35:02.667897Z",
          "shell.execute_reply": "2023-12-13T05:35:02.666267Z"
        },
        "papermill": {
          "duration": 0.789597,
          "end_time": "2023-12-13T05:35:02.670604",
          "exception": false,
          "start_time": "2023-12-13T05:35:01.881007",
          "status": "completed"
        },
        "tags": [],
        "id": "31aa7a9c",
        "outputId": "5b1bb126-9c14-45f3-f926-41324b49dcc3"
      },
      "outputs": [
        {
          "name": "stdout",
          "output_type": "stream",
          "text": [
            "Feature matrix's Shape post transformation (140000, 25)\n",
            "\n",
            "Name of the transformed features\n",
            " ['categorical__VendorID_0' 'categorical__VendorID_1'\n",
            " 'categorical__VendorID_2' 'categorical__RatecodeID_1.0'\n",
            " 'categorical__RatecodeID_2.0' 'categorical__RatecodeID_3.0'\n",
            " 'categorical__RatecodeID_4.0' 'categorical__RatecodeID_5.0'\n",
            " 'categorical__RatecodeID_99.0' 'categorical__store_and_fwd_flag_N'\n",
            " 'categorical__store_and_fwd_flag_Y' 'categorical__payment_type_Cash'\n",
            " 'categorical__payment_type_Credit Card' 'categorical__payment_type_UPI'\n",
            " 'categorical__payment_type_Wallet' 'categorical__payment_type_unknown'\n",
            " 'numerical__passenger_count' 'numerical__trip_distance'\n",
            " 'numerical__ride_duration' 'numerical__extra' 'numerical__tip_amount'\n",
            " 'numerical__tolls_amount' 'numerical__improvement_surcharge'\n",
            " 'numerical__congestion_surcharge' 'numerical__Airport_fee']\n"
          ]
        }
      ],
      "source": [
        "## Making separate pipeline for categorical and numerical features preprocessing\n",
        "#Importing necessary items\n",
        "from sklearn.compose import ColumnTransformer\n",
        "from sklearn.pipeline import Pipeline\n",
        "\n",
        "#Creating pipelines\n",
        "cat_pipeline = Pipeline(steps=[(\"Cat_Impute\",SimpleImputer(strategy=\"most_frequent\")),(\"OHE\",OneHotEncoder(sparse_output=False))])\n",
        "num_pipeline = Pipeline(steps=[(\"num_impute\",SimpleImputer(strategy=\"median\")),(\"Scaling\",MinMaxScaler())])\n",
        "\n",
        "#Combining the transformations\n",
        "CT=ColumnTransformer([(\"categorical\",cat_pipeline,cat_features),(\"numerical\",num_pipeline,num_features)],remainder=\"passthrough\")\n",
        "X_train_transformed=CT.fit_transform(X_train)\n",
        "print(\"Feature matrix's Shape post transformation\",X_train_transformed.shape)\n",
        "print(\"\\nName of the transformed features\\n\",CT.get_feature_names_out())\n"
      ]
    },
    {
      "cell_type": "code",
      "execution_count": null,
      "id": "81315a75",
      "metadata": {
        "execution": {
          "iopub.execute_input": "2023-12-13T05:35:02.775832Z",
          "iopub.status.busy": "2023-12-13T05:35:02.774514Z",
          "iopub.status.idle": "2023-12-13T05:35:02.878804Z",
          "shell.execute_reply": "2023-12-13T05:35:02.877749Z"
        },
        "papermill": {
          "duration": 0.159601,
          "end_time": "2023-12-13T05:35:02.881478",
          "exception": false,
          "start_time": "2023-12-13T05:35:02.721877",
          "status": "completed"
        },
        "tags": [],
        "id": "81315a75"
      },
      "outputs": [],
      "source": [
        "##Transforming the validation feature matrix as well\n",
        "X_val_transformed=CT.transform(X_val)"
      ]
    },
    {
      "cell_type": "markdown",
      "id": "d1a026bd",
      "metadata": {
        "papermill": {
          "duration": 0.051699,
          "end_time": "2023-12-13T05:35:02.984108",
          "exception": false,
          "start_time": "2023-12-13T05:35:02.932409",
          "status": "completed"
        },
        "tags": [],
        "id": "d1a026bd"
      },
      "source": [
        "# Baseline SGD with l2 penalty."
      ]
    },
    {
      "cell_type": "code",
      "execution_count": null,
      "id": "7a56e7d2",
      "metadata": {
        "execution": {
          "iopub.execute_input": "2023-12-13T05:35:03.088477Z",
          "iopub.status.busy": "2023-12-13T05:35:03.087698Z",
          "iopub.status.idle": "2023-12-13T05:35:17.408341Z",
          "shell.execute_reply": "2023-12-13T05:35:17.407048Z"
        },
        "papermill": {
          "duration": 14.375838,
          "end_time": "2023-12-13T05:35:17.410985",
          "exception": false,
          "start_time": "2023-12-13T05:35:03.035147",
          "status": "completed"
        },
        "tags": [],
        "id": "7a56e7d2",
        "outputId": "669a82de-81d3-4398-f298-4909f5d99dc8"
      },
      "outputs": [
        {
          "data": {
            "text/html": [
              "<style>#sk-container-id-1 {color: black;background-color: white;}#sk-container-id-1 pre{padding: 0;}#sk-container-id-1 div.sk-toggleable {background-color: white;}#sk-container-id-1 label.sk-toggleable__label {cursor: pointer;display: block;width: 100%;margin-bottom: 0;padding: 0.3em;box-sizing: border-box;text-align: center;}#sk-container-id-1 label.sk-toggleable__label-arrow:before {content: \"▸\";float: left;margin-right: 0.25em;color: #696969;}#sk-container-id-1 label.sk-toggleable__label-arrow:hover:before {color: black;}#sk-container-id-1 div.sk-estimator:hover label.sk-toggleable__label-arrow:before {color: black;}#sk-container-id-1 div.sk-toggleable__content {max-height: 0;max-width: 0;overflow: hidden;text-align: left;background-color: #f0f8ff;}#sk-container-id-1 div.sk-toggleable__content pre {margin: 0.2em;color: black;border-radius: 0.25em;background-color: #f0f8ff;}#sk-container-id-1 input.sk-toggleable__control:checked~div.sk-toggleable__content {max-height: 200px;max-width: 100%;overflow: auto;}#sk-container-id-1 input.sk-toggleable__control:checked~label.sk-toggleable__label-arrow:before {content: \"▾\";}#sk-container-id-1 div.sk-estimator input.sk-toggleable__control:checked~label.sk-toggleable__label {background-color: #d4ebff;}#sk-container-id-1 div.sk-label input.sk-toggleable__control:checked~label.sk-toggleable__label {background-color: #d4ebff;}#sk-container-id-1 input.sk-hidden--visually {border: 0;clip: rect(1px 1px 1px 1px);clip: rect(1px, 1px, 1px, 1px);height: 1px;margin: -1px;overflow: hidden;padding: 0;position: absolute;width: 1px;}#sk-container-id-1 div.sk-estimator {font-family: monospace;background-color: #f0f8ff;border: 1px dotted black;border-radius: 0.25em;box-sizing: border-box;margin-bottom: 0.5em;}#sk-container-id-1 div.sk-estimator:hover {background-color: #d4ebff;}#sk-container-id-1 div.sk-parallel-item::after {content: \"\";width: 100%;border-bottom: 1px solid gray;flex-grow: 1;}#sk-container-id-1 div.sk-label:hover label.sk-toggleable__label {background-color: #d4ebff;}#sk-container-id-1 div.sk-serial::before {content: \"\";position: absolute;border-left: 1px solid gray;box-sizing: border-box;top: 0;bottom: 0;left: 50%;z-index: 0;}#sk-container-id-1 div.sk-serial {display: flex;flex-direction: column;align-items: center;background-color: white;padding-right: 0.2em;padding-left: 0.2em;position: relative;}#sk-container-id-1 div.sk-item {position: relative;z-index: 1;}#sk-container-id-1 div.sk-parallel {display: flex;align-items: stretch;justify-content: center;background-color: white;position: relative;}#sk-container-id-1 div.sk-item::before, #sk-container-id-1 div.sk-parallel-item::before {content: \"\";position: absolute;border-left: 1px solid gray;box-sizing: border-box;top: 0;bottom: 0;left: 50%;z-index: -1;}#sk-container-id-1 div.sk-parallel-item {display: flex;flex-direction: column;z-index: 1;position: relative;background-color: white;}#sk-container-id-1 div.sk-parallel-item:first-child::after {align-self: flex-end;width: 50%;}#sk-container-id-1 div.sk-parallel-item:last-child::after {align-self: flex-start;width: 50%;}#sk-container-id-1 div.sk-parallel-item:only-child::after {width: 0;}#sk-container-id-1 div.sk-dashed-wrapped {border: 1px dashed gray;margin: 0 0.4em 0.5em 0.4em;box-sizing: border-box;padding-bottom: 0.4em;background-color: white;}#sk-container-id-1 div.sk-label label {font-family: monospace;font-weight: bold;display: inline-block;line-height: 1.2em;}#sk-container-id-1 div.sk-label-container {text-align: center;}#sk-container-id-1 div.sk-container {/* jupyter's `normalize.less` sets `[hidden] { display: none; }` but bootstrap.min.css set `[hidden] { display: none !important; }` so we also need the `!important` here to be able to override the default hidden behavior on the sphinx rendered scikit-learn.org. See: https://github.com/scikit-learn/scikit-learn/issues/21755 */display: inline-block !important;position: relative;}#sk-container-id-1 div.sk-text-repr-fallback {display: none;}</style><div id=\"sk-container-id-1\" class=\"sk-top-container\"><div class=\"sk-text-repr-fallback\"><pre>SGDRegressor(average=13, random_state=42)</pre><b>In a Jupyter environment, please rerun this cell to show the HTML representation or trust the notebook. <br />On GitHub, the HTML representation is unable to render, please try loading this page with nbviewer.org.</b></div><div class=\"sk-container\" hidden><div class=\"sk-item\"><div class=\"sk-estimator sk-toggleable\"><input class=\"sk-toggleable__control sk-hidden--visually\" id=\"sk-estimator-id-1\" type=\"checkbox\" checked><label for=\"sk-estimator-id-1\" class=\"sk-toggleable__label sk-toggleable__label-arrow\">SGDRegressor</label><div class=\"sk-toggleable__content\"><pre>SGDRegressor(average=13, random_state=42)</pre></div></div></div></div></div>"
            ],
            "text/plain": [
              "SGDRegressor(average=13, random_state=42)"
            ]
          },
          "execution_count": 33,
          "metadata": {},
          "output_type": "execute_result"
        }
      ],
      "source": [
        "from sklearn.linear_model import SGDRegressor\n",
        "sgd=SGDRegressor(max_iter=1000,average=13,penalty=\"l2\",random_state=42)\n",
        "sgd.fit(X_train_transformed,y_train)"
      ]
    },
    {
      "cell_type": "code",
      "execution_count": null,
      "id": "ddb22147",
      "metadata": {
        "execution": {
          "iopub.execute_input": "2023-12-13T05:35:17.519491Z",
          "iopub.status.busy": "2023-12-13T05:35:17.518279Z",
          "iopub.status.idle": "2023-12-13T05:35:17.555655Z",
          "shell.execute_reply": "2023-12-13T05:35:17.553223Z"
        },
        "papermill": {
          "duration": 0.096105,
          "end_time": "2023-12-13T05:35:17.560070",
          "exception": false,
          "start_time": "2023-12-13T05:35:17.463965",
          "status": "completed"
        },
        "tags": [],
        "id": "ddb22147",
        "outputId": "b6a3854e-e2ab-4d29-ad0f-7ef5f4834342"
      },
      "outputs": [
        {
          "name": "stdout",
          "output_type": "stream",
          "text": [
            "Score on train data : 0.8663465603225666\n",
            "MSE TRAINING : 86.25355868514755\n",
            "Score on validation data : 0.8849419598778051\n",
            "MSE Validation : 74.87495745964411\n"
          ]
        }
      ],
      "source": [
        "#Regression metrics\n",
        "print(\"Score on train data :\",sgd.score(X_train_transformed,y_train))\n",
        "print(\"MSE TRAINING :\",mean_squared_error(y_train,sgd.predict(X_train_transformed)))\n",
        "print(\"Score on validation data :\",sgd.score(X_val_transformed,y_val))\n",
        "print(\"MSE Validation :\",mean_squared_error(y_val,sgd.predict(X_val_transformed)))"
      ]
    },
    {
      "cell_type": "markdown",
      "id": "3c99eddd",
      "metadata": {
        "papermill": {
          "duration": 0.051488,
          "end_time": "2023-12-13T05:35:17.722743",
          "exception": false,
          "start_time": "2023-12-13T05:35:17.671255",
          "status": "completed"
        },
        "tags": [],
        "id": "3c99eddd"
      },
      "source": [
        "# TEST DATA IMPORTED AND FEATURE ENGINEERING AND PREPROCESSING BEING DONE ON IT"
      ]
    },
    {
      "cell_type": "code",
      "execution_count": null,
      "id": "9a0edd49",
      "metadata": {
        "execution": {
          "iopub.execute_input": "2023-12-13T05:35:17.828229Z",
          "iopub.status.busy": "2023-12-13T05:35:17.827817Z",
          "iopub.status.idle": "2023-12-13T05:35:18.061630Z",
          "shell.execute_reply": "2023-12-13T05:35:18.060736Z"
        },
        "papermill": {
          "duration": 0.289437,
          "end_time": "2023-12-13T05:35:18.064052",
          "exception": false,
          "start_time": "2023-12-13T05:35:17.774615",
          "status": "completed"
        },
        "tags": [],
        "id": "9a0edd49",
        "outputId": "d3e36eff-fbb5-43ab-cb09-82f699abd58a"
      },
      "outputs": [
        {
          "name": "stdout",
          "output_type": "stream",
          "text": [
            "(50000, 16)\n"
          ]
        }
      ],
      "source": [
        "test=pd.read_csv(\"/kaggle/input/taxi-fare-guru-total-amount-prediction-challenge/test.csv\")\n",
        "print(test.shape)\n",
        "test.drop([\"PULocationID\",\"DOLocationID\"],axis=1,inplace=True)\n"
      ]
    },
    {
      "cell_type": "code",
      "execution_count": null,
      "id": "0c37356e",
      "metadata": {
        "execution": {
          "iopub.execute_input": "2023-12-13T05:35:18.173172Z",
          "iopub.status.busy": "2023-12-13T05:35:18.172464Z",
          "iopub.status.idle": "2023-12-13T05:35:18.249523Z",
          "shell.execute_reply": "2023-12-13T05:35:18.248719Z"
        },
        "papermill": {
          "duration": 0.135553,
          "end_time": "2023-12-13T05:35:18.252251",
          "exception": false,
          "start_time": "2023-12-13T05:35:18.116698",
          "status": "completed"
        },
        "tags": [],
        "id": "0c37356e",
        "outputId": "e9d83a67-6f20-4a21-b12e-fee05218646a"
      },
      "outputs": [
        {
          "name": "stdout",
          "output_type": "stream",
          "text": [
            "<class 'pandas._libs.tslibs.timestamps.Timestamp'>\n",
            "count    50000.000000\n",
            "mean        18.034757\n",
            "std         64.505173\n",
            "min       -117.316667\n",
            "25%        -19.300000\n",
            "50%         16.766667\n",
            "75%         53.183333\n",
            "max       4682.866667\n",
            "Name: ride_duration, dtype: float64\n"
          ]
        },
        {
          "data": {
            "text/plain": [
              "count    50000.000000\n",
              "mean        44.616875\n",
              "std         49.954689\n",
              "min          0.000000\n",
              "25%         17.866667\n",
              "50%         37.716667\n",
              "75%         64.300000\n",
              "max       4682.866667\n",
              "Name: ride_duration, dtype: float64"
            ]
          },
          "execution_count": 36,
          "metadata": {},
          "output_type": "execute_result"
        }
      ],
      "source": [
        "## Ride duration feature creation\n",
        "test[\"tpep_pickup_datetime\"]=pd.to_datetime(test[\"tpep_pickup_datetime\"])\n",
        "print(type(test[\"tpep_pickup_datetime\"][0]))\n",
        "test[\"tpep_dropoff_datetime\"]=pd.to_datetime(test[\"tpep_dropoff_datetime\"])\n",
        "#Creating a new feature ride duration in minutes\n",
        "test[\"ride_duration\"]=(test[\"tpep_dropoff_datetime\"]-test[\"tpep_pickup_datetime\"]).dt.total_seconds()/60\n",
        "print(test[\"ride_duration\"].describe())\n",
        "#Sanity check for ride duration variable\n",
        "test[(test[\"ride_duration\"]<=0)]\n",
        "test[\"ride_duration\"]=test[\"ride_duration\"].abs()\n",
        "# Post making ride duration absolute\n",
        "test[\"ride_duration\"].describe()"
      ]
    },
    {
      "cell_type": "code",
      "execution_count": null,
      "id": "eae1bf41",
      "metadata": {
        "execution": {
          "iopub.execute_input": "2023-12-13T05:35:18.358284Z",
          "iopub.status.busy": "2023-12-13T05:35:18.357466Z",
          "iopub.status.idle": "2023-12-13T05:35:18.361951Z",
          "shell.execute_reply": "2023-12-13T05:35:18.360860Z"
        },
        "papermill": {
          "duration": 0.060216,
          "end_time": "2023-12-13T05:35:18.364444",
          "exception": false,
          "start_time": "2023-12-13T05:35:18.304228",
          "status": "completed"
        },
        "tags": [],
        "id": "eae1bf41"
      },
      "outputs": [],
      "source": [
        "### Exploring the categorical columns of test data."
      ]
    },
    {
      "cell_type": "code",
      "execution_count": null,
      "id": "062e4d0d",
      "metadata": {
        "execution": {
          "iopub.execute_input": "2023-12-13T05:35:18.472692Z",
          "iopub.status.busy": "2023-12-13T05:35:18.471867Z",
          "iopub.status.idle": "2023-12-13T05:35:18.498507Z",
          "shell.execute_reply": "2023-12-13T05:35:18.497619Z"
        },
        "papermill": {
          "duration": 0.082987,
          "end_time": "2023-12-13T05:35:18.501092",
          "exception": false,
          "start_time": "2023-12-13T05:35:18.418105",
          "status": "completed"
        },
        "tags": [],
        "id": "062e4d0d",
        "outputId": "41578bc0-9dc0-4f01-b91f-7516e1a694ee"
      },
      "outputs": [
        {
          "name": "stdout",
          "output_type": "stream",
          "text": [
            "VendorID\n",
            "1    36480\n",
            "0    13503\n",
            "2       17\n",
            "Name: count, dtype: int64\n",
            "\n",
            " payment_type\n",
            "Credit Card    38672\n",
            "Cash            8571\n",
            "Wallet          1779\n",
            "unknown          665\n",
            "UPI              313\n",
            "Name: count, dtype: int64\n",
            "\n",
            " store_and_fwd_flag\n",
            "N    47881\n",
            "Y      340\n",
            "Name: count, dtype: int64\n",
            "\n",
            " RatecodeID\n",
            "1.0     45373\n",
            "2.0      1956\n",
            "5.0       314\n",
            "99.0      238\n",
            "3.0       216\n",
            "4.0       123\n",
            "6.0         1\n",
            "Name: count, dtype: int64\n"
          ]
        }
      ],
      "source": [
        "# Checking how many rides done by different vendors\n",
        "print(test[\"VendorID\"].value_counts())\n",
        "# Different Payment methods used\n",
        "print(\"\\n\",test[\"payment_type\"].value_counts())\n",
        "#Checking for how many rides data was stored and forwarded\n",
        "print(\"\\n\",test[\"store_and_fwd_flag\"].value_counts())\n",
        "#Checking no of rides against various RatecodeIDs\n",
        "print(\"\\n\",test[\"RatecodeID\"].value_counts())\n"
      ]
    },
    {
      "cell_type": "markdown",
      "id": "1124efc2",
      "metadata": {
        "papermill": {
          "duration": 0.052516,
          "end_time": "2023-12-13T05:35:18.606466",
          "exception": false,
          "start_time": "2023-12-13T05:35:18.553950",
          "status": "completed"
        },
        "tags": [],
        "id": "1124efc2"
      },
      "source": [
        "### All the categorical columns have same labels as training data but RatecodeID has one sample which takes label 6 which we will replace with label 1(most frequent)"
      ]
    },
    {
      "cell_type": "code",
      "execution_count": null,
      "id": "29e1c6a1",
      "metadata": {
        "execution": {
          "iopub.execute_input": "2023-12-13T05:35:18.714687Z",
          "iopub.status.busy": "2023-12-13T05:35:18.713785Z",
          "iopub.status.idle": "2023-12-13T05:35:18.728010Z",
          "shell.execute_reply": "2023-12-13T05:35:18.726431Z"
        },
        "papermill": {
          "duration": 0.070316,
          "end_time": "2023-12-13T05:35:18.730276",
          "exception": false,
          "start_time": "2023-12-13T05:35:18.659960",
          "status": "completed"
        },
        "tags": [],
        "id": "29e1c6a1",
        "outputId": "6a33daf2-be69-4151-fe10-8eb87dc93c97"
      },
      "outputs": [
        {
          "name": "stderr",
          "output_type": "stream",
          "text": [
            "/tmp/ipykernel_20/703020214.py:1: SettingWithCopyWarning: \n",
            "A value is trying to be set on a copy of a slice from a DataFrame\n",
            "\n",
            "See the caveats in the documentation: https://pandas.pydata.org/pandas-docs/stable/user_guide/indexing.html#returning-a-view-versus-a-copy\n",
            "  test[\"RatecodeID\"][test[test.RatecodeID==6.0].index]=1.0\n"
          ]
        },
        {
          "data": {
            "text/plain": [
              "RatecodeID\n",
              "1.0     45374\n",
              "2.0      1956\n",
              "5.0       314\n",
              "99.0      238\n",
              "3.0       216\n",
              "4.0       123\n",
              "Name: count, dtype: int64"
            ]
          },
          "execution_count": 39,
          "metadata": {},
          "output_type": "execute_result"
        }
      ],
      "source": [
        "test[\"RatecodeID\"][test[test.RatecodeID==6.0].index]=1.0\n",
        "#Sanity check\n",
        "test[\"RatecodeID\"].value_counts()"
      ]
    },
    {
      "cell_type": "code",
      "execution_count": null,
      "id": "a6aae665",
      "metadata": {
        "execution": {
          "iopub.execute_input": "2023-12-13T05:35:18.836794Z",
          "iopub.status.busy": "2023-12-13T05:35:18.836415Z",
          "iopub.status.idle": "2023-12-13T05:35:18.853908Z",
          "shell.execute_reply": "2023-12-13T05:35:18.852890Z"
        },
        "papermill": {
          "duration": 0.07354,
          "end_time": "2023-12-13T05:35:18.856427",
          "exception": false,
          "start_time": "2023-12-13T05:35:18.782887",
          "status": "completed"
        },
        "tags": [],
        "id": "a6aae665"
      },
      "outputs": [],
      "source": [
        "# Dropping PU and DO time from Test data\n",
        "test.drop([\"tpep_dropoff_datetime\",\"tpep_pickup_datetime\"],axis=1,inplace=True)\n",
        "# Converting VendorID and RatecodeID to object type\n",
        "test[\"VendorID\"]=test[\"VendorID\"].astype(\"object\")\n",
        "test[\"RatecodeID\"]=test[\"RatecodeID\"].astype(\"object\")"
      ]
    },
    {
      "cell_type": "code",
      "execution_count": null,
      "id": "bd89896d",
      "metadata": {
        "execution": {
          "iopub.execute_input": "2023-12-13T05:35:18.967326Z",
          "iopub.status.busy": "2023-12-13T05:35:18.966056Z",
          "iopub.status.idle": "2023-12-13T05:35:18.981588Z",
          "shell.execute_reply": "2023-12-13T05:35:18.980243Z"
        },
        "papermill": {
          "duration": 0.07362,
          "end_time": "2023-12-13T05:35:18.984383",
          "exception": false,
          "start_time": "2023-12-13T05:35:18.910763",
          "status": "completed"
        },
        "tags": [],
        "id": "bd89896d",
        "outputId": "2f092483-bab8-4052-8d62-8c618f3e442e"
      },
      "outputs": [
        {
          "name": "stdout",
          "output_type": "stream",
          "text": [
            "(50000, 13)\n"
          ]
        },
        {
          "data": {
            "text/plain": [
              "True"
            ]
          },
          "execution_count": 41,
          "metadata": {},
          "output_type": "execute_result"
        }
      ],
      "source": [
        "print(test.shape)\n",
        "\n",
        "#Arranging the features as we did for train_data\n",
        "test=pd.DataFrame(test,columns=['VendorID', 'passenger_count', 'trip_distance', 'ride_duration', 'RatecodeID',\n",
        "       'store_and_fwd_flag', 'payment_type','extra', 'tip_amount', 'tolls_amount', 'improvement_surcharge','congestion_surcharge', 'Airport_fee' ])\n",
        "\n",
        "#Sanity Check if the order is correct or not\n",
        "X_train.columns.equals(test.columns)\n"
      ]
    },
    {
      "cell_type": "markdown",
      "id": "3d482ce1",
      "metadata": {
        "papermill": {
          "duration": 0.052257,
          "end_time": "2023-12-13T05:35:19.091800",
          "exception": false,
          "start_time": "2023-12-13T05:35:19.039543",
          "status": "completed"
        },
        "tags": [],
        "id": "3d482ce1"
      },
      "source": [
        "## SImilar Extreme value treatment on Test Data\n"
      ]
    },
    {
      "cell_type": "code",
      "execution_count": null,
      "id": "5e8286cb",
      "metadata": {
        "execution": {
          "iopub.execute_input": "2023-12-13T05:35:19.219837Z",
          "iopub.status.busy": "2023-12-13T05:35:19.218684Z",
          "iopub.status.idle": "2023-12-13T05:35:19.244613Z",
          "shell.execute_reply": "2023-12-13T05:35:19.243005Z"
        },
        "papermill": {
          "duration": 0.09848,
          "end_time": "2023-12-13T05:35:19.246870",
          "exception": false,
          "start_time": "2023-12-13T05:35:19.148390",
          "status": "completed"
        },
        "tags": [],
        "id": "5e8286cb",
        "outputId": "cd13d3e2-0132-4bf7-9714-ebb137cdee1b"
      },
      "outputs": [
        {
          "name": "stdout",
          "output_type": "stream",
          "text": [
            "No of values which are outliers (0, 13)\n"
          ]
        },
        {
          "name": "stderr",
          "output_type": "stream",
          "text": [
            "/tmp/ipykernel_20/3390002133.py:2: SettingWithCopyWarning: \n",
            "A value is trying to be set on a copy of a slice from a DataFrame\n",
            "\n",
            "See the caveats in the documentation: https://pandas.pydata.org/pandas-docs/stable/user_guide/indexing.html#returning-a-view-versus-a-copy\n",
            "  test[\"trip_distance\"][test[(test.trip_distance>=100)].index]=100\n",
            "/tmp/ipykernel_20/3390002133.py:5: SettingWithCopyWarning: \n",
            "A value is trying to be set on a copy of a slice from a DataFrame\n",
            "\n",
            "See the caveats in the documentation: https://pandas.pydata.org/pandas-docs/stable/user_guide/indexing.html#returning-a-view-versus-a-copy\n",
            "  test[\"ride_duration\"][test[test.ride_duration>=600].index]=600\n",
            "/tmp/ipykernel_20/3390002133.py:20: SettingWithCopyWarning: \n",
            "A value is trying to be set on a copy of a slice from a DataFrame\n",
            "\n",
            "See the caveats in the documentation: https://pandas.pydata.org/pandas-docs/stable/user_guide/indexing.html#returning-a-view-versus-a-copy\n",
            "  test[\"tip_amount\"][test[test.tip_amount>=100].index]=100\n"
          ]
        },
        {
          "data": {
            "text/html": [
              "<div>\n",
              "<style scoped>\n",
              "    .dataframe tbody tr th:only-of-type {\n",
              "        vertical-align: middle;\n",
              "    }\n",
              "\n",
              "    .dataframe tbody tr th {\n",
              "        vertical-align: top;\n",
              "    }\n",
              "\n",
              "    .dataframe thead th {\n",
              "        text-align: right;\n",
              "    }\n",
              "</style>\n",
              "<table border=\"1\" class=\"dataframe\">\n",
              "  <thead>\n",
              "    <tr style=\"text-align: right;\">\n",
              "      <th></th>\n",
              "      <th>VendorID</th>\n",
              "      <th>passenger_count</th>\n",
              "      <th>trip_distance</th>\n",
              "      <th>ride_duration</th>\n",
              "      <th>RatecodeID</th>\n",
              "      <th>store_and_fwd_flag</th>\n",
              "      <th>payment_type</th>\n",
              "      <th>extra</th>\n",
              "      <th>tip_amount</th>\n",
              "      <th>tolls_amount</th>\n",
              "      <th>improvement_surcharge</th>\n",
              "      <th>congestion_surcharge</th>\n",
              "      <th>Airport_fee</th>\n",
              "    </tr>\n",
              "  </thead>\n",
              "  <tbody>\n",
              "  </tbody>\n",
              "</table>\n",
              "</div>"
            ],
            "text/plain": [
              "Empty DataFrame\n",
              "Columns: [VendorID, passenger_count, trip_distance, ride_duration, RatecodeID, store_and_fwd_flag, payment_type, extra, tip_amount, tolls_amount, improvement_surcharge, congestion_surcharge, Airport_fee]\n",
              "Index: []"
            ]
          },
          "execution_count": 42,
          "metadata": {},
          "output_type": "execute_result"
        }
      ],
      "source": [
        "#Replacing the outlier values of trip_distance with 99.9 percentile value that is 35\n",
        "test[\"trip_distance\"][test[(test.trip_distance>=100)].index]=100\n",
        "\n",
        "#Same treatment as we did for trip_distance\n",
        "test[\"ride_duration\"][test[test.ride_duration>=600].index]=600\n",
        "\n",
        "'''# Replacing the Ratecode greater than 5 which was 99 by the most frequent rating which was 1\n",
        "test[\"RatecodeID\"][test[test.RatecodeID>5].index]=5\n",
        "data.RatecodeID.value_counts()'''\n",
        "\n",
        "# Treating outlier of tolls_amount\n",
        "'''print(\"No of values which are outliers\",test[test.tolls_amount>=22].shape)\n",
        "test.tolls_amount.quantile(0.999)\n",
        "#Replacing outliers with 99.9 percentile value (Winsonizing as earlier)\n",
        "test[\"tolls_amount\"][test[test.tolls_amount>=21.55].index]=21.55\n",
        "test[test.tolls_amount>21.6] #Sanity Check'''\n",
        "\n",
        "# Treating outlier of tip_amount\n",
        "print(\"No of values which are outliers\",test[test.tip_amount>=100].shape)\n",
        "test[\"tip_amount\"][test[test.tip_amount>=100].index]=100\n",
        "test[test.tip_amount>100] #Sanity Check"
      ]
    },
    {
      "cell_type": "markdown",
      "id": "e7feef29",
      "metadata": {
        "execution": {
          "iopub.execute_input": "2023-11-26T20:09:31.655488Z",
          "iopub.status.busy": "2023-11-26T20:09:31.655032Z",
          "iopub.status.idle": "2023-11-26T20:09:31.660583Z",
          "shell.execute_reply": "2023-11-26T20:09:31.659711Z",
          "shell.execute_reply.started": "2023-11-26T20:09:31.655448Z"
        },
        "papermill": {
          "duration": 0.052844,
          "end_time": "2023-12-13T05:35:19.352990",
          "exception": false,
          "start_time": "2023-12-13T05:35:19.300146",
          "status": "completed"
        },
        "tags": [],
        "id": "e7feef29"
      },
      "source": [
        "# MODEL 1 RIDGE REGRESSION WITH ALPHAS CV (HPT)"
      ]
    },
    {
      "cell_type": "code",
      "execution_count": null,
      "id": "4a074db0",
      "metadata": {
        "execution": {
          "iopub.execute_input": "2023-12-13T05:35:19.462179Z",
          "iopub.status.busy": "2023-12-13T05:35:19.461478Z",
          "iopub.status.idle": "2023-12-13T05:35:22.337484Z",
          "shell.execute_reply": "2023-12-13T05:35:22.335958Z"
        },
        "papermill": {
          "duration": 2.934849,
          "end_time": "2023-12-13T05:35:22.341401",
          "exception": false,
          "start_time": "2023-12-13T05:35:19.406552",
          "status": "completed"
        },
        "tags": [],
        "id": "4a074db0",
        "outputId": "89fc6b9f-8f6d-4480-92f0-70756b1f0b12"
      },
      "outputs": [
        {
          "data": {
            "text/html": [
              "<style>#sk-container-id-2 {color: black;background-color: white;}#sk-container-id-2 pre{padding: 0;}#sk-container-id-2 div.sk-toggleable {background-color: white;}#sk-container-id-2 label.sk-toggleable__label {cursor: pointer;display: block;width: 100%;margin-bottom: 0;padding: 0.3em;box-sizing: border-box;text-align: center;}#sk-container-id-2 label.sk-toggleable__label-arrow:before {content: \"▸\";float: left;margin-right: 0.25em;color: #696969;}#sk-container-id-2 label.sk-toggleable__label-arrow:hover:before {color: black;}#sk-container-id-2 div.sk-estimator:hover label.sk-toggleable__label-arrow:before {color: black;}#sk-container-id-2 div.sk-toggleable__content {max-height: 0;max-width: 0;overflow: hidden;text-align: left;background-color: #f0f8ff;}#sk-container-id-2 div.sk-toggleable__content pre {margin: 0.2em;color: black;border-radius: 0.25em;background-color: #f0f8ff;}#sk-container-id-2 input.sk-toggleable__control:checked~div.sk-toggleable__content {max-height: 200px;max-width: 100%;overflow: auto;}#sk-container-id-2 input.sk-toggleable__control:checked~label.sk-toggleable__label-arrow:before {content: \"▾\";}#sk-container-id-2 div.sk-estimator input.sk-toggleable__control:checked~label.sk-toggleable__label {background-color: #d4ebff;}#sk-container-id-2 div.sk-label input.sk-toggleable__control:checked~label.sk-toggleable__label {background-color: #d4ebff;}#sk-container-id-2 input.sk-hidden--visually {border: 0;clip: rect(1px 1px 1px 1px);clip: rect(1px, 1px, 1px, 1px);height: 1px;margin: -1px;overflow: hidden;padding: 0;position: absolute;width: 1px;}#sk-container-id-2 div.sk-estimator {font-family: monospace;background-color: #f0f8ff;border: 1px dotted black;border-radius: 0.25em;box-sizing: border-box;margin-bottom: 0.5em;}#sk-container-id-2 div.sk-estimator:hover {background-color: #d4ebff;}#sk-container-id-2 div.sk-parallel-item::after {content: \"\";width: 100%;border-bottom: 1px solid gray;flex-grow: 1;}#sk-container-id-2 div.sk-label:hover label.sk-toggleable__label {background-color: #d4ebff;}#sk-container-id-2 div.sk-serial::before {content: \"\";position: absolute;border-left: 1px solid gray;box-sizing: border-box;top: 0;bottom: 0;left: 50%;z-index: 0;}#sk-container-id-2 div.sk-serial {display: flex;flex-direction: column;align-items: center;background-color: white;padding-right: 0.2em;padding-left: 0.2em;position: relative;}#sk-container-id-2 div.sk-item {position: relative;z-index: 1;}#sk-container-id-2 div.sk-parallel {display: flex;align-items: stretch;justify-content: center;background-color: white;position: relative;}#sk-container-id-2 div.sk-item::before, #sk-container-id-2 div.sk-parallel-item::before {content: \"\";position: absolute;border-left: 1px solid gray;box-sizing: border-box;top: 0;bottom: 0;left: 50%;z-index: -1;}#sk-container-id-2 div.sk-parallel-item {display: flex;flex-direction: column;z-index: 1;position: relative;background-color: white;}#sk-container-id-2 div.sk-parallel-item:first-child::after {align-self: flex-end;width: 50%;}#sk-container-id-2 div.sk-parallel-item:last-child::after {align-self: flex-start;width: 50%;}#sk-container-id-2 div.sk-parallel-item:only-child::after {width: 0;}#sk-container-id-2 div.sk-dashed-wrapped {border: 1px dashed gray;margin: 0 0.4em 0.5em 0.4em;box-sizing: border-box;padding-bottom: 0.4em;background-color: white;}#sk-container-id-2 div.sk-label label {font-family: monospace;font-weight: bold;display: inline-block;line-height: 1.2em;}#sk-container-id-2 div.sk-label-container {text-align: center;}#sk-container-id-2 div.sk-container {/* jupyter's `normalize.less` sets `[hidden] { display: none; }` but bootstrap.min.css set `[hidden] { display: none !important; }` so we also need the `!important` here to be able to override the default hidden behavior on the sphinx rendered scikit-learn.org. See: https://github.com/scikit-learn/scikit-learn/issues/21755 */display: inline-block !important;position: relative;}#sk-container-id-2 div.sk-text-repr-fallback {display: none;}</style><div id=\"sk-container-id-2\" class=\"sk-top-container\"><div class=\"sk-text-repr-fallback\"><pre>RidgeCV(alphas=[0.1, 0.01, 0.001, 1, 5, 10], cv=5)</pre><b>In a Jupyter environment, please rerun this cell to show the HTML representation or trust the notebook. <br />On GitHub, the HTML representation is unable to render, please try loading this page with nbviewer.org.</b></div><div class=\"sk-container\" hidden><div class=\"sk-item\"><div class=\"sk-estimator sk-toggleable\"><input class=\"sk-toggleable__control sk-hidden--visually\" id=\"sk-estimator-id-2\" type=\"checkbox\" checked><label for=\"sk-estimator-id-2\" class=\"sk-toggleable__label sk-toggleable__label-arrow\">RidgeCV</label><div class=\"sk-toggleable__content\"><pre>RidgeCV(alphas=[0.1, 0.01, 0.001, 1, 5, 10], cv=5)</pre></div></div></div></div></div>"
            ],
            "text/plain": [
              "RidgeCV(alphas=[0.1, 0.01, 0.001, 1, 5, 10], cv=5)"
            ]
          },
          "execution_count": 43,
          "metadata": {},
          "output_type": "execute_result"
        }
      ],
      "source": [
        "## Trying RIDGE REGRESSION WITH ALPHAS CROSS VALIDATED USING GRID METHOD\n",
        "\n",
        "from sklearn.linear_model import RidgeCV\n",
        "RCV = RidgeCV(alphas=[0.1,0.01,0.001,1,5,10],cv=5)\n",
        "RCV.fit(X_train_transformed,y_train)\n"
      ]
    },
    {
      "cell_type": "code",
      "execution_count": null,
      "id": "5a6a38d1",
      "metadata": {
        "execution": {
          "iopub.execute_input": "2023-12-13T05:35:22.509180Z",
          "iopub.status.busy": "2023-12-13T05:35:22.508790Z",
          "iopub.status.idle": "2023-12-13T05:35:22.548146Z",
          "shell.execute_reply": "2023-12-13T05:35:22.546591Z"
        },
        "papermill": {
          "duration": 0.10048,
          "end_time": "2023-12-13T05:35:22.552536",
          "exception": false,
          "start_time": "2023-12-13T05:35:22.452056",
          "status": "completed"
        },
        "tags": [],
        "id": "5a6a38d1",
        "outputId": "d5a80491-4802-4849-9e86-2314602aac56"
      },
      "outputs": [
        {
          "name": "stdout",
          "output_type": "stream",
          "text": [
            "Best alpha 0.1\n",
            "Score on train data : 0.8723492277782805\n",
            "MSE TRAINING : 82.37972325742933\n",
            "Score on validation data : 0.8936779787078988\n",
            "MSE Validation : 69.18992199775688\n"
          ]
        }
      ],
      "source": [
        "print(\"Best alpha\",RCV.alpha_)  #gives best alpha\n",
        "\n",
        "# regression Metrics\n",
        "print(\"Score on train data :\",RCV.score(X_train_transformed,y_train))\n",
        "print(\"MSE TRAINING :\",mean_squared_error(y_train,RCV.predict(X_train_transformed)))\n",
        "print(\"Score on validation data :\",RCV.score(X_val_transformed,y_val))\n",
        "print(\"MSE Validation :\",mean_squared_error(y_val,RCV.predict(X_val_transformed)))"
      ]
    },
    {
      "cell_type": "markdown",
      "id": "93d46d9e",
      "metadata": {
        "papermill": {
          "duration": 0.053376,
          "end_time": "2023-12-13T05:35:22.718788",
          "exception": false,
          "start_time": "2023-12-13T05:35:22.665412",
          "status": "completed"
        },
        "tags": [],
        "id": "93d46d9e"
      },
      "source": [
        "### INSIGHT : The model performs decently but is surely an underfit as reflected by high MSE and low R2 score on train data. So,We need to move towards other models to understand the underlying pattern of the data in a better manner."
      ]
    },
    {
      "cell_type": "code",
      "execution_count": null,
      "id": "b1fb6a11",
      "metadata": {
        "execution": {
          "iopub.execute_input": "2023-12-13T05:35:22.827477Z",
          "iopub.status.busy": "2023-12-13T05:35:22.827043Z",
          "iopub.status.idle": "2023-12-13T05:35:22.834721Z",
          "shell.execute_reply": "2023-12-13T05:35:22.833571Z"
        },
        "papermill": {
          "duration": 0.06448,
          "end_time": "2023-12-13T05:35:22.836919",
          "exception": false,
          "start_time": "2023-12-13T05:35:22.772439",
          "status": "completed"
        },
        "tags": [],
        "id": "b1fb6a11",
        "outputId": "7f538e2a-dd90-49a5-e1e4-925218ffb61e"
      },
      "outputs": [
        {
          "data": {
            "text/plain": [
              "'# RIDGE REGRESSION WITH RANDOMIZED SEARCH CV GAVE ALPHA = 0.37\\n\\nfrom sklearn.model_selection import RandomizedSearchCV, KFold\\nfrom sklearn.linear_model import Ridge\\nfrom scipy.stats import loguniform\\n\\n# Assuming you have your features (X) and target variable (y) ready\\n\\n# Create a Ridge regression model\\nridge = Ridge()\\n\\n# Define the hyperparameter grid\\nparam_dist = {\\'alpha\\': loguniform(0.001, 100)}\\nrandom_search = RandomizedSearchCV(ridge, param_distributions=param_dist, n_iter=100, cv=5, random_state=42, n_jobs=-1)\\n\\n\\n# Fit the RandomizedSearchCV on your data\\nrandom_search.fit(X_train_transformed,y_train)\\n\\n# Print the best hyperparameters\\nprint(\"Best alpha:\", random_search.best_params_[\\'alpha\\'])\\nprint(\"Score on Train data\",random_search.score(X_train_transformed,y_train))\\nprint(\"Score on Test data\",random_search.score(CT.transform(X_val),y_val))'"
            ]
          },
          "execution_count": 45,
          "metadata": {},
          "output_type": "execute_result"
        }
      ],
      "source": [
        "'''# RIDGE REGRESSION WITH RANDOMIZED SEARCH CV GAVE ALPHA = 0.37\n",
        "\n",
        "from sklearn.model_selection import RandomizedSearchCV, KFold\n",
        "from sklearn.linear_model import Ridge\n",
        "from scipy.stats import loguniform\n",
        "\n",
        "# Assuming you have your features (X) and target variable (y) ready\n",
        "\n",
        "# Create a Ridge regression model\n",
        "ridge = Ridge()\n",
        "\n",
        "# Define the hyperparameter grid\n",
        "param_dist = {'alpha': loguniform(0.001, 100)}\n",
        "random_search = RandomizedSearchCV(ridge, param_distributions=param_dist, n_iter=100, cv=5, random_state=42, n_jobs=-1)\n",
        "\n",
        "\n",
        "# Fit the RandomizedSearchCV on your data\n",
        "random_search.fit(X_train_transformed,y_train)\n",
        "\n",
        "# Print the best hyperparameters\n",
        "print(\"Best alpha:\", random_search.best_params_['alpha'])\n",
        "print(\"Score on Train data\",random_search.score(X_train_transformed,y_train))\n",
        "print(\"Score on Test data\",random_search.score(CT.transform(X_val),y_val))'''\n",
        "\n"
      ]
    },
    {
      "cell_type": "markdown",
      "id": "3b4e22c3",
      "metadata": {
        "papermill": {
          "duration": 0.05357,
          "end_time": "2023-12-13T05:35:22.944912",
          "exception": false,
          "start_time": "2023-12-13T05:35:22.891342",
          "status": "completed"
        },
        "tags": [],
        "id": "3b4e22c3"
      },
      "source": [
        "# MOdel 2 LASSO with CV to decide alpha."
      ]
    },
    {
      "cell_type": "code",
      "execution_count": null,
      "id": "dcace0e4",
      "metadata": {
        "execution": {
          "iopub.execute_input": "2023-12-13T05:35:23.055452Z",
          "iopub.status.busy": "2023-12-13T05:35:23.054938Z",
          "iopub.status.idle": "2023-12-13T05:35:24.725826Z",
          "shell.execute_reply": "2023-12-13T05:35:24.724369Z"
        },
        "papermill": {
          "duration": 1.730492,
          "end_time": "2023-12-13T05:35:24.729831",
          "exception": false,
          "start_time": "2023-12-13T05:35:22.999339",
          "status": "completed"
        },
        "tags": [],
        "id": "dcace0e4",
        "outputId": "c233f2de-392b-4bd6-f884-16c22d1db262"
      },
      "outputs": [
        {
          "data": {
            "text/html": [
              "<style>#sk-container-id-3 {color: black;background-color: white;}#sk-container-id-3 pre{padding: 0;}#sk-container-id-3 div.sk-toggleable {background-color: white;}#sk-container-id-3 label.sk-toggleable__label {cursor: pointer;display: block;width: 100%;margin-bottom: 0;padding: 0.3em;box-sizing: border-box;text-align: center;}#sk-container-id-3 label.sk-toggleable__label-arrow:before {content: \"▸\";float: left;margin-right: 0.25em;color: #696969;}#sk-container-id-3 label.sk-toggleable__label-arrow:hover:before {color: black;}#sk-container-id-3 div.sk-estimator:hover label.sk-toggleable__label-arrow:before {color: black;}#sk-container-id-3 div.sk-toggleable__content {max-height: 0;max-width: 0;overflow: hidden;text-align: left;background-color: #f0f8ff;}#sk-container-id-3 div.sk-toggleable__content pre {margin: 0.2em;color: black;border-radius: 0.25em;background-color: #f0f8ff;}#sk-container-id-3 input.sk-toggleable__control:checked~div.sk-toggleable__content {max-height: 200px;max-width: 100%;overflow: auto;}#sk-container-id-3 input.sk-toggleable__control:checked~label.sk-toggleable__label-arrow:before {content: \"▾\";}#sk-container-id-3 div.sk-estimator input.sk-toggleable__control:checked~label.sk-toggleable__label {background-color: #d4ebff;}#sk-container-id-3 div.sk-label input.sk-toggleable__control:checked~label.sk-toggleable__label {background-color: #d4ebff;}#sk-container-id-3 input.sk-hidden--visually {border: 0;clip: rect(1px 1px 1px 1px);clip: rect(1px, 1px, 1px, 1px);height: 1px;margin: -1px;overflow: hidden;padding: 0;position: absolute;width: 1px;}#sk-container-id-3 div.sk-estimator {font-family: monospace;background-color: #f0f8ff;border: 1px dotted black;border-radius: 0.25em;box-sizing: border-box;margin-bottom: 0.5em;}#sk-container-id-3 div.sk-estimator:hover {background-color: #d4ebff;}#sk-container-id-3 div.sk-parallel-item::after {content: \"\";width: 100%;border-bottom: 1px solid gray;flex-grow: 1;}#sk-container-id-3 div.sk-label:hover label.sk-toggleable__label {background-color: #d4ebff;}#sk-container-id-3 div.sk-serial::before {content: \"\";position: absolute;border-left: 1px solid gray;box-sizing: border-box;top: 0;bottom: 0;left: 50%;z-index: 0;}#sk-container-id-3 div.sk-serial {display: flex;flex-direction: column;align-items: center;background-color: white;padding-right: 0.2em;padding-left: 0.2em;position: relative;}#sk-container-id-3 div.sk-item {position: relative;z-index: 1;}#sk-container-id-3 div.sk-parallel {display: flex;align-items: stretch;justify-content: center;background-color: white;position: relative;}#sk-container-id-3 div.sk-item::before, #sk-container-id-3 div.sk-parallel-item::before {content: \"\";position: absolute;border-left: 1px solid gray;box-sizing: border-box;top: 0;bottom: 0;left: 50%;z-index: -1;}#sk-container-id-3 div.sk-parallel-item {display: flex;flex-direction: column;z-index: 1;position: relative;background-color: white;}#sk-container-id-3 div.sk-parallel-item:first-child::after {align-self: flex-end;width: 50%;}#sk-container-id-3 div.sk-parallel-item:last-child::after {align-self: flex-start;width: 50%;}#sk-container-id-3 div.sk-parallel-item:only-child::after {width: 0;}#sk-container-id-3 div.sk-dashed-wrapped {border: 1px dashed gray;margin: 0 0.4em 0.5em 0.4em;box-sizing: border-box;padding-bottom: 0.4em;background-color: white;}#sk-container-id-3 div.sk-label label {font-family: monospace;font-weight: bold;display: inline-block;line-height: 1.2em;}#sk-container-id-3 div.sk-label-container {text-align: center;}#sk-container-id-3 div.sk-container {/* jupyter's `normalize.less` sets `[hidden] { display: none; }` but bootstrap.min.css set `[hidden] { display: none !important; }` so we also need the `!important` here to be able to override the default hidden behavior on the sphinx rendered scikit-learn.org. See: https://github.com/scikit-learn/scikit-learn/issues/21755 */display: inline-block !important;position: relative;}#sk-container-id-3 div.sk-text-repr-fallback {display: none;}</style><div id=\"sk-container-id-3\" class=\"sk-top-container\"><div class=\"sk-text-repr-fallback\"><pre>LassoCV()</pre><b>In a Jupyter environment, please rerun this cell to show the HTML representation or trust the notebook. <br />On GitHub, the HTML representation is unable to render, please try loading this page with nbviewer.org.</b></div><div class=\"sk-container\" hidden><div class=\"sk-item\"><div class=\"sk-estimator sk-toggleable\"><input class=\"sk-toggleable__control sk-hidden--visually\" id=\"sk-estimator-id-3\" type=\"checkbox\" checked><label for=\"sk-estimator-id-3\" class=\"sk-toggleable__label sk-toggleable__label-arrow\">LassoCV</label><div class=\"sk-toggleable__content\"><pre>LassoCV()</pre></div></div></div></div></div>"
            ],
            "text/plain": [
              "LassoCV()"
            ]
          },
          "execution_count": 46,
          "metadata": {},
          "output_type": "execute_result"
        }
      ],
      "source": [
        "from sklearn.linear_model import LassoCV\n",
        "lscv = LassoCV()\n",
        "lscv.fit(X_train_transformed,y_train)"
      ]
    },
    {
      "cell_type": "code",
      "execution_count": null,
      "id": "6efe63c0",
      "metadata": {
        "execution": {
          "iopub.execute_input": "2023-12-13T05:35:24.897615Z",
          "iopub.status.busy": "2023-12-13T05:35:24.897237Z",
          "iopub.status.idle": "2023-12-13T05:35:24.929447Z",
          "shell.execute_reply": "2023-12-13T05:35:24.928250Z"
        },
        "papermill": {
          "duration": 0.091998,
          "end_time": "2023-12-13T05:35:24.933324",
          "exception": false,
          "start_time": "2023-12-13T05:35:24.841326",
          "status": "completed"
        },
        "tags": [],
        "id": "6efe63c0",
        "outputId": "a99d507b-7886-4750-f4a0-90dffd1a62a3"
      },
      "outputs": [
        {
          "name": "stdout",
          "output_type": "stream",
          "text": [
            "Best alpha : 0.003533918366081649\n",
            "Score on train data : 0.8722075726288688\n",
            "MSE TRAINING : 82.47114073813411\n",
            "Score on validation data : 0.8935688788278732\n",
            "MSE Validation : 69.2609196339681\n"
          ]
        }
      ],
      "source": [
        "#Regression Metrics\n",
        "print(\"Best alpha :\",lscv.alpha_)\n",
        "print(\"Score on train data :\",lscv.score(X_train_transformed,y_train))\n",
        "print(\"MSE TRAINING :\",mean_squared_error(y_train,lscv.predict(X_train_transformed)))\n",
        "print(\"Score on validation data :\",lscv.score(X_val_transformed,y_val))\n",
        "print(\"MSE Validation :\",mean_squared_error(y_val,lscv.predict(X_val_transformed)))\n"
      ]
    },
    {
      "cell_type": "markdown",
      "id": "1d5149d5",
      "metadata": {
        "papermill": {
          "duration": 0.054601,
          "end_time": "2023-12-13T05:35:25.103637",
          "exception": false,
          "start_time": "2023-12-13T05:35:25.049036",
          "status": "completed"
        },
        "tags": [],
        "id": "1d5149d5"
      },
      "source": [
        "### INSIGHT : Again no significant improvement vis a vis Model 1."
      ]
    },
    {
      "cell_type": "markdown",
      "id": "d831fdc9",
      "metadata": {
        "papermill": {
          "duration": 0.05666,
          "end_time": "2023-12-13T05:35:25.214321",
          "exception": false,
          "start_time": "2023-12-13T05:35:25.157661",
          "status": "completed"
        },
        "tags": [],
        "id": "d831fdc9"
      },
      "source": [
        "# Model 3 Linear Regression"
      ]
    },
    {
      "cell_type": "code",
      "execution_count": null,
      "id": "2ac05c02",
      "metadata": {
        "execution": {
          "iopub.execute_input": "2023-12-13T05:35:25.328393Z",
          "iopub.status.busy": "2023-12-13T05:35:25.327993Z",
          "iopub.status.idle": "2023-12-13T05:35:25.489926Z",
          "shell.execute_reply": "2023-12-13T05:35:25.488292Z"
        },
        "papermill": {
          "duration": 0.223762,
          "end_time": "2023-12-13T05:35:25.495318",
          "exception": false,
          "start_time": "2023-12-13T05:35:25.271556",
          "status": "completed"
        },
        "tags": [],
        "id": "2ac05c02",
        "outputId": "b321981c-5f17-4623-f6d8-7c656d535abb"
      },
      "outputs": [
        {
          "data": {
            "text/html": [
              "<style>#sk-container-id-4 {color: black;background-color: white;}#sk-container-id-4 pre{padding: 0;}#sk-container-id-4 div.sk-toggleable {background-color: white;}#sk-container-id-4 label.sk-toggleable__label {cursor: pointer;display: block;width: 100%;margin-bottom: 0;padding: 0.3em;box-sizing: border-box;text-align: center;}#sk-container-id-4 label.sk-toggleable__label-arrow:before {content: \"▸\";float: left;margin-right: 0.25em;color: #696969;}#sk-container-id-4 label.sk-toggleable__label-arrow:hover:before {color: black;}#sk-container-id-4 div.sk-estimator:hover label.sk-toggleable__label-arrow:before {color: black;}#sk-container-id-4 div.sk-toggleable__content {max-height: 0;max-width: 0;overflow: hidden;text-align: left;background-color: #f0f8ff;}#sk-container-id-4 div.sk-toggleable__content pre {margin: 0.2em;color: black;border-radius: 0.25em;background-color: #f0f8ff;}#sk-container-id-4 input.sk-toggleable__control:checked~div.sk-toggleable__content {max-height: 200px;max-width: 100%;overflow: auto;}#sk-container-id-4 input.sk-toggleable__control:checked~label.sk-toggleable__label-arrow:before {content: \"▾\";}#sk-container-id-4 div.sk-estimator input.sk-toggleable__control:checked~label.sk-toggleable__label {background-color: #d4ebff;}#sk-container-id-4 div.sk-label input.sk-toggleable__control:checked~label.sk-toggleable__label {background-color: #d4ebff;}#sk-container-id-4 input.sk-hidden--visually {border: 0;clip: rect(1px 1px 1px 1px);clip: rect(1px, 1px, 1px, 1px);height: 1px;margin: -1px;overflow: hidden;padding: 0;position: absolute;width: 1px;}#sk-container-id-4 div.sk-estimator {font-family: monospace;background-color: #f0f8ff;border: 1px dotted black;border-radius: 0.25em;box-sizing: border-box;margin-bottom: 0.5em;}#sk-container-id-4 div.sk-estimator:hover {background-color: #d4ebff;}#sk-container-id-4 div.sk-parallel-item::after {content: \"\";width: 100%;border-bottom: 1px solid gray;flex-grow: 1;}#sk-container-id-4 div.sk-label:hover label.sk-toggleable__label {background-color: #d4ebff;}#sk-container-id-4 div.sk-serial::before {content: \"\";position: absolute;border-left: 1px solid gray;box-sizing: border-box;top: 0;bottom: 0;left: 50%;z-index: 0;}#sk-container-id-4 div.sk-serial {display: flex;flex-direction: column;align-items: center;background-color: white;padding-right: 0.2em;padding-left: 0.2em;position: relative;}#sk-container-id-4 div.sk-item {position: relative;z-index: 1;}#sk-container-id-4 div.sk-parallel {display: flex;align-items: stretch;justify-content: center;background-color: white;position: relative;}#sk-container-id-4 div.sk-item::before, #sk-container-id-4 div.sk-parallel-item::before {content: \"\";position: absolute;border-left: 1px solid gray;box-sizing: border-box;top: 0;bottom: 0;left: 50%;z-index: -1;}#sk-container-id-4 div.sk-parallel-item {display: flex;flex-direction: column;z-index: 1;position: relative;background-color: white;}#sk-container-id-4 div.sk-parallel-item:first-child::after {align-self: flex-end;width: 50%;}#sk-container-id-4 div.sk-parallel-item:last-child::after {align-self: flex-start;width: 50%;}#sk-container-id-4 div.sk-parallel-item:only-child::after {width: 0;}#sk-container-id-4 div.sk-dashed-wrapped {border: 1px dashed gray;margin: 0 0.4em 0.5em 0.4em;box-sizing: border-box;padding-bottom: 0.4em;background-color: white;}#sk-container-id-4 div.sk-label label {font-family: monospace;font-weight: bold;display: inline-block;line-height: 1.2em;}#sk-container-id-4 div.sk-label-container {text-align: center;}#sk-container-id-4 div.sk-container {/* jupyter's `normalize.less` sets `[hidden] { display: none; }` but bootstrap.min.css set `[hidden] { display: none !important; }` so we also need the `!important` here to be able to override the default hidden behavior on the sphinx rendered scikit-learn.org. See: https://github.com/scikit-learn/scikit-learn/issues/21755 */display: inline-block !important;position: relative;}#sk-container-id-4 div.sk-text-repr-fallback {display: none;}</style><div id=\"sk-container-id-4\" class=\"sk-top-container\"><div class=\"sk-text-repr-fallback\"><pre>LinearRegression()</pre><b>In a Jupyter environment, please rerun this cell to show the HTML representation or trust the notebook. <br />On GitHub, the HTML representation is unable to render, please try loading this page with nbviewer.org.</b></div><div class=\"sk-container\" hidden><div class=\"sk-item\"><div class=\"sk-estimator sk-toggleable\"><input class=\"sk-toggleable__control sk-hidden--visually\" id=\"sk-estimator-id-4\" type=\"checkbox\" checked><label for=\"sk-estimator-id-4\" class=\"sk-toggleable__label sk-toggleable__label-arrow\">LinearRegression</label><div class=\"sk-toggleable__content\"><pre>LinearRegression()</pre></div></div></div></div></div>"
            ],
            "text/plain": [
              "LinearRegression()"
            ]
          },
          "execution_count": 48,
          "metadata": {},
          "output_type": "execute_result"
        }
      ],
      "source": [
        "from sklearn.linear_model import LinearRegression\n",
        "slrm = LinearRegression()\n",
        "slrm.fit(X_train_transformed,y_train)\n"
      ]
    },
    {
      "cell_type": "code",
      "execution_count": null,
      "id": "85232d06",
      "metadata": {
        "execution": {
          "iopub.execute_input": "2023-12-13T05:35:25.650779Z",
          "iopub.status.busy": "2023-12-13T05:35:25.650367Z",
          "iopub.status.idle": "2023-12-13T05:35:25.687638Z",
          "shell.execute_reply": "2023-12-13T05:35:25.686218Z"
        },
        "papermill": {
          "duration": 0.096853,
          "end_time": "2023-12-13T05:35:25.691951",
          "exception": false,
          "start_time": "2023-12-13T05:35:25.595098",
          "status": "completed"
        },
        "tags": [],
        "id": "85232d06",
        "outputId": "052dc8b0-b2ce-41af-b4ba-6ee0565d8a0f"
      },
      "outputs": [
        {
          "name": "stdout",
          "output_type": "stream",
          "text": [
            "Score on train data : 0.8723481867188123\n",
            "MSE TRAINING : 82.38039510758266\n",
            "Score on validation data : 0.8936873267950914\n",
            "MSE Validation : 69.18383865381905\n"
          ]
        }
      ],
      "source": [
        "print(\"Score on train data :\",slrm.score(X_train_transformed,y_train))\n",
        "print(\"MSE TRAINING :\",mean_squared_error(y_train,slrm.predict(X_train_transformed)))\n",
        "print(\"Score on validation data :\",slrm.score(X_val_transformed,y_val))\n",
        "print(\"MSE Validation :\",mean_squared_error(y_val,slrm.predict(X_val_transformed)))"
      ]
    },
    {
      "cell_type": "markdown",
      "id": "340b8dc5",
      "metadata": {
        "papermill": {
          "duration": 0.05458,
          "end_time": "2023-12-13T05:35:25.860635",
          "exception": false,
          "start_time": "2023-12-13T05:35:25.806055",
          "status": "completed"
        },
        "tags": [],
        "id": "340b8dc5"
      },
      "source": [
        "### Slightly better than Model 1 and Model 2."
      ]
    },
    {
      "cell_type": "markdown",
      "id": "2ffe5cc4",
      "metadata": {
        "papermill": {
          "duration": 0.053903,
          "end_time": "2023-12-13T05:35:25.968976",
          "exception": false,
          "start_time": "2023-12-13T05:35:25.915073",
          "status": "completed"
        },
        "tags": [],
        "id": "2ffe5cc4"
      },
      "source": [
        "# Model 4 DTR"
      ]
    },
    {
      "cell_type": "code",
      "execution_count": null,
      "id": "17ce79c8",
      "metadata": {
        "execution": {
          "iopub.execute_input": "2023-12-13T05:35:26.084075Z",
          "iopub.status.busy": "2023-12-13T05:35:26.083644Z",
          "iopub.status.idle": "2023-12-13T05:35:27.693910Z",
          "shell.execute_reply": "2023-12-13T05:35:27.692660Z"
        },
        "papermill": {
          "duration": 1.670792,
          "end_time": "2023-12-13T05:35:27.696633",
          "exception": false,
          "start_time": "2023-12-13T05:35:26.025841",
          "status": "completed"
        },
        "tags": [],
        "id": "17ce79c8",
        "outputId": "7724c49f-aa0d-4a79-f7a5-3b816f680ee3"
      },
      "outputs": [
        {
          "data": {
            "text/html": [
              "<style>#sk-container-id-5 {color: black;background-color: white;}#sk-container-id-5 pre{padding: 0;}#sk-container-id-5 div.sk-toggleable {background-color: white;}#sk-container-id-5 label.sk-toggleable__label {cursor: pointer;display: block;width: 100%;margin-bottom: 0;padding: 0.3em;box-sizing: border-box;text-align: center;}#sk-container-id-5 label.sk-toggleable__label-arrow:before {content: \"▸\";float: left;margin-right: 0.25em;color: #696969;}#sk-container-id-5 label.sk-toggleable__label-arrow:hover:before {color: black;}#sk-container-id-5 div.sk-estimator:hover label.sk-toggleable__label-arrow:before {color: black;}#sk-container-id-5 div.sk-toggleable__content {max-height: 0;max-width: 0;overflow: hidden;text-align: left;background-color: #f0f8ff;}#sk-container-id-5 div.sk-toggleable__content pre {margin: 0.2em;color: black;border-radius: 0.25em;background-color: #f0f8ff;}#sk-container-id-5 input.sk-toggleable__control:checked~div.sk-toggleable__content {max-height: 200px;max-width: 100%;overflow: auto;}#sk-container-id-5 input.sk-toggleable__control:checked~label.sk-toggleable__label-arrow:before {content: \"▾\";}#sk-container-id-5 div.sk-estimator input.sk-toggleable__control:checked~label.sk-toggleable__label {background-color: #d4ebff;}#sk-container-id-5 div.sk-label input.sk-toggleable__control:checked~label.sk-toggleable__label {background-color: #d4ebff;}#sk-container-id-5 input.sk-hidden--visually {border: 0;clip: rect(1px 1px 1px 1px);clip: rect(1px, 1px, 1px, 1px);height: 1px;margin: -1px;overflow: hidden;padding: 0;position: absolute;width: 1px;}#sk-container-id-5 div.sk-estimator {font-family: monospace;background-color: #f0f8ff;border: 1px dotted black;border-radius: 0.25em;box-sizing: border-box;margin-bottom: 0.5em;}#sk-container-id-5 div.sk-estimator:hover {background-color: #d4ebff;}#sk-container-id-5 div.sk-parallel-item::after {content: \"\";width: 100%;border-bottom: 1px solid gray;flex-grow: 1;}#sk-container-id-5 div.sk-label:hover label.sk-toggleable__label {background-color: #d4ebff;}#sk-container-id-5 div.sk-serial::before {content: \"\";position: absolute;border-left: 1px solid gray;box-sizing: border-box;top: 0;bottom: 0;left: 50%;z-index: 0;}#sk-container-id-5 div.sk-serial {display: flex;flex-direction: column;align-items: center;background-color: white;padding-right: 0.2em;padding-left: 0.2em;position: relative;}#sk-container-id-5 div.sk-item {position: relative;z-index: 1;}#sk-container-id-5 div.sk-parallel {display: flex;align-items: stretch;justify-content: center;background-color: white;position: relative;}#sk-container-id-5 div.sk-item::before, #sk-container-id-5 div.sk-parallel-item::before {content: \"\";position: absolute;border-left: 1px solid gray;box-sizing: border-box;top: 0;bottom: 0;left: 50%;z-index: -1;}#sk-container-id-5 div.sk-parallel-item {display: flex;flex-direction: column;z-index: 1;position: relative;background-color: white;}#sk-container-id-5 div.sk-parallel-item:first-child::after {align-self: flex-end;width: 50%;}#sk-container-id-5 div.sk-parallel-item:last-child::after {align-self: flex-start;width: 50%;}#sk-container-id-5 div.sk-parallel-item:only-child::after {width: 0;}#sk-container-id-5 div.sk-dashed-wrapped {border: 1px dashed gray;margin: 0 0.4em 0.5em 0.4em;box-sizing: border-box;padding-bottom: 0.4em;background-color: white;}#sk-container-id-5 div.sk-label label {font-family: monospace;font-weight: bold;display: inline-block;line-height: 1.2em;}#sk-container-id-5 div.sk-label-container {text-align: center;}#sk-container-id-5 div.sk-container {/* jupyter's `normalize.less` sets `[hidden] { display: none; }` but bootstrap.min.css set `[hidden] { display: none !important; }` so we also need the `!important` here to be able to override the default hidden behavior on the sphinx rendered scikit-learn.org. See: https://github.com/scikit-learn/scikit-learn/issues/21755 */display: inline-block !important;position: relative;}#sk-container-id-5 div.sk-text-repr-fallback {display: none;}</style><div id=\"sk-container-id-5\" class=\"sk-top-container\"><div class=\"sk-text-repr-fallback\"><pre>DecisionTreeRegressor()</pre><b>In a Jupyter environment, please rerun this cell to show the HTML representation or trust the notebook. <br />On GitHub, the HTML representation is unable to render, please try loading this page with nbviewer.org.</b></div><div class=\"sk-container\" hidden><div class=\"sk-item\"><div class=\"sk-estimator sk-toggleable\"><input class=\"sk-toggleable__control sk-hidden--visually\" id=\"sk-estimator-id-5\" type=\"checkbox\" checked><label for=\"sk-estimator-id-5\" class=\"sk-toggleable__label sk-toggleable__label-arrow\">DecisionTreeRegressor</label><div class=\"sk-toggleable__content\"><pre>DecisionTreeRegressor()</pre></div></div></div></div></div>"
            ],
            "text/plain": [
              "DecisionTreeRegressor()"
            ]
          },
          "execution_count": 50,
          "metadata": {},
          "output_type": "execute_result"
        }
      ],
      "source": [
        "# DECISION TREE REGRESSOR\n",
        "from sklearn.tree import DecisionTreeRegressor\n",
        "DTR = DecisionTreeRegressor()\n",
        "DTR.fit(X_train_transformed,y_train)\n"
      ]
    },
    {
      "cell_type": "code",
      "execution_count": null,
      "id": "c8483b7d",
      "metadata": {
        "execution": {
          "iopub.execute_input": "2023-12-13T05:35:27.810395Z",
          "iopub.status.busy": "2023-12-13T05:35:27.809539Z",
          "iopub.status.idle": "2023-12-13T05:35:28.068003Z",
          "shell.execute_reply": "2023-12-13T05:35:28.066746Z"
        },
        "papermill": {
          "duration": 0.318282,
          "end_time": "2023-12-13T05:35:28.070872",
          "exception": false,
          "start_time": "2023-12-13T05:35:27.752590",
          "status": "completed"
        },
        "tags": [],
        "id": "c8483b7d",
        "outputId": "b3d7d49e-e223-4529-b410-f8421d1d9154"
      },
      "outputs": [
        {
          "name": "stdout",
          "output_type": "stream",
          "text": [
            "Score on train data : 1.0\n",
            "MSE TRAINING : 6.5379305385383195e-28\n",
            "Score on validation data : 0.9112136910960906\n",
            "MSE Validation : 57.77841422571428\n"
          ]
        }
      ],
      "source": [
        "print(\"Score on train data :\",DTR.score(X_train_transformed,y_train))\n",
        "print(\"MSE TRAINING :\",mean_squared_error(y_train,DTR.predict(X_train_transformed)))\n",
        "print(\"Score on validation data :\",DTR.score(X_val_transformed,y_val))\n",
        "print(\"MSE Validation :\",mean_squared_error(y_val,DTR.predict(X_val_transformed)))"
      ]
    },
    {
      "cell_type": "markdown",
      "id": "80836c69",
      "metadata": {
        "papermill": {
          "duration": 0.056036,
          "end_time": "2023-12-13T05:35:28.182392",
          "exception": false,
          "start_time": "2023-12-13T05:35:28.126356",
          "status": "completed"
        },
        "tags": [],
        "id": "80836c69"
      },
      "source": [
        "### INSIGHT: Good score on Train and Validation set but we need to do HPT to reduce overfitting since we have train score of 1.0"
      ]
    },
    {
      "cell_type": "markdown",
      "id": "fe232fba",
      "metadata": {
        "papermill": {
          "duration": 0.057604,
          "end_time": "2023-12-13T05:35:28.296064",
          "exception": false,
          "start_time": "2023-12-13T05:35:28.238460",
          "status": "completed"
        },
        "tags": [],
        "id": "fe232fba"
      },
      "source": [
        "## HPT on DTR"
      ]
    },
    {
      "cell_type": "code",
      "execution_count": null,
      "id": "3969c2bf",
      "metadata": {
        "execution": {
          "iopub.execute_input": "2023-12-13T05:35:28.411077Z",
          "iopub.status.busy": "2023-12-13T05:35:28.410099Z",
          "iopub.status.idle": "2023-12-13T05:35:28.418091Z",
          "shell.execute_reply": "2023-12-13T05:35:28.416997Z"
        },
        "papermill": {
          "duration": 0.068798,
          "end_time": "2023-12-13T05:35:28.420787",
          "exception": false,
          "start_time": "2023-12-13T05:35:28.351989",
          "status": "completed"
        },
        "tags": [],
        "id": "3969c2bf",
        "outputId": "74de5619-8099-4e39-8c13-c2e36932f0e7"
      },
      "outputs": [
        {
          "data": {
            "text/plain": [
              "'from sklearn.model_selection import RandomizedSearchCV\\nfrom scipy.stats import randint\\n\\n# Defining the parameter grid\\nparam_dist = {\\n    \\'max_depth\\': randint(5, 20), \\n    \\'min_samples_split\\': randint(5, 20),\\n    \\'min_samples_leaf\\': randint(5, 20),\\n}\\n\\ndtree = DecisionTreeRegressor()\\n\\n# RandomizedSearchCV object\\nrandom_search = RandomizedSearchCV(\\n    dtree,\\n    param_distributions=param_dist,\\n    n_iter=10, \\n    scoring=\\'neg_mean_squared_error\\',  \\n    cv=5, \\n    random_state=42,\\n    n_jobs=-1,  # Using -1 to use all available CPU cores\\n)\\n\\n# Fitting the RandomizedSearchCV object to the data\\nrandom_search.fit(X_train_transformed, y_train)\\n\\n# Getting the best hyperparameters\\nbest_params = random_search.best_params_\\nprint(\"Best Hyperparameters:\", best_params)\\n'"
            ]
          },
          "execution_count": 52,
          "metadata": {},
          "output_type": "execute_result"
        }
      ],
      "source": [
        "### COMMENTED\n",
        "'''from sklearn.model_selection import RandomizedSearchCV\n",
        "from scipy.stats import randint\n",
        "\n",
        "# Defining the parameter grid\n",
        "param_dist = {\n",
        "    'max_depth': randint(5, 20),\n",
        "    'min_samples_split': randint(5, 20),\n",
        "    'min_samples_leaf': randint(5, 20),\n",
        "}\n",
        "\n",
        "dtree = DecisionTreeRegressor()\n",
        "\n",
        "# RandomizedSearchCV object\n",
        "random_search = RandomizedSearchCV(\n",
        "    dtree,\n",
        "    param_distributions=param_dist,\n",
        "    n_iter=10,\n",
        "    scoring='neg_mean_squared_error',\n",
        "    cv=5,\n",
        "    random_state=42,\n",
        "    n_jobs=-1,  # Using -1 to use all available CPU cores\n",
        ")\n",
        "\n",
        "# Fitting the RandomizedSearchCV object to the data\n",
        "random_search.fit(X_train_transformed, y_train)\n",
        "\n",
        "# Getting the best hyperparameters\n",
        "best_params = random_search.best_params_\n",
        "print(\"Best Hyperparameters:\", best_params)\n",
        "'''"
      ]
    },
    {
      "cell_type": "markdown",
      "id": "d77d891c",
      "metadata": {
        "papermill": {
          "duration": 0.057786,
          "end_time": "2023-12-13T05:35:28.535807",
          "exception": false,
          "start_time": "2023-12-13T05:35:28.478021",
          "status": "completed"
        },
        "tags": [],
        "id": "d77d891c"
      },
      "source": [
        "###  DTR Best Hyperparameters: {'max_depth': 14, 'min_samples_leaf': 7, 'min_samples_split': 11}"
      ]
    },
    {
      "cell_type": "code",
      "execution_count": null,
      "id": "a2e099b9",
      "metadata": {
        "execution": {
          "iopub.execute_input": "2023-12-13T05:35:28.648303Z",
          "iopub.status.busy": "2023-12-13T05:35:28.647841Z",
          "iopub.status.idle": "2023-12-13T05:35:29.703439Z",
          "shell.execute_reply": "2023-12-13T05:35:29.702183Z"
        },
        "papermill": {
          "duration": 1.114757,
          "end_time": "2023-12-13T05:35:29.705818",
          "exception": false,
          "start_time": "2023-12-13T05:35:28.591061",
          "status": "completed"
        },
        "tags": [],
        "id": "a2e099b9",
        "outputId": "20185064-5eb5-4ac9-d99f-ca00f3606c7e"
      },
      "outputs": [
        {
          "data": {
            "text/html": [
              "<style>#sk-container-id-6 {color: black;background-color: white;}#sk-container-id-6 pre{padding: 0;}#sk-container-id-6 div.sk-toggleable {background-color: white;}#sk-container-id-6 label.sk-toggleable__label {cursor: pointer;display: block;width: 100%;margin-bottom: 0;padding: 0.3em;box-sizing: border-box;text-align: center;}#sk-container-id-6 label.sk-toggleable__label-arrow:before {content: \"▸\";float: left;margin-right: 0.25em;color: #696969;}#sk-container-id-6 label.sk-toggleable__label-arrow:hover:before {color: black;}#sk-container-id-6 div.sk-estimator:hover label.sk-toggleable__label-arrow:before {color: black;}#sk-container-id-6 div.sk-toggleable__content {max-height: 0;max-width: 0;overflow: hidden;text-align: left;background-color: #f0f8ff;}#sk-container-id-6 div.sk-toggleable__content pre {margin: 0.2em;color: black;border-radius: 0.25em;background-color: #f0f8ff;}#sk-container-id-6 input.sk-toggleable__control:checked~div.sk-toggleable__content {max-height: 200px;max-width: 100%;overflow: auto;}#sk-container-id-6 input.sk-toggleable__control:checked~label.sk-toggleable__label-arrow:before {content: \"▾\";}#sk-container-id-6 div.sk-estimator input.sk-toggleable__control:checked~label.sk-toggleable__label {background-color: #d4ebff;}#sk-container-id-6 div.sk-label input.sk-toggleable__control:checked~label.sk-toggleable__label {background-color: #d4ebff;}#sk-container-id-6 input.sk-hidden--visually {border: 0;clip: rect(1px 1px 1px 1px);clip: rect(1px, 1px, 1px, 1px);height: 1px;margin: -1px;overflow: hidden;padding: 0;position: absolute;width: 1px;}#sk-container-id-6 div.sk-estimator {font-family: monospace;background-color: #f0f8ff;border: 1px dotted black;border-radius: 0.25em;box-sizing: border-box;margin-bottom: 0.5em;}#sk-container-id-6 div.sk-estimator:hover {background-color: #d4ebff;}#sk-container-id-6 div.sk-parallel-item::after {content: \"\";width: 100%;border-bottom: 1px solid gray;flex-grow: 1;}#sk-container-id-6 div.sk-label:hover label.sk-toggleable__label {background-color: #d4ebff;}#sk-container-id-6 div.sk-serial::before {content: \"\";position: absolute;border-left: 1px solid gray;box-sizing: border-box;top: 0;bottom: 0;left: 50%;z-index: 0;}#sk-container-id-6 div.sk-serial {display: flex;flex-direction: column;align-items: center;background-color: white;padding-right: 0.2em;padding-left: 0.2em;position: relative;}#sk-container-id-6 div.sk-item {position: relative;z-index: 1;}#sk-container-id-6 div.sk-parallel {display: flex;align-items: stretch;justify-content: center;background-color: white;position: relative;}#sk-container-id-6 div.sk-item::before, #sk-container-id-6 div.sk-parallel-item::before {content: \"\";position: absolute;border-left: 1px solid gray;box-sizing: border-box;top: 0;bottom: 0;left: 50%;z-index: -1;}#sk-container-id-6 div.sk-parallel-item {display: flex;flex-direction: column;z-index: 1;position: relative;background-color: white;}#sk-container-id-6 div.sk-parallel-item:first-child::after {align-self: flex-end;width: 50%;}#sk-container-id-6 div.sk-parallel-item:last-child::after {align-self: flex-start;width: 50%;}#sk-container-id-6 div.sk-parallel-item:only-child::after {width: 0;}#sk-container-id-6 div.sk-dashed-wrapped {border: 1px dashed gray;margin: 0 0.4em 0.5em 0.4em;box-sizing: border-box;padding-bottom: 0.4em;background-color: white;}#sk-container-id-6 div.sk-label label {font-family: monospace;font-weight: bold;display: inline-block;line-height: 1.2em;}#sk-container-id-6 div.sk-label-container {text-align: center;}#sk-container-id-6 div.sk-container {/* jupyter's `normalize.less` sets `[hidden] { display: none; }` but bootstrap.min.css set `[hidden] { display: none !important; }` so we also need the `!important` here to be able to override the default hidden behavior on the sphinx rendered scikit-learn.org. See: https://github.com/scikit-learn/scikit-learn/issues/21755 */display: inline-block !important;position: relative;}#sk-container-id-6 div.sk-text-repr-fallback {display: none;}</style><div id=\"sk-container-id-6\" class=\"sk-top-container\"><div class=\"sk-text-repr-fallback\"><pre>DecisionTreeRegressor(max_depth=14, min_samples_leaf=7, min_samples_split=11)</pre><b>In a Jupyter environment, please rerun this cell to show the HTML representation or trust the notebook. <br />On GitHub, the HTML representation is unable to render, please try loading this page with nbviewer.org.</b></div><div class=\"sk-container\" hidden><div class=\"sk-item\"><div class=\"sk-estimator sk-toggleable\"><input class=\"sk-toggleable__control sk-hidden--visually\" id=\"sk-estimator-id-6\" type=\"checkbox\" checked><label for=\"sk-estimator-id-6\" class=\"sk-toggleable__label sk-toggleable__label-arrow\">DecisionTreeRegressor</label><div class=\"sk-toggleable__content\"><pre>DecisionTreeRegressor(max_depth=14, min_samples_leaf=7, min_samples_split=11)</pre></div></div></div></div></div>"
            ],
            "text/plain": [
              "DecisionTreeRegressor(max_depth=14, min_samples_leaf=7, min_samples_split=11)"
            ]
          },
          "execution_count": 53,
          "metadata": {},
          "output_type": "execute_result"
        }
      ],
      "source": [
        "best_params = {'max_depth': 14, 'min_samples_leaf': 7, 'min_samples_split': 11}\n",
        "# Training with the tuned model.\n",
        "best_dtree = DecisionTreeRegressor(\n",
        "    max_depth=best_params['max_depth'],\n",
        "    min_samples_split=best_params['min_samples_split'],\n",
        "    min_samples_leaf=best_params['min_samples_leaf'],)\n",
        "best_dtree.fit(X_train_transformed,y_train)"
      ]
    },
    {
      "cell_type": "code",
      "execution_count": null,
      "id": "7362ae5c",
      "metadata": {
        "execution": {
          "iopub.execute_input": "2023-12-13T05:35:29.817402Z",
          "iopub.status.busy": "2023-12-13T05:35:29.816934Z",
          "iopub.status.idle": "2023-12-13T05:35:29.891917Z",
          "shell.execute_reply": "2023-12-13T05:35:29.890538Z"
        },
        "papermill": {
          "duration": 0.133228,
          "end_time": "2023-12-13T05:35:29.894103",
          "exception": false,
          "start_time": "2023-12-13T05:35:29.760875",
          "status": "completed"
        },
        "tags": [],
        "id": "7362ae5c",
        "outputId": "6fca97b1-c73e-47b3-c7f8-6611fc36c190"
      },
      "outputs": [
        {
          "name": "stdout",
          "output_type": "stream",
          "text": [
            "Score on train data : 0.9494322640536843\n",
            "MSE TRAINING : 32.634006207002464\n",
            "Score on validation data : 0.9409482989732586\n",
            "MSE Validation : 38.42837577974672\n"
          ]
        }
      ],
      "source": [
        "#Regression Metrics\n",
        "print(\"Score on train data :\",best_dtree.score(X_train_transformed,y_train))\n",
        "print(\"MSE TRAINING :\",mean_squared_error(y_train,best_dtree.predict(X_train_transformed)))\n",
        "print(\"Score on validation data :\",best_dtree.score(X_val_transformed,y_val))\n",
        "print(\"MSE Validation :\",mean_squared_error(y_val,best_dtree.predict(X_val_transformed)))"
      ]
    },
    {
      "cell_type": "markdown",
      "id": "5ce3ec53",
      "metadata": {
        "papermill": {
          "duration": 0.054985,
          "end_time": "2023-12-13T05:35:30.004990",
          "exception": false,
          "start_time": "2023-12-13T05:35:29.950005",
          "status": "completed"
        },
        "tags": [],
        "id": "5ce3ec53"
      },
      "source": [
        "### INSIGHT: The scores have improved signficantly on the validation set and MSE has also reduced on both train and validation sets, courtesy Hyperparameter tuning."
      ]
    },
    {
      "cell_type": "markdown",
      "id": "2c086ef9",
      "metadata": {
        "papermill": {
          "duration": 0.054988,
          "end_time": "2023-12-13T05:35:30.116057",
          "exception": false,
          "start_time": "2023-12-13T05:35:30.061069",
          "status": "completed"
        },
        "tags": [],
        "id": "2c086ef9"
      },
      "source": [
        "# Model 5 RANDOM_FOREST_REGRESSOR"
      ]
    },
    {
      "cell_type": "code",
      "execution_count": null,
      "id": "fbd025e2",
      "metadata": {
        "execution": {
          "iopub.execute_input": "2023-12-13T05:35:30.230052Z",
          "iopub.status.busy": "2023-12-13T05:35:30.229618Z",
          "iopub.status.idle": "2023-12-13T05:37:08.168415Z",
          "shell.execute_reply": "2023-12-13T05:37:08.167235Z"
        },
        "papermill": {
          "duration": 98.053756,
          "end_time": "2023-12-13T05:37:08.226412",
          "exception": false,
          "start_time": "2023-12-13T05:35:30.172656",
          "status": "completed"
        },
        "tags": [],
        "id": "fbd025e2",
        "outputId": "ce809223-a3f4-4599-edf5-1279ec1deda5"
      },
      "outputs": [
        {
          "data": {
            "text/html": [
              "<style>#sk-container-id-7 {color: black;background-color: white;}#sk-container-id-7 pre{padding: 0;}#sk-container-id-7 div.sk-toggleable {background-color: white;}#sk-container-id-7 label.sk-toggleable__label {cursor: pointer;display: block;width: 100%;margin-bottom: 0;padding: 0.3em;box-sizing: border-box;text-align: center;}#sk-container-id-7 label.sk-toggleable__label-arrow:before {content: \"▸\";float: left;margin-right: 0.25em;color: #696969;}#sk-container-id-7 label.sk-toggleable__label-arrow:hover:before {color: black;}#sk-container-id-7 div.sk-estimator:hover label.sk-toggleable__label-arrow:before {color: black;}#sk-container-id-7 div.sk-toggleable__content {max-height: 0;max-width: 0;overflow: hidden;text-align: left;background-color: #f0f8ff;}#sk-container-id-7 div.sk-toggleable__content pre {margin: 0.2em;color: black;border-radius: 0.25em;background-color: #f0f8ff;}#sk-container-id-7 input.sk-toggleable__control:checked~div.sk-toggleable__content {max-height: 200px;max-width: 100%;overflow: auto;}#sk-container-id-7 input.sk-toggleable__control:checked~label.sk-toggleable__label-arrow:before {content: \"▾\";}#sk-container-id-7 div.sk-estimator input.sk-toggleable__control:checked~label.sk-toggleable__label {background-color: #d4ebff;}#sk-container-id-7 div.sk-label input.sk-toggleable__control:checked~label.sk-toggleable__label {background-color: #d4ebff;}#sk-container-id-7 input.sk-hidden--visually {border: 0;clip: rect(1px 1px 1px 1px);clip: rect(1px, 1px, 1px, 1px);height: 1px;margin: -1px;overflow: hidden;padding: 0;position: absolute;width: 1px;}#sk-container-id-7 div.sk-estimator {font-family: monospace;background-color: #f0f8ff;border: 1px dotted black;border-radius: 0.25em;box-sizing: border-box;margin-bottom: 0.5em;}#sk-container-id-7 div.sk-estimator:hover {background-color: #d4ebff;}#sk-container-id-7 div.sk-parallel-item::after {content: \"\";width: 100%;border-bottom: 1px solid gray;flex-grow: 1;}#sk-container-id-7 div.sk-label:hover label.sk-toggleable__label {background-color: #d4ebff;}#sk-container-id-7 div.sk-serial::before {content: \"\";position: absolute;border-left: 1px solid gray;box-sizing: border-box;top: 0;bottom: 0;left: 50%;z-index: 0;}#sk-container-id-7 div.sk-serial {display: flex;flex-direction: column;align-items: center;background-color: white;padding-right: 0.2em;padding-left: 0.2em;position: relative;}#sk-container-id-7 div.sk-item {position: relative;z-index: 1;}#sk-container-id-7 div.sk-parallel {display: flex;align-items: stretch;justify-content: center;background-color: white;position: relative;}#sk-container-id-7 div.sk-item::before, #sk-container-id-7 div.sk-parallel-item::before {content: \"\";position: absolute;border-left: 1px solid gray;box-sizing: border-box;top: 0;bottom: 0;left: 50%;z-index: -1;}#sk-container-id-7 div.sk-parallel-item {display: flex;flex-direction: column;z-index: 1;position: relative;background-color: white;}#sk-container-id-7 div.sk-parallel-item:first-child::after {align-self: flex-end;width: 50%;}#sk-container-id-7 div.sk-parallel-item:last-child::after {align-self: flex-start;width: 50%;}#sk-container-id-7 div.sk-parallel-item:only-child::after {width: 0;}#sk-container-id-7 div.sk-dashed-wrapped {border: 1px dashed gray;margin: 0 0.4em 0.5em 0.4em;box-sizing: border-box;padding-bottom: 0.4em;background-color: white;}#sk-container-id-7 div.sk-label label {font-family: monospace;font-weight: bold;display: inline-block;line-height: 1.2em;}#sk-container-id-7 div.sk-label-container {text-align: center;}#sk-container-id-7 div.sk-container {/* jupyter's `normalize.less` sets `[hidden] { display: none; }` but bootstrap.min.css set `[hidden] { display: none !important; }` so we also need the `!important` here to be able to override the default hidden behavior on the sphinx rendered scikit-learn.org. See: https://github.com/scikit-learn/scikit-learn/issues/21755 */display: inline-block !important;position: relative;}#sk-container-id-7 div.sk-text-repr-fallback {display: none;}</style><div id=\"sk-container-id-7\" class=\"sk-top-container\"><div class=\"sk-text-repr-fallback\"><pre>RandomForestRegressor(random_state=42)</pre><b>In a Jupyter environment, please rerun this cell to show the HTML representation or trust the notebook. <br />On GitHub, the HTML representation is unable to render, please try loading this page with nbviewer.org.</b></div><div class=\"sk-container\" hidden><div class=\"sk-item\"><div class=\"sk-estimator sk-toggleable\"><input class=\"sk-toggleable__control sk-hidden--visually\" id=\"sk-estimator-id-7\" type=\"checkbox\" checked><label for=\"sk-estimator-id-7\" class=\"sk-toggleable__label sk-toggleable__label-arrow\">RandomForestRegressor</label><div class=\"sk-toggleable__content\"><pre>RandomForestRegressor(random_state=42)</pre></div></div></div></div></div>"
            ],
            "text/plain": [
              "RandomForestRegressor(random_state=42)"
            ]
          },
          "execution_count": 55,
          "metadata": {},
          "output_type": "execute_result"
        }
      ],
      "source": [
        "# Random Forest regressor\n",
        "from sklearn.ensemble import RandomForestRegressor\n",
        "RFR = RandomForestRegressor(random_state=42)\n",
        "RFR.fit(X_train_transformed,y_train)"
      ]
    },
    {
      "cell_type": "code",
      "execution_count": null,
      "id": "91a8b979",
      "metadata": {
        "execution": {
          "iopub.execute_input": "2023-12-13T05:37:08.340539Z",
          "iopub.status.busy": "2023-12-13T05:37:08.340059Z",
          "iopub.status.idle": "2023-12-13T05:37:26.608044Z",
          "shell.execute_reply": "2023-12-13T05:37:26.607135Z"
        },
        "papermill": {
          "duration": 18.328433,
          "end_time": "2023-12-13T05:37:26.610660",
          "exception": false,
          "start_time": "2023-12-13T05:37:08.282227",
          "status": "completed"
        },
        "tags": [],
        "id": "91a8b979",
        "outputId": "14e11b58-9c17-48b7-a02b-6c258124c354"
      },
      "outputs": [
        {
          "name": "stdout",
          "output_type": "stream",
          "text": [
            "Score on train data : 0.991035587643215\n",
            "MSE TRAINING : 5.785204399976071\n",
            "Score on validation data : 0.9570125403654861\n",
            "MSE Validation : 27.974439752442\n"
          ]
        }
      ],
      "source": [
        "#Regression Metrics\n",
        "print(\"Score on train data :\",RFR.score(X_train_transformed,y_train))\n",
        "print(\"MSE TRAINING :\",mean_squared_error(y_train,RFR.predict(X_train_transformed)))\n",
        "print(\"Score on validation data :\",RFR.score(X_val_transformed,y_val))\n",
        "print(\"MSE Validation :\",mean_squared_error(y_val,RFR.predict(X_val_transformed)))"
      ]
    },
    {
      "cell_type": "markdown",
      "id": "555f22ed",
      "metadata": {
        "papermill": {
          "duration": 0.055297,
          "end_time": "2023-12-13T05:37:26.722165",
          "exception": false,
          "start_time": "2023-12-13T05:37:26.666868",
          "status": "completed"
        },
        "tags": [],
        "id": "555f22ed"
      },
      "source": [
        "### INSIGHT : Model has provided better result than the previous Decision Tree model with MSE reduced on both Train and Validation set and R2 score improved as well."
      ]
    },
    {
      "cell_type": "markdown",
      "id": "2c7579e5",
      "metadata": {
        "papermill": {
          "duration": 0.05622,
          "end_time": "2023-12-13T05:37:26.835354",
          "exception": false,
          "start_time": "2023-12-13T05:37:26.779134",
          "status": "completed"
        },
        "tags": [],
        "id": "2c7579e5"
      },
      "source": [
        "## Hyperparameter tuning for RFR"
      ]
    },
    {
      "cell_type": "code",
      "execution_count": null,
      "id": "727ff3b9",
      "metadata": {
        "execution": {
          "iopub.execute_input": "2023-12-13T05:37:26.948056Z",
          "iopub.status.busy": "2023-12-13T05:37:26.947631Z",
          "iopub.status.idle": "2023-12-13T05:37:26.955397Z",
          "shell.execute_reply": "2023-12-13T05:37:26.954193Z"
        },
        "papermill": {
          "duration": 0.067441,
          "end_time": "2023-12-13T05:37:26.957919",
          "exception": false,
          "start_time": "2023-12-13T05:37:26.890478",
          "status": "completed"
        },
        "tags": [],
        "id": "727ff3b9",
        "outputId": "78c4a2b2-3c51-4f14-cbcf-1157fb844b1d"
      },
      "outputs": [
        {
          "data": {
            "text/plain": [
              "'from sklearn.model_selection import RandomizedSearchCV\\nfrom scipy.stats import randint\\n\\nrfr = RandomForestRegressor()\\n\\n# Defining the hyperparameter space\\nparam_dist = {\\n    \\'n_estimators\\': randint(10, 200),\\n    \\'max_depth\\': [None, 10, 20, 30, 40, 50],\\n    \\'min_samples_split\\': randint(3, 20),\\n    \\'min_samples_leaf\\': randint(3, 20)\\n}\\n\\n# Setting up RandomizedSearchCV\\nrandom_search = RandomizedSearchCV(rfr, param_distributions=param_dist, n_iter=100, cv=5, random_state=42, n_jobs=-1)\\n\\n# Fitting the RandomizedSearchCV on training data\\nrandom_search.fit(X_train_transformed, y_train)\\n\\n# Printing the best hyperparameters\\nprint(\"Best hyperparameters:\", random_search.best_params_)\\n'"
            ]
          },
          "execution_count": 57,
          "metadata": {},
          "output_type": "execute_result"
        }
      ],
      "source": [
        "'''from sklearn.model_selection import RandomizedSearchCV\n",
        "from scipy.stats import randint\n",
        "\n",
        "rfr = RandomForestRegressor()\n",
        "\n",
        "# Defining the hyperparameter space\n",
        "param_dist = {\n",
        "    'n_estimators': randint(10, 200),\n",
        "    'max_depth': [None, 10, 20, 30, 40, 50],\n",
        "    'min_samples_split': randint(3, 20),\n",
        "    'min_samples_leaf': randint(3, 20)\n",
        "}\n",
        "\n",
        "# Setting up RandomizedSearchCV\n",
        "random_search = RandomizedSearchCV(rfr, param_distributions=param_dist, n_iter=100, cv=5, random_state=42, n_jobs=-1)\n",
        "\n",
        "# Fitting the RandomizedSearchCV on training data\n",
        "random_search.fit(X_train_transformed, y_train)\n",
        "\n",
        "# Printing the best hyperparameters\n",
        "print(\"Best hyperparameters:\", random_search.best_params_)\n",
        "'''"
      ]
    },
    {
      "cell_type": "markdown",
      "id": "307a135d",
      "metadata": {
        "papermill": {
          "duration": 0.055268,
          "end_time": "2023-12-13T05:37:27.068735",
          "exception": false,
          "start_time": "2023-12-13T05:37:27.013467",
          "status": "completed"
        },
        "tags": [],
        "id": "307a135d"
      },
      "source": [
        "### Best hyperparameters: {'max_depth': 20, 'min_samples_leaf': 3, 'min_samples_split': 6, 'n_estimators': 59}"
      ]
    },
    {
      "cell_type": "markdown",
      "id": "44659d03",
      "metadata": {
        "papermill": {
          "duration": 0.055459,
          "end_time": "2023-12-13T05:37:27.180527",
          "exception": false,
          "start_time": "2023-12-13T05:37:27.125068",
          "status": "completed"
        },
        "tags": [],
        "id": "44659d03"
      },
      "source": [
        "### Trying RFR with some tuned parameters"
      ]
    },
    {
      "cell_type": "code",
      "execution_count": null,
      "id": "3651ae7a",
      "metadata": {
        "execution": {
          "iopub.execute_input": "2023-12-13T05:37:27.296037Z",
          "iopub.status.busy": "2023-12-13T05:37:27.295100Z",
          "iopub.status.idle": "2023-12-13T05:38:11.415589Z",
          "shell.execute_reply": "2023-12-13T05:38:11.414362Z"
        },
        "papermill": {
          "duration": 44.238409,
          "end_time": "2023-12-13T05:38:11.474691",
          "exception": false,
          "start_time": "2023-12-13T05:37:27.236282",
          "status": "completed"
        },
        "tags": [],
        "id": "3651ae7a",
        "outputId": "abf40915-8ce5-49b6-817f-cfb6fcc9d80a"
      },
      "outputs": [
        {
          "data": {
            "text/html": [
              "<style>#sk-container-id-8 {color: black;background-color: white;}#sk-container-id-8 pre{padding: 0;}#sk-container-id-8 div.sk-toggleable {background-color: white;}#sk-container-id-8 label.sk-toggleable__label {cursor: pointer;display: block;width: 100%;margin-bottom: 0;padding: 0.3em;box-sizing: border-box;text-align: center;}#sk-container-id-8 label.sk-toggleable__label-arrow:before {content: \"▸\";float: left;margin-right: 0.25em;color: #696969;}#sk-container-id-8 label.sk-toggleable__label-arrow:hover:before {color: black;}#sk-container-id-8 div.sk-estimator:hover label.sk-toggleable__label-arrow:before {color: black;}#sk-container-id-8 div.sk-toggleable__content {max-height: 0;max-width: 0;overflow: hidden;text-align: left;background-color: #f0f8ff;}#sk-container-id-8 div.sk-toggleable__content pre {margin: 0.2em;color: black;border-radius: 0.25em;background-color: #f0f8ff;}#sk-container-id-8 input.sk-toggleable__control:checked~div.sk-toggleable__content {max-height: 200px;max-width: 100%;overflow: auto;}#sk-container-id-8 input.sk-toggleable__control:checked~label.sk-toggleable__label-arrow:before {content: \"▾\";}#sk-container-id-8 div.sk-estimator input.sk-toggleable__control:checked~label.sk-toggleable__label {background-color: #d4ebff;}#sk-container-id-8 div.sk-label input.sk-toggleable__control:checked~label.sk-toggleable__label {background-color: #d4ebff;}#sk-container-id-8 input.sk-hidden--visually {border: 0;clip: rect(1px 1px 1px 1px);clip: rect(1px, 1px, 1px, 1px);height: 1px;margin: -1px;overflow: hidden;padding: 0;position: absolute;width: 1px;}#sk-container-id-8 div.sk-estimator {font-family: monospace;background-color: #f0f8ff;border: 1px dotted black;border-radius: 0.25em;box-sizing: border-box;margin-bottom: 0.5em;}#sk-container-id-8 div.sk-estimator:hover {background-color: #d4ebff;}#sk-container-id-8 div.sk-parallel-item::after {content: \"\";width: 100%;border-bottom: 1px solid gray;flex-grow: 1;}#sk-container-id-8 div.sk-label:hover label.sk-toggleable__label {background-color: #d4ebff;}#sk-container-id-8 div.sk-serial::before {content: \"\";position: absolute;border-left: 1px solid gray;box-sizing: border-box;top: 0;bottom: 0;left: 50%;z-index: 0;}#sk-container-id-8 div.sk-serial {display: flex;flex-direction: column;align-items: center;background-color: white;padding-right: 0.2em;padding-left: 0.2em;position: relative;}#sk-container-id-8 div.sk-item {position: relative;z-index: 1;}#sk-container-id-8 div.sk-parallel {display: flex;align-items: stretch;justify-content: center;background-color: white;position: relative;}#sk-container-id-8 div.sk-item::before, #sk-container-id-8 div.sk-parallel-item::before {content: \"\";position: absolute;border-left: 1px solid gray;box-sizing: border-box;top: 0;bottom: 0;left: 50%;z-index: -1;}#sk-container-id-8 div.sk-parallel-item {display: flex;flex-direction: column;z-index: 1;position: relative;background-color: white;}#sk-container-id-8 div.sk-parallel-item:first-child::after {align-self: flex-end;width: 50%;}#sk-container-id-8 div.sk-parallel-item:last-child::after {align-self: flex-start;width: 50%;}#sk-container-id-8 div.sk-parallel-item:only-child::after {width: 0;}#sk-container-id-8 div.sk-dashed-wrapped {border: 1px dashed gray;margin: 0 0.4em 0.5em 0.4em;box-sizing: border-box;padding-bottom: 0.4em;background-color: white;}#sk-container-id-8 div.sk-label label {font-family: monospace;font-weight: bold;display: inline-block;line-height: 1.2em;}#sk-container-id-8 div.sk-label-container {text-align: center;}#sk-container-id-8 div.sk-container {/* jupyter's `normalize.less` sets `[hidden] { display: none; }` but bootstrap.min.css set `[hidden] { display: none !important; }` so we also need the `!important` here to be able to override the default hidden behavior on the sphinx rendered scikit-learn.org. See: https://github.com/scikit-learn/scikit-learn/issues/21755 */display: inline-block !important;position: relative;}#sk-container-id-8 div.sk-text-repr-fallback {display: none;}</style><div id=\"sk-container-id-8\" class=\"sk-top-container\"><div class=\"sk-text-repr-fallback\"><pre>RandomForestRegressor(max_depth=20, min_samples_leaf=3, min_samples_split=6,\n",
              "                      n_estimators=59, random_state=42)</pre><b>In a Jupyter environment, please rerun this cell to show the HTML representation or trust the notebook. <br />On GitHub, the HTML representation is unable to render, please try loading this page with nbviewer.org.</b></div><div class=\"sk-container\" hidden><div class=\"sk-item\"><div class=\"sk-estimator sk-toggleable\"><input class=\"sk-toggleable__control sk-hidden--visually\" id=\"sk-estimator-id-8\" type=\"checkbox\" checked><label for=\"sk-estimator-id-8\" class=\"sk-toggleable__label sk-toggleable__label-arrow\">RandomForestRegressor</label><div class=\"sk-toggleable__content\"><pre>RandomForestRegressor(max_depth=20, min_samples_leaf=3, min_samples_split=6,\n",
              "                      n_estimators=59, random_state=42)</pre></div></div></div></div></div>"
            ],
            "text/plain": [
              "RandomForestRegressor(max_depth=20, min_samples_leaf=3, min_samples_split=6,\n",
              "                      n_estimators=59, random_state=42)"
            ]
          },
          "execution_count": 58,
          "metadata": {},
          "output_type": "execute_result"
        }
      ],
      "source": [
        "RFRT = RandomForestRegressor(n_estimators=59, criterion='squared_error', max_depth=20, min_samples_split=6, min_samples_leaf=3,random_state=42)\n",
        "RFRT.fit(X_train_transformed,y_train)"
      ]
    },
    {
      "cell_type": "code",
      "execution_count": null,
      "id": "0a69333e",
      "metadata": {
        "execution": {
          "iopub.execute_input": "2023-12-13T05:38:11.590171Z",
          "iopub.status.busy": "2023-12-13T05:38:11.589455Z",
          "iopub.status.idle": "2023-12-13T05:38:16.366759Z",
          "shell.execute_reply": "2023-12-13T05:38:16.365328Z"
        },
        "papermill": {
          "duration": 4.838073,
          "end_time": "2023-12-13T05:38:16.369364",
          "exception": false,
          "start_time": "2023-12-13T05:38:11.531291",
          "status": "completed"
        },
        "tags": [],
        "id": "0a69333e",
        "outputId": "d78e0d37-20c7-42df-c435-67df13e9286d"
      },
      "outputs": [
        {
          "name": "stdout",
          "output_type": "stream",
          "text": [
            "Score on train data : 0.9703236714494374\n",
            "MSE TRAINING : 19.151687770800077\n",
            "Score on validation data : 0.9563652502403611\n",
            "MSE Validation : 28.395669077496656\n"
          ]
        }
      ],
      "source": [
        "print(\"Score on train data :\",RFRT.score(X_train_transformed,y_train))\n",
        "print(\"MSE TRAINING :\",mean_squared_error(y_train,RFRT.predict(X_train_transformed)))\n",
        "print(\"Score on validation data :\",RFRT.score(X_val_transformed,y_val))\n",
        "print(\"MSE Validation :\",mean_squared_error(y_val,RFRT.predict(X_val_transformed)))"
      ]
    },
    {
      "cell_type": "markdown",
      "id": "9de018ad",
      "metadata": {
        "papermill": {
          "duration": 0.057292,
          "end_time": "2023-12-13T05:38:16.484310",
          "exception": false,
          "start_time": "2023-12-13T05:38:16.427018",
          "status": "completed"
        },
        "tags": [],
        "id": "9de018ad"
      },
      "source": [
        "### HPT lead to a slight decrease in model metrics."
      ]
    },
    {
      "cell_type": "markdown",
      "id": "47b49ffa",
      "metadata": {
        "papermill": {
          "duration": 0.057009,
          "end_time": "2023-12-13T05:38:16.601979",
          "exception": false,
          "start_time": "2023-12-13T05:38:16.544970",
          "status": "completed"
        },
        "tags": [],
        "id": "47b49ffa"
      },
      "source": [
        "## Training the RFR on complete train data"
      ]
    },
    {
      "cell_type": "code",
      "execution_count": null,
      "id": "bd7fd265",
      "metadata": {
        "execution": {
          "iopub.execute_input": "2023-12-13T05:38:16.718336Z",
          "iopub.status.busy": "2023-12-13T05:38:16.717669Z",
          "iopub.status.idle": "2023-12-13T05:38:16.724668Z",
          "shell.execute_reply": "2023-12-13T05:38:16.723528Z"
        },
        "papermill": {
          "duration": 0.067787,
          "end_time": "2023-12-13T05:38:16.726945",
          "exception": false,
          "start_time": "2023-12-13T05:38:16.659158",
          "status": "completed"
        },
        "tags": [],
        "id": "bd7fd265",
        "outputId": "19c737c1-344b-4f0c-ecf9-69ac721ded72"
      },
      "outputs": [
        {
          "data": {
            "text/plain": [
              "'X_final=data.drop(\"total_amount\",axis=1)\\ny_final=data[\"total_amount\"]\\nX_final_transformed=CT.fit_transform(X_final)\\nRFR2 = RandomForestRegressor(n_estimators=137, criterion=\\'squared_error\\', max_depth=20, min_samples_split=4, min_samples_leaf=1, max_features=1.0,random_state=42)\\nRFR2.fit(X_final_transformed,y_final)'"
            ]
          },
          "execution_count": 60,
          "metadata": {},
          "output_type": "execute_result"
        }
      ],
      "source": [
        "'''X_final=data.drop(\"total_amount\",axis=1)\n",
        "y_final=data[\"total_amount\"]\n",
        "X_final_transformed=CT.fit_transform(X_final)\n",
        "RFR2 = RandomForestRegressor(n_estimators=137, criterion='squared_error', max_depth=20, min_samples_split=4, min_samples_leaf=1, max_features=1.0,random_state=42)\n",
        "RFR2.fit(X_final_transformed,y_final)'''"
      ]
    },
    {
      "cell_type": "code",
      "execution_count": null,
      "id": "63568710",
      "metadata": {
        "execution": {
          "iopub.execute_input": "2023-12-13T05:38:16.842389Z",
          "iopub.status.busy": "2023-12-13T05:38:16.841706Z",
          "iopub.status.idle": "2023-12-13T05:38:16.847662Z",
          "shell.execute_reply": "2023-12-13T05:38:16.846710Z"
        },
        "papermill": {
          "duration": 0.066328,
          "end_time": "2023-12-13T05:38:16.849840",
          "exception": false,
          "start_time": "2023-12-13T05:38:16.783512",
          "status": "completed"
        },
        "tags": [],
        "id": "63568710",
        "outputId": "33b12e1a-4de2-4033-c380-c3b13f015d31"
      },
      "outputs": [
        {
          "data": {
            "text/plain": [
              "'from sklearn.metrics import r2_score,mean_squared_error\\ny_val_pred = RFR2.predict(X_val_transformed)\\nprint(r2_score(y_val, y_val_pred))\\nmean_squared_error(y_val, y_val_pred)'"
            ]
          },
          "execution_count": 61,
          "metadata": {},
          "output_type": "execute_result"
        }
      ],
      "source": [
        "'''from sklearn.metrics import r2_score,mean_squared_error\n",
        "y_val_pred = RFR2.predict(X_val_transformed)\n",
        "print(r2_score(y_val, y_val_pred))\n",
        "mean_squared_error(y_val, y_val_pred)'''"
      ]
    },
    {
      "cell_type": "markdown",
      "id": "05f6ffb5",
      "metadata": {
        "papermill": {
          "duration": 0.058537,
          "end_time": "2023-12-13T05:38:16.965417",
          "exception": false,
          "start_time": "2023-12-13T05:38:16.906880",
          "status": "completed"
        },
        "tags": [],
        "id": "05f6ffb5"
      },
      "source": [
        "## Feature Selection by running RFE WITH RFR"
      ]
    },
    {
      "cell_type": "code",
      "execution_count": null,
      "id": "d5b79afa",
      "metadata": {
        "execution": {
          "iopub.execute_input": "2023-12-13T05:38:17.082045Z",
          "iopub.status.busy": "2023-12-13T05:38:17.081311Z",
          "iopub.status.idle": "2023-12-13T05:38:17.088235Z",
          "shell.execute_reply": "2023-12-13T05:38:17.087282Z"
        },
        "papermill": {
          "duration": 0.068085,
          "end_time": "2023-12-13T05:38:17.090416",
          "exception": false,
          "start_time": "2023-12-13T05:38:17.022331",
          "status": "completed"
        },
        "tags": [],
        "id": "d5b79afa",
        "outputId": "4df00e7a-4eb5-439c-effc-6455a60f1ec2"
      },
      "outputs": [
        {
          "data": {
            "text/plain": [
              "'from sklearn.feature_selection import RFE\\nfrom sklearn.ensemble import RandomForestRegressor\\n\\nexpmt = RandomForestRegressor()\\nselector = RFE(expmt, n_features_to_select=15)\\nX_train_selected = selector.fit_transform(X_train_transformed, y_train)\\n'"
            ]
          },
          "execution_count": 62,
          "metadata": {},
          "output_type": "execute_result"
        }
      ],
      "source": [
        "'''from sklearn.feature_selection import RFE\n",
        "from sklearn.ensemble import RandomForestRegressor\n",
        "\n",
        "expmt = RandomForestRegressor()\n",
        "selector = RFE(expmt, n_features_to_select=15)\n",
        "X_train_selected = selector.fit_transform(X_train_transformed, y_train)\n",
        "'''"
      ]
    },
    {
      "cell_type": "code",
      "execution_count": null,
      "id": "e57c3154",
      "metadata": {
        "execution": {
          "iopub.execute_input": "2023-12-13T05:38:17.209295Z",
          "iopub.status.busy": "2023-12-13T05:38:17.208526Z",
          "iopub.status.idle": "2023-12-13T05:38:17.213247Z",
          "shell.execute_reply": "2023-12-13T05:38:17.212447Z"
        },
        "papermill": {
          "duration": 0.066147,
          "end_time": "2023-12-13T05:38:17.215545",
          "exception": false,
          "start_time": "2023-12-13T05:38:17.149398",
          "status": "completed"
        },
        "tags": [],
        "id": "e57c3154"
      },
      "outputs": [],
      "source": [
        "#print(selector.support_)\n",
        "#selector.ranking_\n",
        "#x=selector.support_\n",
        "#x"
      ]
    },
    {
      "cell_type": "markdown",
      "id": "f30b70d9",
      "metadata": {
        "papermill": {
          "duration": 0.058033,
          "end_time": "2023-12-13T05:38:17.332475",
          "exception": false,
          "start_time": "2023-12-13T05:38:17.274442",
          "status": "completed"
        },
        "tags": [],
        "id": "f30b70d9"
      },
      "source": [
        "**** Output of RFE\n",
        "array([False,  True, False,  True,  True, False,  True,  True,  True,\n",
        "       False, False, False,  True, False, False, False,  True,  True,\n",
        "        True,  True,  True,  True,  True,  True, False])\n",
        "\n",
        "array([ 5,  1, 11,  1,  1,  4,  1,  1,  1,  9, 10,  3,  1,  7,  2,  8,  1,\n",
        "        1,  1,  1,  1,  1,  1,  1,  6])\n",
        "A good idea would be to store this boolean index in an array explicilty and then use indexing to get the desired reduced number of features.:)))"
      ]
    },
    {
      "cell_type": "code",
      "execution_count": null,
      "id": "d0aea228",
      "metadata": {
        "execution": {
          "iopub.execute_input": "2023-12-13T05:38:17.450156Z",
          "iopub.status.busy": "2023-12-13T05:38:17.449495Z",
          "iopub.status.idle": "2023-12-13T05:38:17.473609Z",
          "shell.execute_reply": "2023-12-13T05:38:17.472505Z"
        },
        "papermill": {
          "duration": 0.086153,
          "end_time": "2023-12-13T05:38:17.476320",
          "exception": false,
          "start_time": "2023-12-13T05:38:17.390167",
          "status": "completed"
        },
        "tags": [],
        "id": "d0aea228"
      },
      "outputs": [],
      "source": [
        "selec=[False, True, False, True, True, False, True, True, True, False, False, False, True, False, False, False, True, True, True, True, True, True, True, True, False]\n",
        "X_train_selected=X_train_transformed[:,selec]"
      ]
    },
    {
      "cell_type": "code",
      "execution_count": null,
      "id": "c4eee6c4",
      "metadata": {
        "execution": {
          "iopub.execute_input": "2023-12-13T05:38:17.607716Z",
          "iopub.status.busy": "2023-12-13T05:38:17.606958Z",
          "iopub.status.idle": "2023-12-13T05:38:17.615563Z",
          "shell.execute_reply": "2023-12-13T05:38:17.614646Z"
        },
        "papermill": {
          "duration": 0.084847,
          "end_time": "2023-12-13T05:38:17.618105",
          "exception": false,
          "start_time": "2023-12-13T05:38:17.533258",
          "status": "completed"
        },
        "tags": [],
        "id": "c4eee6c4"
      },
      "outputs": [],
      "source": [
        "# Applying selection on validation set\n",
        "X_val_selected=X_val_transformed[:,selec]"
      ]
    },
    {
      "cell_type": "code",
      "execution_count": null,
      "id": "2c7045a1",
      "metadata": {
        "execution": {
          "iopub.execute_input": "2023-12-13T05:38:17.741665Z",
          "iopub.status.busy": "2023-12-13T05:38:17.737380Z",
          "iopub.status.idle": "2023-12-13T05:38:56.899468Z",
          "shell.execute_reply": "2023-12-13T05:38:56.898299Z"
        },
        "papermill": {
          "duration": 39.282402,
          "end_time": "2023-12-13T05:38:56.958439",
          "exception": false,
          "start_time": "2023-12-13T05:38:17.676037",
          "status": "completed"
        },
        "tags": [],
        "id": "2c7045a1",
        "outputId": "d56e9974-7a40-4c30-9f08-566a278a42e1"
      },
      "outputs": [
        {
          "data": {
            "text/html": [
              "<style>#sk-container-id-9 {color: black;background-color: white;}#sk-container-id-9 pre{padding: 0;}#sk-container-id-9 div.sk-toggleable {background-color: white;}#sk-container-id-9 label.sk-toggleable__label {cursor: pointer;display: block;width: 100%;margin-bottom: 0;padding: 0.3em;box-sizing: border-box;text-align: center;}#sk-container-id-9 label.sk-toggleable__label-arrow:before {content: \"▸\";float: left;margin-right: 0.25em;color: #696969;}#sk-container-id-9 label.sk-toggleable__label-arrow:hover:before {color: black;}#sk-container-id-9 div.sk-estimator:hover label.sk-toggleable__label-arrow:before {color: black;}#sk-container-id-9 div.sk-toggleable__content {max-height: 0;max-width: 0;overflow: hidden;text-align: left;background-color: #f0f8ff;}#sk-container-id-9 div.sk-toggleable__content pre {margin: 0.2em;color: black;border-radius: 0.25em;background-color: #f0f8ff;}#sk-container-id-9 input.sk-toggleable__control:checked~div.sk-toggleable__content {max-height: 200px;max-width: 100%;overflow: auto;}#sk-container-id-9 input.sk-toggleable__control:checked~label.sk-toggleable__label-arrow:before {content: \"▾\";}#sk-container-id-9 div.sk-estimator input.sk-toggleable__control:checked~label.sk-toggleable__label {background-color: #d4ebff;}#sk-container-id-9 div.sk-label input.sk-toggleable__control:checked~label.sk-toggleable__label {background-color: #d4ebff;}#sk-container-id-9 input.sk-hidden--visually {border: 0;clip: rect(1px 1px 1px 1px);clip: rect(1px, 1px, 1px, 1px);height: 1px;margin: -1px;overflow: hidden;padding: 0;position: absolute;width: 1px;}#sk-container-id-9 div.sk-estimator {font-family: monospace;background-color: #f0f8ff;border: 1px dotted black;border-radius: 0.25em;box-sizing: border-box;margin-bottom: 0.5em;}#sk-container-id-9 div.sk-estimator:hover {background-color: #d4ebff;}#sk-container-id-9 div.sk-parallel-item::after {content: \"\";width: 100%;border-bottom: 1px solid gray;flex-grow: 1;}#sk-container-id-9 div.sk-label:hover label.sk-toggleable__label {background-color: #d4ebff;}#sk-container-id-9 div.sk-serial::before {content: \"\";position: absolute;border-left: 1px solid gray;box-sizing: border-box;top: 0;bottom: 0;left: 50%;z-index: 0;}#sk-container-id-9 div.sk-serial {display: flex;flex-direction: column;align-items: center;background-color: white;padding-right: 0.2em;padding-left: 0.2em;position: relative;}#sk-container-id-9 div.sk-item {position: relative;z-index: 1;}#sk-container-id-9 div.sk-parallel {display: flex;align-items: stretch;justify-content: center;background-color: white;position: relative;}#sk-container-id-9 div.sk-item::before, #sk-container-id-9 div.sk-parallel-item::before {content: \"\";position: absolute;border-left: 1px solid gray;box-sizing: border-box;top: 0;bottom: 0;left: 50%;z-index: -1;}#sk-container-id-9 div.sk-parallel-item {display: flex;flex-direction: column;z-index: 1;position: relative;background-color: white;}#sk-container-id-9 div.sk-parallel-item:first-child::after {align-self: flex-end;width: 50%;}#sk-container-id-9 div.sk-parallel-item:last-child::after {align-self: flex-start;width: 50%;}#sk-container-id-9 div.sk-parallel-item:only-child::after {width: 0;}#sk-container-id-9 div.sk-dashed-wrapped {border: 1px dashed gray;margin: 0 0.4em 0.5em 0.4em;box-sizing: border-box;padding-bottom: 0.4em;background-color: white;}#sk-container-id-9 div.sk-label label {font-family: monospace;font-weight: bold;display: inline-block;line-height: 1.2em;}#sk-container-id-9 div.sk-label-container {text-align: center;}#sk-container-id-9 div.sk-container {/* jupyter's `normalize.less` sets `[hidden] { display: none; }` but bootstrap.min.css set `[hidden] { display: none !important; }` so we also need the `!important` here to be able to override the default hidden behavior on the sphinx rendered scikit-learn.org. See: https://github.com/scikit-learn/scikit-learn/issues/21755 */display: inline-block !important;position: relative;}#sk-container-id-9 div.sk-text-repr-fallback {display: none;}</style><div id=\"sk-container-id-9\" class=\"sk-top-container\"><div class=\"sk-text-repr-fallback\"><pre>RandomForestRegressor(max_depth=20, min_samples_leaf=3, min_samples_split=6,\n",
              "                      n_estimators=59, random_state=42)</pre><b>In a Jupyter environment, please rerun this cell to show the HTML representation or trust the notebook. <br />On GitHub, the HTML representation is unable to render, please try loading this page with nbviewer.org.</b></div><div class=\"sk-container\" hidden><div class=\"sk-item\"><div class=\"sk-estimator sk-toggleable\"><input class=\"sk-toggleable__control sk-hidden--visually\" id=\"sk-estimator-id-9\" type=\"checkbox\" checked><label for=\"sk-estimator-id-9\" class=\"sk-toggleable__label sk-toggleable__label-arrow\">RandomForestRegressor</label><div class=\"sk-toggleable__content\"><pre>RandomForestRegressor(max_depth=20, min_samples_leaf=3, min_samples_split=6,\n",
              "                      n_estimators=59, random_state=42)</pre></div></div></div></div></div>"
            ],
            "text/plain": [
              "RandomForestRegressor(max_depth=20, min_samples_leaf=3, min_samples_split=6,\n",
              "                      n_estimators=59, random_state=42)"
            ]
          },
          "execution_count": 66,
          "metadata": {},
          "output_type": "execute_result"
        }
      ],
      "source": [
        "# Fitting Random forest model on selected features\n",
        "RFRT.fit(X_train_selected,y_train)"
      ]
    },
    {
      "cell_type": "code",
      "execution_count": null,
      "id": "3018f883",
      "metadata": {
        "execution": {
          "iopub.execute_input": "2023-12-13T05:38:57.074912Z",
          "iopub.status.busy": "2023-12-13T05:38:57.074122Z",
          "iopub.status.idle": "2023-12-13T05:39:02.153729Z",
          "shell.execute_reply": "2023-12-13T05:39:02.151807Z"
        },
        "papermill": {
          "duration": 5.14083,
          "end_time": "2023-12-13T05:39:02.156399",
          "exception": false,
          "start_time": "2023-12-13T05:38:57.015569",
          "status": "completed"
        },
        "tags": [],
        "id": "3018f883",
        "outputId": "1f0fcc71-13f7-40df-d858-0fedf5e5274c"
      },
      "outputs": [
        {
          "name": "stdout",
          "output_type": "stream",
          "text": [
            "Score on train data : 0.970275006608441\n",
            "MSE TRAINING : 19.18309373931774\n",
            "Score on validation data : 0.9561461119607418\n",
            "MSE Validation : 28.5382750991779\n"
          ]
        }
      ],
      "source": [
        "#Regression Metrics\n",
        "\n",
        "print(\"Score on train data :\",RFRT.score(X_train_selected,y_train))\n",
        "print(\"MSE TRAINING :\",mean_squared_error(y_train,RFRT.predict(X_train_selected)))\n",
        "print(\"Score on validation data :\",RFRT.score(X_val_selected,y_val))\n",
        "print(\"MSE Validation :\",mean_squared_error(y_val,RFRT.predict(X_val_selected)))"
      ]
    },
    {
      "cell_type": "markdown",
      "id": "cbd58cae",
      "metadata": {
        "papermill": {
          "duration": 0.058724,
          "end_time": "2023-12-13T05:39:02.274475",
          "exception": false,
          "start_time": "2023-12-13T05:39:02.215751",
          "status": "completed"
        },
        "tags": [],
        "id": "cbd58cae"
      },
      "source": [
        "# MODEL 5 XGBOOST"
      ]
    },
    {
      "cell_type": "code",
      "execution_count": null,
      "id": "de34ae43",
      "metadata": {
        "execution": {
          "iopub.execute_input": "2023-12-13T05:39:02.393577Z",
          "iopub.status.busy": "2023-12-13T05:39:02.392863Z",
          "iopub.status.idle": "2023-12-13T05:39:12.335220Z",
          "shell.execute_reply": "2023-12-13T05:39:12.334262Z"
        },
        "papermill": {
          "duration": 10.005257,
          "end_time": "2023-12-13T05:39:12.337878",
          "exception": false,
          "start_time": "2023-12-13T05:39:02.332621",
          "status": "completed"
        },
        "tags": [],
        "id": "de34ae43",
        "outputId": "b0283b77-4ea2-40fe-c0d7-e6c4e70ade20"
      },
      "outputs": [
        {
          "data": {
            "text/html": [
              "<style>#sk-container-id-10 {color: black;background-color: white;}#sk-container-id-10 pre{padding: 0;}#sk-container-id-10 div.sk-toggleable {background-color: white;}#sk-container-id-10 label.sk-toggleable__label {cursor: pointer;display: block;width: 100%;margin-bottom: 0;padding: 0.3em;box-sizing: border-box;text-align: center;}#sk-container-id-10 label.sk-toggleable__label-arrow:before {content: \"▸\";float: left;margin-right: 0.25em;color: #696969;}#sk-container-id-10 label.sk-toggleable__label-arrow:hover:before {color: black;}#sk-container-id-10 div.sk-estimator:hover label.sk-toggleable__label-arrow:before {color: black;}#sk-container-id-10 div.sk-toggleable__content {max-height: 0;max-width: 0;overflow: hidden;text-align: left;background-color: #f0f8ff;}#sk-container-id-10 div.sk-toggleable__content pre {margin: 0.2em;color: black;border-radius: 0.25em;background-color: #f0f8ff;}#sk-container-id-10 input.sk-toggleable__control:checked~div.sk-toggleable__content {max-height: 200px;max-width: 100%;overflow: auto;}#sk-container-id-10 input.sk-toggleable__control:checked~label.sk-toggleable__label-arrow:before {content: \"▾\";}#sk-container-id-10 div.sk-estimator input.sk-toggleable__control:checked~label.sk-toggleable__label {background-color: #d4ebff;}#sk-container-id-10 div.sk-label input.sk-toggleable__control:checked~label.sk-toggleable__label {background-color: #d4ebff;}#sk-container-id-10 input.sk-hidden--visually {border: 0;clip: rect(1px 1px 1px 1px);clip: rect(1px, 1px, 1px, 1px);height: 1px;margin: -1px;overflow: hidden;padding: 0;position: absolute;width: 1px;}#sk-container-id-10 div.sk-estimator {font-family: monospace;background-color: #f0f8ff;border: 1px dotted black;border-radius: 0.25em;box-sizing: border-box;margin-bottom: 0.5em;}#sk-container-id-10 div.sk-estimator:hover {background-color: #d4ebff;}#sk-container-id-10 div.sk-parallel-item::after {content: \"\";width: 100%;border-bottom: 1px solid gray;flex-grow: 1;}#sk-container-id-10 div.sk-label:hover label.sk-toggleable__label {background-color: #d4ebff;}#sk-container-id-10 div.sk-serial::before {content: \"\";position: absolute;border-left: 1px solid gray;box-sizing: border-box;top: 0;bottom: 0;left: 50%;z-index: 0;}#sk-container-id-10 div.sk-serial {display: flex;flex-direction: column;align-items: center;background-color: white;padding-right: 0.2em;padding-left: 0.2em;position: relative;}#sk-container-id-10 div.sk-item {position: relative;z-index: 1;}#sk-container-id-10 div.sk-parallel {display: flex;align-items: stretch;justify-content: center;background-color: white;position: relative;}#sk-container-id-10 div.sk-item::before, #sk-container-id-10 div.sk-parallel-item::before {content: \"\";position: absolute;border-left: 1px solid gray;box-sizing: border-box;top: 0;bottom: 0;left: 50%;z-index: -1;}#sk-container-id-10 div.sk-parallel-item {display: flex;flex-direction: column;z-index: 1;position: relative;background-color: white;}#sk-container-id-10 div.sk-parallel-item:first-child::after {align-self: flex-end;width: 50%;}#sk-container-id-10 div.sk-parallel-item:last-child::after {align-self: flex-start;width: 50%;}#sk-container-id-10 div.sk-parallel-item:only-child::after {width: 0;}#sk-container-id-10 div.sk-dashed-wrapped {border: 1px dashed gray;margin: 0 0.4em 0.5em 0.4em;box-sizing: border-box;padding-bottom: 0.4em;background-color: white;}#sk-container-id-10 div.sk-label label {font-family: monospace;font-weight: bold;display: inline-block;line-height: 1.2em;}#sk-container-id-10 div.sk-label-container {text-align: center;}#sk-container-id-10 div.sk-container {/* jupyter's `normalize.less` sets `[hidden] { display: none; }` but bootstrap.min.css set `[hidden] { display: none !important; }` so we also need the `!important` here to be able to override the default hidden behavior on the sphinx rendered scikit-learn.org. See: https://github.com/scikit-learn/scikit-learn/issues/21755 */display: inline-block !important;position: relative;}#sk-container-id-10 div.sk-text-repr-fallback {display: none;}</style><div id=\"sk-container-id-10\" class=\"sk-top-container\"><div class=\"sk-text-repr-fallback\"><pre>XGBRegressor(base_score=None, booster=None, callbacks=None,\n",
              "             colsample_bylevel=None, colsample_bynode=None,\n",
              "             colsample_bytree=None, early_stopping_rounds=None,\n",
              "             enable_categorical=False, eval_metric=None, feature_types=None,\n",
              "             gamma=None, gpu_id=None, grow_policy=None, importance_type=None,\n",
              "             interaction_constraints=None, learning_rate=None, max_bin=None,\n",
              "             max_cat_threshold=None, max_cat_to_onehot=None,\n",
              "             max_delta_step=None, max_depth=None, max_leaves=None,\n",
              "             min_child_weight=None, missing=nan, monotone_constraints=None,\n",
              "             n_estimators=100, n_jobs=None, num_parallel_tree=None,\n",
              "             predictor=None, random_state=42, ...)</pre><b>In a Jupyter environment, please rerun this cell to show the HTML representation or trust the notebook. <br />On GitHub, the HTML representation is unable to render, please try loading this page with nbviewer.org.</b></div><div class=\"sk-container\" hidden><div class=\"sk-item\"><div class=\"sk-estimator sk-toggleable\"><input class=\"sk-toggleable__control sk-hidden--visually\" id=\"sk-estimator-id-10\" type=\"checkbox\" checked><label for=\"sk-estimator-id-10\" class=\"sk-toggleable__label sk-toggleable__label-arrow\">XGBRegressor</label><div class=\"sk-toggleable__content\"><pre>XGBRegressor(base_score=None, booster=None, callbacks=None,\n",
              "             colsample_bylevel=None, colsample_bynode=None,\n",
              "             colsample_bytree=None, early_stopping_rounds=None,\n",
              "             enable_categorical=False, eval_metric=None, feature_types=None,\n",
              "             gamma=None, gpu_id=None, grow_policy=None, importance_type=None,\n",
              "             interaction_constraints=None, learning_rate=None, max_bin=None,\n",
              "             max_cat_threshold=None, max_cat_to_onehot=None,\n",
              "             max_delta_step=None, max_depth=None, max_leaves=None,\n",
              "             min_child_weight=None, missing=nan, monotone_constraints=None,\n",
              "             n_estimators=100, n_jobs=None, num_parallel_tree=None,\n",
              "             predictor=None, random_state=42, ...)</pre></div></div></div></div></div>"
            ],
            "text/plain": [
              "XGBRegressor(base_score=None, booster=None, callbacks=None,\n",
              "             colsample_bylevel=None, colsample_bynode=None,\n",
              "             colsample_bytree=None, early_stopping_rounds=None,\n",
              "             enable_categorical=False, eval_metric=None, feature_types=None,\n",
              "             gamma=None, gpu_id=None, grow_policy=None, importance_type=None,\n",
              "             interaction_constraints=None, learning_rate=None, max_bin=None,\n",
              "             max_cat_threshold=None, max_cat_to_onehot=None,\n",
              "             max_delta_step=None, max_depth=None, max_leaves=None,\n",
              "             min_child_weight=None, missing=nan, monotone_constraints=None,\n",
              "             n_estimators=100, n_jobs=None, num_parallel_tree=None,\n",
              "             predictor=None, random_state=42, ...)"
            ]
          },
          "execution_count": 68,
          "metadata": {},
          "output_type": "execute_result"
        }
      ],
      "source": [
        "import xgboost as xgb\n",
        "model = xgb.XGBRegressor(objective='reg:squarederror', random_state=42)\n",
        "model.fit(X_train_selected,y_train)"
      ]
    },
    {
      "cell_type": "code",
      "execution_count": null,
      "id": "35118c51",
      "metadata": {
        "execution": {
          "iopub.execute_input": "2023-12-13T05:39:12.458991Z",
          "iopub.status.busy": "2023-12-13T05:39:12.458231Z",
          "iopub.status.idle": "2023-12-13T05:39:12.645000Z",
          "shell.execute_reply": "2023-12-13T05:39:12.644059Z"
        },
        "papermill": {
          "duration": 0.249878,
          "end_time": "2023-12-13T05:39:12.647837",
          "exception": false,
          "start_time": "2023-12-13T05:39:12.397959",
          "status": "completed"
        },
        "tags": [],
        "id": "35118c51",
        "outputId": "d0588f80-28f6-4919-beb8-72ad7a39c025"
      },
      "outputs": [
        {
          "name": "stdout",
          "output_type": "stream",
          "text": [
            "Training score 0.9592331082521933\n",
            "Training MSE 16.890675243609763\n",
            "Validation score 0.9738272034314146\n",
            "VAlidation MSE 26.529387100086048\n"
          ]
        }
      ],
      "source": [
        "y_train_pred=model.predict(X_train_selected)\n",
        "y_val_pred = model.predict(X_val_selected)\n",
        "\n",
        "print(\"Training score\",r2_score(y_val, y_val_pred))\n",
        "print(\"Training MSE\",mean_squared_error(y_train,y_train_pred))\n",
        "print(\"Validation score\",r2_score(y_train,y_train_pred))\n",
        "print(\"VAlidation MSE\",mean_squared_error(y_val, y_val_pred))\n"
      ]
    },
    {
      "cell_type": "markdown",
      "id": "ac872252",
      "metadata": {
        "papermill": {
          "duration": 0.057948,
          "end_time": "2023-12-13T05:39:12.764417",
          "exception": false,
          "start_time": "2023-12-13T05:39:12.706469",
          "status": "completed"
        },
        "tags": [],
        "id": "ac872252"
      },
      "source": [
        "## XGBOOST TUNING THE HYPERPARAMETERS"
      ]
    },
    {
      "cell_type": "code",
      "execution_count": null,
      "id": "7ce83a54",
      "metadata": {
        "execution": {
          "iopub.execute_input": "2023-12-13T05:39:12.883686Z",
          "iopub.status.busy": "2023-12-13T05:39:12.882949Z",
          "iopub.status.idle": "2023-12-13T05:39:12.890129Z",
          "shell.execute_reply": "2023-12-13T05:39:12.889343Z"
        },
        "papermill": {
          "duration": 0.06931,
          "end_time": "2023-12-13T05:39:12.892314",
          "exception": false,
          "start_time": "2023-12-13T05:39:12.823004",
          "status": "completed"
        },
        "tags": [],
        "id": "7ce83a54",
        "outputId": "46fe7f53-6185-4b3d-83a3-aebb45fe9b41"
      },
      "outputs": [
        {
          "data": {
            "text/plain": [
              "'from sklearn.model_selection import RandomizedSearchCV\\nxg_reg = xgb.XGBRegressor(objective =\\'reg:squarederror\\', random_state=42)\\n\\n# Defining the hyperparameter grid\\nparam_dist = {\\n    \\'learning_rate\\': [0.01, 0.1, 0.2],\\n    \\'n_estimators\\': [100, 200, 300],\\n    \\'max_depth\\': [3, 5, 7],\\n    \\'min_child_weight\\': [1, 3, 5],\\n    \\'subsample\\': [0.8, 1.0],\\n    \\'colsample_bytree\\': [0.8, 1.0],\\n}\\n\\n# Setting up RandomizedSearchCV\\nrandom_search = RandomizedSearchCV(xg_reg, param_distributions=param_dist, n_iter=100, cv=5, random_state=42, n_jobs=-1, scoring=\\'neg_mean_squared_error\\')\\n\\n# Fitting RandomizedSearchCV on training data\\nrandom_search.fit(X_train_transformed, y_train)\\n\\n# Printing the best hyperparameters\\nprint(\"Best hyperparameters:\", random_search.best_params_)\\n\\n# Getting the best model\\nbest_xg_model = random_search.best_estimator_\\n\\n# predictions on the test set\\ny_val_pred = best_xg_model.predict(X_val_transformed)\\n\\n# Evaluating the performance on the val set\\nmse1 = mean_squared_error(y_val, y_val_pred)\\nprint(f\"Mean Squared Error on valSet: {mse}\")\\nprint(\"R2 on train\",best_xg_model.score(X_train_transformed,y_train))\\nprint(\"R2 on vali set\",best_xg_model.score(X_val_transformed,y_val))'"
            ]
          },
          "execution_count": 70,
          "metadata": {},
          "output_type": "execute_result"
        }
      ],
      "source": [
        "'''from sklearn.model_selection import RandomizedSearchCV\n",
        "xg_reg = xgb.XGBRegressor(objective ='reg:squarederror', random_state=42)\n",
        "\n",
        "# Defining the hyperparameter grid\n",
        "param_dist = {\n",
        "    'learning_rate': [0.01, 0.1, 0.2],\n",
        "    'n_estimators': [100, 200, 300],\n",
        "    'max_depth': [3, 5, 7],\n",
        "    'min_child_weight': [1, 3, 5],\n",
        "    'subsample': [0.8, 1.0],\n",
        "    'colsample_bytree': [0.8, 1.0],\n",
        "}\n",
        "\n",
        "# Setting up RandomizedSearchCV\n",
        "random_search = RandomizedSearchCV(xg_reg, param_distributions=param_dist, n_iter=100, cv=5, random_state=42, n_jobs=-1, scoring='neg_mean_squared_error')\n",
        "\n",
        "# Fitting RandomizedSearchCV on training data\n",
        "random_search.fit(X_train_transformed, y_train)\n",
        "\n",
        "# Printing the best hyperparameters\n",
        "print(\"Best hyperparameters:\", random_search.best_params_)\n",
        "\n",
        "# Getting the best model\n",
        "best_xg_model = random_search.best_estimator_\n",
        "\n",
        "# predictions on the test set\n",
        "y_val_pred = best_xg_model.predict(X_val_transformed)\n",
        "\n",
        "# Evaluating the performance on the val set\n",
        "mse1 = mean_squared_error(y_val, y_val_pred)\n",
        "print(f\"Mean Squared Error on valSet: {mse}\")\n",
        "print(\"R2 on train\",best_xg_model.score(X_train_transformed,y_train))\n",
        "print(\"R2 on vali set\",best_xg_model.score(X_val_transformed,y_val))'''"
      ]
    },
    {
      "cell_type": "markdown",
      "id": "40a64ccb",
      "metadata": {
        "papermill": {
          "duration": 0.058095,
          "end_time": "2023-12-13T05:39:13.009744",
          "exception": false,
          "start_time": "2023-12-13T05:39:12.951649",
          "status": "completed"
        },
        "tags": [],
        "id": "40a64ccb"
      },
      "source": [
        "### Best hyperparameters: {'subsample': 1.0, 'n_estimators': 300, 'min_child_weight': 1, 'max_depth': 5, 'learning_rate': 0.1, 'colsample_bytree': 0.8}"
      ]
    },
    {
      "cell_type": "code",
      "execution_count": null,
      "id": "ad551a60",
      "metadata": {
        "execution": {
          "iopub.execute_input": "2023-12-13T05:39:13.128802Z",
          "iopub.status.busy": "2023-12-13T05:39:13.128107Z",
          "iopub.status.idle": "2023-12-13T05:39:35.905042Z",
          "shell.execute_reply": "2023-12-13T05:39:35.904100Z"
        },
        "papermill": {
          "duration": 22.839965,
          "end_time": "2023-12-13T05:39:35.908222",
          "exception": false,
          "start_time": "2023-12-13T05:39:13.068257",
          "status": "completed"
        },
        "tags": [],
        "id": "ad551a60"
      },
      "outputs": [],
      "source": [
        "# TRYING THE TUNED XGBOOST\n",
        "xgbt = xgb.XGBRegressor(objective='reg:squarederror', random_state=42,subsample= 1.0, n_estimators= 300, min_child_weight= 1, max_depth= 5, learning_rate= 0.1, colsample_bytree= 0.8)\n",
        "xgbt.fit(X_train_selected,y_train)\n",
        "y_train_pred=xgbt.predict(X_train_selected)\n",
        "y_val_pred = xgbt.predict(X_val_selected)"
      ]
    },
    {
      "cell_type": "code",
      "execution_count": null,
      "id": "0338a1d1",
      "metadata": {
        "execution": {
          "iopub.execute_input": "2023-12-13T05:39:36.028335Z",
          "iopub.status.busy": "2023-12-13T05:39:36.027874Z",
          "iopub.status.idle": "2023-12-13T05:39:36.040140Z",
          "shell.execute_reply": "2023-12-13T05:39:36.038862Z"
        },
        "papermill": {
          "duration": 0.073967,
          "end_time": "2023-12-13T05:39:36.042375",
          "exception": false,
          "start_time": "2023-12-13T05:39:35.968408",
          "status": "completed"
        },
        "tags": [],
        "id": "0338a1d1",
        "outputId": "28ba533b-ffe3-4157-f8a8-7a0d903f26cb"
      },
      "outputs": [
        {
          "name": "stdout",
          "output_type": "stream",
          "text": [
            "Training score 0.9601666143508062\n",
            "Training MSE 20.857190308069793\n",
            "Validation score 0.9676809250635549\n",
            "VAlidation MSE 25.921900397307848\n"
          ]
        }
      ],
      "source": [
        "# Regression Metrics\n",
        "print(\"Training score\",r2_score(y_val, y_val_pred))\n",
        "print(\"Training MSE\",mean_squared_error(y_train,y_train_pred))\n",
        "print(\"Validation score\",r2_score(y_train,y_train_pred))\n",
        "print(\"VAlidation MSE\",mean_squared_error(y_val, y_val_pred))"
      ]
    },
    {
      "cell_type": "markdown",
      "id": "892b27b0",
      "metadata": {
        "papermill": {
          "duration": 0.058008,
          "end_time": "2023-12-13T05:39:36.158605",
          "exception": false,
          "start_time": "2023-12-13T05:39:36.100597",
          "status": "completed"
        },
        "tags": [],
        "id": "892b27b0"
      },
      "source": [
        "### The score reduced but MSE on validation set reduced."
      ]
    },
    {
      "cell_type": "markdown",
      "id": "7856a87e",
      "metadata": {
        "papermill": {
          "duration": 0.060686,
          "end_time": "2023-12-13T05:39:36.280458",
          "exception": false,
          "start_time": "2023-12-13T05:39:36.219772",
          "status": "completed"
        },
        "tags": [],
        "id": "7856a87e"
      },
      "source": [
        "## TRAINING XGBOOST ON FULL TRAIN DATA"
      ]
    },
    {
      "cell_type": "code",
      "execution_count": null,
      "id": "3609d7e4",
      "metadata": {
        "execution": {
          "iopub.execute_input": "2023-12-13T05:39:36.401962Z",
          "iopub.status.busy": "2023-12-13T05:39:36.401522Z",
          "iopub.status.idle": "2023-12-13T05:40:05.146987Z",
          "shell.execute_reply": "2023-12-13T05:40:05.145973Z"
        },
        "papermill": {
          "duration": 28.80985,
          "end_time": "2023-12-13T05:40:05.149785",
          "exception": false,
          "start_time": "2023-12-13T05:39:36.339935",
          "status": "completed"
        },
        "tags": [],
        "id": "3609d7e4",
        "outputId": "8f8d1921-1470-4a0d-d1b8-8697af974c54"
      },
      "outputs": [
        {
          "data": {
            "text/html": [
              "<style>#sk-container-id-11 {color: black;background-color: white;}#sk-container-id-11 pre{padding: 0;}#sk-container-id-11 div.sk-toggleable {background-color: white;}#sk-container-id-11 label.sk-toggleable__label {cursor: pointer;display: block;width: 100%;margin-bottom: 0;padding: 0.3em;box-sizing: border-box;text-align: center;}#sk-container-id-11 label.sk-toggleable__label-arrow:before {content: \"▸\";float: left;margin-right: 0.25em;color: #696969;}#sk-container-id-11 label.sk-toggleable__label-arrow:hover:before {color: black;}#sk-container-id-11 div.sk-estimator:hover label.sk-toggleable__label-arrow:before {color: black;}#sk-container-id-11 div.sk-toggleable__content {max-height: 0;max-width: 0;overflow: hidden;text-align: left;background-color: #f0f8ff;}#sk-container-id-11 div.sk-toggleable__content pre {margin: 0.2em;color: black;border-radius: 0.25em;background-color: #f0f8ff;}#sk-container-id-11 input.sk-toggleable__control:checked~div.sk-toggleable__content {max-height: 200px;max-width: 100%;overflow: auto;}#sk-container-id-11 input.sk-toggleable__control:checked~label.sk-toggleable__label-arrow:before {content: \"▾\";}#sk-container-id-11 div.sk-estimator input.sk-toggleable__control:checked~label.sk-toggleable__label {background-color: #d4ebff;}#sk-container-id-11 div.sk-label input.sk-toggleable__control:checked~label.sk-toggleable__label {background-color: #d4ebff;}#sk-container-id-11 input.sk-hidden--visually {border: 0;clip: rect(1px 1px 1px 1px);clip: rect(1px, 1px, 1px, 1px);height: 1px;margin: -1px;overflow: hidden;padding: 0;position: absolute;width: 1px;}#sk-container-id-11 div.sk-estimator {font-family: monospace;background-color: #f0f8ff;border: 1px dotted black;border-radius: 0.25em;box-sizing: border-box;margin-bottom: 0.5em;}#sk-container-id-11 div.sk-estimator:hover {background-color: #d4ebff;}#sk-container-id-11 div.sk-parallel-item::after {content: \"\";width: 100%;border-bottom: 1px solid gray;flex-grow: 1;}#sk-container-id-11 div.sk-label:hover label.sk-toggleable__label {background-color: #d4ebff;}#sk-container-id-11 div.sk-serial::before {content: \"\";position: absolute;border-left: 1px solid gray;box-sizing: border-box;top: 0;bottom: 0;left: 50%;z-index: 0;}#sk-container-id-11 div.sk-serial {display: flex;flex-direction: column;align-items: center;background-color: white;padding-right: 0.2em;padding-left: 0.2em;position: relative;}#sk-container-id-11 div.sk-item {position: relative;z-index: 1;}#sk-container-id-11 div.sk-parallel {display: flex;align-items: stretch;justify-content: center;background-color: white;position: relative;}#sk-container-id-11 div.sk-item::before, #sk-container-id-11 div.sk-parallel-item::before {content: \"\";position: absolute;border-left: 1px solid gray;box-sizing: border-box;top: 0;bottom: 0;left: 50%;z-index: -1;}#sk-container-id-11 div.sk-parallel-item {display: flex;flex-direction: column;z-index: 1;position: relative;background-color: white;}#sk-container-id-11 div.sk-parallel-item:first-child::after {align-self: flex-end;width: 50%;}#sk-container-id-11 div.sk-parallel-item:last-child::after {align-self: flex-start;width: 50%;}#sk-container-id-11 div.sk-parallel-item:only-child::after {width: 0;}#sk-container-id-11 div.sk-dashed-wrapped {border: 1px dashed gray;margin: 0 0.4em 0.5em 0.4em;box-sizing: border-box;padding-bottom: 0.4em;background-color: white;}#sk-container-id-11 div.sk-label label {font-family: monospace;font-weight: bold;display: inline-block;line-height: 1.2em;}#sk-container-id-11 div.sk-label-container {text-align: center;}#sk-container-id-11 div.sk-container {/* jupyter's `normalize.less` sets `[hidden] { display: none; }` but bootstrap.min.css set `[hidden] { display: none !important; }` so we also need the `!important` here to be able to override the default hidden behavior on the sphinx rendered scikit-learn.org. See: https://github.com/scikit-learn/scikit-learn/issues/21755 */display: inline-block !important;position: relative;}#sk-container-id-11 div.sk-text-repr-fallback {display: none;}</style><div id=\"sk-container-id-11\" class=\"sk-top-container\"><div class=\"sk-text-repr-fallback\"><pre>XGBRegressor(base_score=None, booster=None, callbacks=None,\n",
              "             colsample_bylevel=None, colsample_bynode=None,\n",
              "             colsample_bytree=0.8, early_stopping_rounds=None,\n",
              "             enable_categorical=False, eval_metric=None, feature_types=None,\n",
              "             gamma=None, gpu_id=None, grow_policy=None, importance_type=None,\n",
              "             interaction_constraints=None, learning_rate=0.1, max_bin=None,\n",
              "             max_cat_threshold=None, max_cat_to_onehot=None,\n",
              "             max_delta_step=None, max_depth=5, max_leaves=None,\n",
              "             min_child_weight=1, missing=nan, monotone_constraints=None,\n",
              "             n_estimators=300, n_jobs=None, num_parallel_tree=None,\n",
              "             predictor=None, random_state=42, ...)</pre><b>In a Jupyter environment, please rerun this cell to show the HTML representation or trust the notebook. <br />On GitHub, the HTML representation is unable to render, please try loading this page with nbviewer.org.</b></div><div class=\"sk-container\" hidden><div class=\"sk-item\"><div class=\"sk-estimator sk-toggleable\"><input class=\"sk-toggleable__control sk-hidden--visually\" id=\"sk-estimator-id-11\" type=\"checkbox\" checked><label for=\"sk-estimator-id-11\" class=\"sk-toggleable__label sk-toggleable__label-arrow\">XGBRegressor</label><div class=\"sk-toggleable__content\"><pre>XGBRegressor(base_score=None, booster=None, callbacks=None,\n",
              "             colsample_bylevel=None, colsample_bynode=None,\n",
              "             colsample_bytree=0.8, early_stopping_rounds=None,\n",
              "             enable_categorical=False, eval_metric=None, feature_types=None,\n",
              "             gamma=None, gpu_id=None, grow_policy=None, importance_type=None,\n",
              "             interaction_constraints=None, learning_rate=0.1, max_bin=None,\n",
              "             max_cat_threshold=None, max_cat_to_onehot=None,\n",
              "             max_delta_step=None, max_depth=5, max_leaves=None,\n",
              "             min_child_weight=1, missing=nan, monotone_constraints=None,\n",
              "             n_estimators=300, n_jobs=None, num_parallel_tree=None,\n",
              "             predictor=None, random_state=42, ...)</pre></div></div></div></div></div>"
            ],
            "text/plain": [
              "XGBRegressor(base_score=None, booster=None, callbacks=None,\n",
              "             colsample_bylevel=None, colsample_bynode=None,\n",
              "             colsample_bytree=0.8, early_stopping_rounds=None,\n",
              "             enable_categorical=False, eval_metric=None, feature_types=None,\n",
              "             gamma=None, gpu_id=None, grow_policy=None, importance_type=None,\n",
              "             interaction_constraints=None, learning_rate=0.1, max_bin=None,\n",
              "             max_cat_threshold=None, max_cat_to_onehot=None,\n",
              "             max_delta_step=None, max_depth=5, max_leaves=None,\n",
              "             min_child_weight=1, missing=nan, monotone_constraints=None,\n",
              "             n_estimators=300, n_jobs=None, num_parallel_tree=None,\n",
              "             predictor=None, random_state=42, ...)"
            ]
          },
          "execution_count": 73,
          "metadata": {},
          "output_type": "execute_result"
        }
      ],
      "source": [
        "X_final=data.drop(\"total_amount\",axis=1)\n",
        "y_final=data[\"total_amount\"]\n",
        "X_final_transformed=CT.fit_transform(X_final)\n",
        "XGF = xgb.XGBRegressor(objective='reg:squarederror', random_state=42,subsample= 1.0, n_estimators= 300, min_child_weight= 1, max_depth= 5, learning_rate= 0.1, colsample_bytree= 0.8)\n",
        "X_final_selected=X_final_transformed[:,selec]\n",
        "XGF.fit(X_final_selected,y_final)"
      ]
    },
    {
      "cell_type": "code",
      "execution_count": null,
      "id": "e02fe97f",
      "metadata": {
        "execution": {
          "iopub.execute_input": "2023-12-13T05:40:05.269246Z",
          "iopub.status.busy": "2023-12-13T05:40:05.268816Z",
          "iopub.status.idle": "2023-12-13T05:40:05.670179Z",
          "shell.execute_reply": "2023-12-13T05:40:05.669339Z"
        },
        "papermill": {
          "duration": 0.464546,
          "end_time": "2023-12-13T05:40:05.672701",
          "exception": false,
          "start_time": "2023-12-13T05:40:05.208155",
          "status": "completed"
        },
        "tags": [],
        "id": "e02fe97f",
        "outputId": "3018b18f-2e58-4bd0-bf71-97d226c2a543"
      },
      "outputs": [
        {
          "name": "stdout",
          "output_type": "stream",
          "text": [
            "0.966610402461459\n"
          ]
        },
        {
          "data": {
            "text/plain": [
              "21.584284867406318"
            ]
          },
          "execution_count": 74,
          "metadata": {},
          "output_type": "execute_result"
        }
      ],
      "source": [
        "# Evaluating\n",
        "from sklearn.metrics import r2_score,mean_squared_error\n",
        "y_final_pred = XGF.predict(X_final_selected)\n",
        "print(r2_score(y_final, y_final_pred))\n",
        "mean_squared_error(y_final, y_final_pred)"
      ]
    },
    {
      "cell_type": "markdown",
      "id": "612819e8",
      "metadata": {
        "papermill": {
          "duration": 0.058625,
          "end_time": "2023-12-13T05:40:05.790334",
          "exception": false,
          "start_time": "2023-12-13T05:40:05.731709",
          "status": "completed"
        },
        "tags": [],
        "id": "612819e8"
      },
      "source": [
        "### Checking Feature Importance through XGBoost"
      ]
    },
    {
      "cell_type": "code",
      "execution_count": null,
      "id": "c018aff1",
      "metadata": {
        "execution": {
          "iopub.execute_input": "2023-12-13T05:40:05.909499Z",
          "iopub.status.busy": "2023-12-13T05:40:05.908789Z",
          "iopub.status.idle": "2023-12-13T05:40:05.924563Z",
          "shell.execute_reply": "2023-12-13T05:40:05.923484Z"
        },
        "papermill": {
          "duration": 0.077671,
          "end_time": "2023-12-13T05:40:05.926692",
          "exception": false,
          "start_time": "2023-12-13T05:40:05.849021",
          "status": "completed"
        },
        "tags": [],
        "id": "c018aff1",
        "outputId": "ff5bcd6a-02d3-45ea-da8c-0086563c90b2"
      },
      "outputs": [
        {
          "data": {
            "text/html": [
              "<div>\n",
              "<style scoped>\n",
              "    .dataframe tbody tr th:only-of-type {\n",
              "        vertical-align: middle;\n",
              "    }\n",
              "\n",
              "    .dataframe tbody tr th {\n",
              "        vertical-align: top;\n",
              "    }\n",
              "\n",
              "    .dataframe thead th {\n",
              "        text-align: right;\n",
              "    }\n",
              "</style>\n",
              "<table border=\"1\" class=\"dataframe\">\n",
              "  <thead>\n",
              "    <tr style=\"text-align: right;\">\n",
              "      <th></th>\n",
              "      <th>Feature</th>\n",
              "      <th>Importance</th>\n",
              "    </tr>\n",
              "  </thead>\n",
              "  <tbody>\n",
              "    <tr>\n",
              "      <th>13</th>\n",
              "      <td>numerical__improvement_surcharge</td>\n",
              "      <td>0.294820</td>\n",
              "    </tr>\n",
              "    <tr>\n",
              "      <th>8</th>\n",
              "      <td>numerical__trip_distance</td>\n",
              "      <td>0.281844</td>\n",
              "    </tr>\n",
              "    <tr>\n",
              "      <th>12</th>\n",
              "      <td>numerical__tolls_amount</td>\n",
              "      <td>0.119890</td>\n",
              "    </tr>\n",
              "    <tr>\n",
              "      <th>1</th>\n",
              "      <td>categorical__RatecodeID_1.0</td>\n",
              "      <td>0.079017</td>\n",
              "    </tr>\n",
              "    <tr>\n",
              "      <th>11</th>\n",
              "      <td>numerical__tip_amount</td>\n",
              "      <td>0.062258</td>\n",
              "    </tr>\n",
              "    <tr>\n",
              "      <th>5</th>\n",
              "      <td>categorical__RatecodeID_99.0</td>\n",
              "      <td>0.046253</td>\n",
              "    </tr>\n",
              "    <tr>\n",
              "      <th>14</th>\n",
              "      <td>numerical__congestion_surcharge</td>\n",
              "      <td>0.022184</td>\n",
              "    </tr>\n",
              "    <tr>\n",
              "      <th>3</th>\n",
              "      <td>categorical__RatecodeID_4.0</td>\n",
              "      <td>0.020803</td>\n",
              "    </tr>\n",
              "    <tr>\n",
              "      <th>2</th>\n",
              "      <td>categorical__RatecodeID_2.0</td>\n",
              "      <td>0.019998</td>\n",
              "    </tr>\n",
              "    <tr>\n",
              "      <th>4</th>\n",
              "      <td>categorical__RatecodeID_5.0</td>\n",
              "      <td>0.014759</td>\n",
              "    </tr>\n",
              "    <tr>\n",
              "      <th>10</th>\n",
              "      <td>numerical__extra</td>\n",
              "      <td>0.014587</td>\n",
              "    </tr>\n",
              "    <tr>\n",
              "      <th>6</th>\n",
              "      <td>categorical__payment_type_Credit Card</td>\n",
              "      <td>0.009212</td>\n",
              "    </tr>\n",
              "    <tr>\n",
              "      <th>0</th>\n",
              "      <td>categorical__VendorID_1</td>\n",
              "      <td>0.007807</td>\n",
              "    </tr>\n",
              "    <tr>\n",
              "      <th>9</th>\n",
              "      <td>numerical__ride_duration</td>\n",
              "      <td>0.003651</td>\n",
              "    </tr>\n",
              "    <tr>\n",
              "      <th>7</th>\n",
              "      <td>numerical__passenger_count</td>\n",
              "      <td>0.002916</td>\n",
              "    </tr>\n",
              "  </tbody>\n",
              "</table>\n",
              "</div>"
            ],
            "text/plain": [
              "                                  Feature  Importance\n",
              "13       numerical__improvement_surcharge    0.294820\n",
              "8                numerical__trip_distance    0.281844\n",
              "12                numerical__tolls_amount    0.119890\n",
              "1             categorical__RatecodeID_1.0    0.079017\n",
              "11                  numerical__tip_amount    0.062258\n",
              "5            categorical__RatecodeID_99.0    0.046253\n",
              "14        numerical__congestion_surcharge    0.022184\n",
              "3             categorical__RatecodeID_4.0    0.020803\n",
              "2             categorical__RatecodeID_2.0    0.019998\n",
              "4             categorical__RatecodeID_5.0    0.014759\n",
              "10                       numerical__extra    0.014587\n",
              "6   categorical__payment_type_Credit Card    0.009212\n",
              "0                 categorical__VendorID_1    0.007807\n",
              "9                numerical__ride_duration    0.003651\n",
              "7              numerical__passenger_count    0.002916"
            ]
          },
          "execution_count": 75,
          "metadata": {},
          "output_type": "execute_result"
        }
      ],
      "source": [
        "#Checking feature importances\n",
        "feature_importances = XGF.feature_importances_\n",
        "feature_names = CT.get_feature_names_out()[selec]\n",
        "feature_importance_df = pd.DataFrame({'Feature': feature_names, 'Importance': feature_importances})\n",
        "feature_importance_df = feature_importance_df.sort_values(by='Importance', ascending=False)\n",
        "feature_importance_df"
      ]
    },
    {
      "cell_type": "markdown",
      "id": "38cb43fa",
      "metadata": {
        "papermill": {
          "duration": 0.058643,
          "end_time": "2023-12-13T05:40:06.043960",
          "exception": false,
          "start_time": "2023-12-13T05:40:05.985317",
          "status": "completed"
        },
        "tags": [],
        "id": "38cb43fa"
      },
      "source": [
        "## Test Datset preprocessing and prediction"
      ]
    },
    {
      "cell_type": "code",
      "execution_count": null,
      "id": "d9d8b271",
      "metadata": {
        "execution": {
          "iopub.execute_input": "2023-12-13T05:40:06.163643Z",
          "iopub.status.busy": "2023-12-13T05:40:06.162807Z",
          "iopub.status.idle": "2023-12-13T05:40:06.287381Z",
          "shell.execute_reply": "2023-12-13T05:40:06.286012Z"
        },
        "papermill": {
          "duration": 0.187687,
          "end_time": "2023-12-13T05:40:06.290386",
          "exception": false,
          "start_time": "2023-12-13T05:40:06.102699",
          "status": "completed"
        },
        "tags": [],
        "id": "d9d8b271"
      },
      "outputs": [],
      "source": [
        "# Transforming the test data\n",
        "test_transformed=CT.transform(test)\n",
        "test_selected=test_transformed[:,selec]"
      ]
    },
    {
      "cell_type": "code",
      "execution_count": null,
      "id": "d8c1dee5",
      "metadata": {
        "execution": {
          "iopub.execute_input": "2023-12-13T05:40:06.412931Z",
          "iopub.status.busy": "2023-12-13T05:40:06.412163Z",
          "iopub.status.idle": "2023-12-13T05:40:06.545161Z",
          "shell.execute_reply": "2023-12-13T05:40:06.544127Z"
        },
        "papermill": {
          "duration": 0.198181,
          "end_time": "2023-12-13T05:40:06.547817",
          "exception": false,
          "start_time": "2023-12-13T05:40:06.349636",
          "status": "completed"
        },
        "tags": [],
        "id": "d8c1dee5",
        "outputId": "8922e767-e7d0-44f1-9ba1-2f3e985d02ff"
      },
      "outputs": [
        {
          "name": "stdout",
          "output_type": "stream",
          "text": [
            "(50000,)\n"
          ]
        },
        {
          "data": {
            "text/html": [
              "<div>\n",
              "<style scoped>\n",
              "    .dataframe tbody tr th:only-of-type {\n",
              "        vertical-align: middle;\n",
              "    }\n",
              "\n",
              "    .dataframe tbody tr th {\n",
              "        vertical-align: top;\n",
              "    }\n",
              "\n",
              "    .dataframe thead th {\n",
              "        text-align: right;\n",
              "    }\n",
              "</style>\n",
              "<table border=\"1\" class=\"dataframe\">\n",
              "  <thead>\n",
              "    <tr style=\"text-align: right;\">\n",
              "      <th></th>\n",
              "      <th>ID</th>\n",
              "      <th>total_amount</th>\n",
              "    </tr>\n",
              "  </thead>\n",
              "  <tbody>\n",
              "    <tr>\n",
              "      <th>0</th>\n",
              "      <td>1</td>\n",
              "      <td>34.054512</td>\n",
              "    </tr>\n",
              "    <tr>\n",
              "      <th>1</th>\n",
              "      <td>2</td>\n",
              "      <td>25.050436</td>\n",
              "    </tr>\n",
              "    <tr>\n",
              "      <th>2</th>\n",
              "      <td>3</td>\n",
              "      <td>15.937140</td>\n",
              "    </tr>\n",
              "    <tr>\n",
              "      <th>3</th>\n",
              "      <td>4</td>\n",
              "      <td>14.978506</td>\n",
              "    </tr>\n",
              "    <tr>\n",
              "      <th>4</th>\n",
              "      <td>5</td>\n",
              "      <td>24.338430</td>\n",
              "    </tr>\n",
              "  </tbody>\n",
              "</table>\n",
              "</div>"
            ],
            "text/plain": [
              "   ID  total_amount\n",
              "0   1     34.054512\n",
              "1   2     25.050436\n",
              "2   3     15.937140\n",
              "3   4     14.978506\n",
              "4   5     24.338430"
            ]
          },
          "execution_count": 77,
          "metadata": {},
          "output_type": "execute_result"
        }
      ],
      "source": [
        "y_pred=XGF.predict(test_selected)\n",
        "print(y_pred.shape)\n",
        "output = pd.DataFrame({'ID': np.arange(1,50001), 'total_amount': y_pred})\n",
        "output.head()\n"
      ]
    },
    {
      "cell_type": "code",
      "execution_count": null,
      "id": "d528f8fa",
      "metadata": {
        "execution": {
          "iopub.execute_input": "2023-12-13T05:40:06.668724Z",
          "iopub.status.busy": "2023-12-13T05:40:06.668276Z",
          "iopub.status.idle": "2023-12-13T05:40:06.842001Z",
          "shell.execute_reply": "2023-12-13T05:40:06.840794Z"
        },
        "papermill": {
          "duration": 0.23737,
          "end_time": "2023-12-13T05:40:06.845031",
          "exception": false,
          "start_time": "2023-12-13T05:40:06.607661",
          "status": "completed"
        },
        "tags": [],
        "id": "d528f8fa"
      },
      "outputs": [],
      "source": [
        "output.to_csv(\"submission.csv\", index=False)"
      ]
    },
    {
      "cell_type": "markdown",
      "id": "99522743",
      "metadata": {
        "papermill": {
          "duration": 0.060675,
          "end_time": "2023-12-13T05:40:06.967392",
          "exception": false,
          "start_time": "2023-12-13T05:40:06.906717",
          "status": "completed"
        },
        "tags": [],
        "id": "99522743"
      },
      "source": [
        "# INSIGHTS on Models"
      ]
    },
    {
      "cell_type": "markdown",
      "id": "ccf64e6b",
      "metadata": {
        "papermill": {
          "duration": 0.058731,
          "end_time": "2023-12-13T05:40:07.085346",
          "exception": false,
          "start_time": "2023-12-13T05:40:07.026615",
          "status": "completed"
        },
        "tags": [],
        "id": "ccf64e6b"
      },
      "source": [
        "### 1. Linear Regression models did not perform that well, reason for which might be the violation of the normality assumption by the target variable total_amount, furthermore as we saw in the Correltion heatmap as well the features didn't only had linear relationship with the target variable.           \n",
        "### 2. Decision Tree, Random Forest regressor and the XGBoost Model were the best performing model respectively.\n"
      ]
    },
    {
      "cell_type": "code",
      "execution_count": null,
      "id": "d4d9e540",
      "metadata": {
        "execution": {
          "iopub.execute_input": "2023-12-13T05:40:07.207606Z",
          "iopub.status.busy": "2023-12-13T05:40:07.206867Z",
          "iopub.status.idle": "2023-12-13T05:40:07.223298Z",
          "shell.execute_reply": "2023-12-13T05:40:07.222137Z"
        },
        "papermill": {
          "duration": 0.081412,
          "end_time": "2023-12-13T05:40:07.225691",
          "exception": false,
          "start_time": "2023-12-13T05:40:07.144279",
          "status": "completed"
        },
        "tags": [],
        "id": "d4d9e540",
        "outputId": "74bbf3d3-0d42-43d6-87cb-14def43fb87d"
      },
      "outputs": [
        {
          "data": {
            "text/html": [
              "<div>\n",
              "<style scoped>\n",
              "    .dataframe tbody tr th:only-of-type {\n",
              "        vertical-align: middle;\n",
              "    }\n",
              "\n",
              "    .dataframe tbody tr th {\n",
              "        vertical-align: top;\n",
              "    }\n",
              "\n",
              "    .dataframe thead th {\n",
              "        text-align: right;\n",
              "    }\n",
              "</style>\n",
              "<table border=\"1\" class=\"dataframe\">\n",
              "  <thead>\n",
              "    <tr style=\"text-align: right;\">\n",
              "      <th></th>\n",
              "      <th>R2_train</th>\n",
              "      <th>R2_val</th>\n",
              "      <th>MSE_train</th>\n",
              "      <th>MSE_val</th>\n",
              "    </tr>\n",
              "    <tr>\n",
              "      <th>Model</th>\n",
              "      <th></th>\n",
              "      <th></th>\n",
              "      <th></th>\n",
              "      <th></th>\n",
              "    </tr>\n",
              "  </thead>\n",
              "  <tbody>\n",
              "    <tr>\n",
              "      <th>Decision_Tree</th>\n",
              "      <td>0.9494</td>\n",
              "      <td>0.9409</td>\n",
              "      <td>32.6340</td>\n",
              "      <td>38.4342</td>\n",
              "    </tr>\n",
              "    <tr>\n",
              "      <th>random_forest</th>\n",
              "      <td>0.9703</td>\n",
              "      <td>0.9564</td>\n",
              "      <td>19.1517</td>\n",
              "      <td>28.3957</td>\n",
              "    </tr>\n",
              "    <tr>\n",
              "      <th>XGBoost</th>\n",
              "      <td>0.9592</td>\n",
              "      <td>0.9738</td>\n",
              "      <td>16.8967</td>\n",
              "      <td>26.5294</td>\n",
              "    </tr>\n",
              "  </tbody>\n",
              "</table>\n",
              "</div>"
            ],
            "text/plain": [
              "               R2_train  R2_val  MSE_train  MSE_val\n",
              "Model                                              \n",
              "Decision_Tree    0.9494  0.9409    32.6340  38.4342\n",
              "random_forest    0.9703  0.9564    19.1517  28.3957\n",
              "XGBoost          0.9592  0.9738    16.8967  26.5294"
            ]
          },
          "execution_count": 79,
          "metadata": {},
          "output_type": "execute_result"
        }
      ],
      "source": [
        "model_names = ['Decision_Tree', 'random_forest', 'XGBoost']\n",
        "mse_train = [32.6340, 19.1517, 16.8967]\n",
        "mse_val = [38.4342, 28.3957, 26.5294]\n",
        "r2_train = [0.9494, 0.9703, 0.9592]\n",
        "r2_val = [0.9409, 0.9564, 0.9738]\n",
        "\n",
        "# Creating the DataFrame\n",
        "performance_df = pd.DataFrame({\n",
        "    'Model': model_names,\n",
        "    'R2_train': r2_train,\n",
        "    'R2_val': r2_val,\n",
        "    'MSE_train': mse_train,\n",
        "    'MSE_val': mse_val\n",
        "})\n",
        "\n",
        "# Setting the 'Model' column as the index\n",
        "performance_df.set_index('Model', inplace=True)\n",
        "\n",
        "# Displaying the DataFrame\n",
        "performance_df\n"
      ]
    },
    {
      "cell_type": "code",
      "execution_count": null,
      "id": "e14ad8f2",
      "metadata": {
        "execution": {
          "iopub.execute_input": "2023-12-13T05:40:07.347356Z",
          "iopub.status.busy": "2023-12-13T05:40:07.346949Z",
          "iopub.status.idle": "2023-12-13T05:40:07.582921Z",
          "shell.execute_reply": "2023-12-13T05:40:07.582113Z"
        },
        "papermill": {
          "duration": 0.299328,
          "end_time": "2023-12-13T05:40:07.585517",
          "exception": false,
          "start_time": "2023-12-13T05:40:07.286189",
          "status": "completed"
        },
        "tags": [],
        "id": "e14ad8f2",
        "outputId": "5e289729-7e7f-4fac-8e93-251a76f729c7"
      },
      "outputs": [
        {
          "data": {
            "image/png": "[encoded data removed]",
            "text/plain": [
              "<Figure size 1000x500 with 1 Axes>"
            ]
          },
          "metadata": {},
          "output_type": "display_data"
        }
      ],
      "source": [
        "# Plotting R2 scores on train and val\n",
        "plt.figure(figsize=(10, 5))\n",
        "plt.plot(performance_df.index, performance_df['R2_train'], marker='o', label='R2 Train')\n",
        "plt.plot(performance_df.index, performance_df['R2_val'], marker='o', label='R2 Val')\n",
        "plt.title('R2 Scores on Train and Validation Sets')\n",
        "plt.ylim(0.90,1)\n",
        "plt.xlabel('Model')\n",
        "plt.ylabel('R2 Score')\n",
        "plt.legend()\n",
        "plt.grid(True)\n",
        "plt.show()"
      ]
    },
    {
      "cell_type": "code",
      "execution_count": null,
      "id": "3776aba3",
      "metadata": {
        "execution": {
          "iopub.execute_input": "2023-12-13T05:40:07.709994Z",
          "iopub.status.busy": "2023-12-13T05:40:07.709304Z",
          "iopub.status.idle": "2023-12-13T05:40:07.938260Z",
          "shell.execute_reply": "2023-12-13T05:40:07.937429Z"
        },
        "papermill": {
          "duration": 0.293737,
          "end_time": "2023-12-13T05:40:07.940541",
          "exception": false,
          "start_time": "2023-12-13T05:40:07.646804",
          "status": "completed"
        },
        "tags": [],
        "id": "3776aba3",
        "outputId": "056bbf73-5e82-4293-a813-a79581f6e2ef"
      },
      "outputs": [
        {
          "data": {
            "image/png": "[encoded data removed]",
            "text/plain": [
              "<Figure size 1000x500 with 1 Axes>"
            ]
          },
          "metadata": {},
          "output_type": "display_data"
        }
      ],
      "source": [
        "# Plotting MSEs\n",
        "plt.figure(figsize=(10, 5))\n",
        "plt.plot(performance_df.index, performance_df['MSE_train'], marker='o', label='MSE Train')\n",
        "plt.plot(performance_df.index, performance_df['MSE_val'], marker='o', label='MSE Val')\n",
        "plt.title('MSEs on Train and Validation Sets')\n",
        "plt.ylim(15,40)\n",
        "plt.xlabel('Model')\n",
        "plt.ylabel('MSE')\n",
        "plt.legend()\n",
        "plt.grid(True)\n",
        "plt.show()"
      ]
    }
  ],
  "metadata": {
    "kaggle": {
      "accelerator": "none",
      "dataSources": [
        {
          "databundleVersionId": 6604167,
          "sourceId": 61246,
          "sourceType": "competition"
        }
      ],
      "dockerImageVersionId": 30558,
      "isGpuEnabled": false,
      "isInternetEnabled": true,
      "language": "python",
      "sourceType": "notebook"
    },
    "kernelspec": {
      "display_name": "Python 3",
      "language": "python",
      "name": "python3"
    },
    "language_info": {
      "codemirror_mode": {
        "name": "ipython",
        "version": 3
      },
      "file_extension": ".py",
      "mimetype": "text/x-python",
      "name": "python",
      "nbconvert_exporter": "python",
      "pygments_lexer": "ipython3",
      "version": "3.10.12"
    },
    "papermill": {
      "default_parameters": {},
      "duration": 336.001077,
      "end_time": "2023-12-13T05:40:08.927241",
      "environment_variables": {},
      "exception": null,
      "input_path": "__notebook__.ipynb",
      "output_path": "__notebook__.ipynb",
      "parameters": {},
      "start_time": "2023-12-13T05:34:32.926164",
      "version": "2.4.0"
    },
    "colab": {
      "provenance": []
    }
  },
  "nbformat": 4,
  "nbformat_minor": 5
}